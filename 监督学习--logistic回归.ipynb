{
 "cells": [
  {
   "metadata": {},
   "cell_type": "markdown",
   "source": [
    "### 二元分类介绍\n",
    "| 模块           | 关键内容                                                                                               | 讲解要点                                                       |\n",
    "| ------------ | -------------------------------------------------------------------------------------------------- | ---------------------------------------------------------- |\n",
    "| **什么是分类？**   | 用模型回答“是 / 否”或“属于哪一类”的问题                                                                            | 结果 **$y$** 不是连续数，而是离散类别                                    |\n",
    "| **示例问题**     | - 这封邮件是垃圾邮件吗？<br>- 这笔交易是欺诈吗？<br>- 这枚肿瘤是恶性的吗？                                                       | 每个问题的答案只可能是 **“是 / 否”**                                    |\n",
    "| **输出标签 $y$** | 只能取 **两种值** → 称为 **二元分类**                                                                          | 通常用数字表示：<br>- **0** → False / “否”<br>- **1** → True  / “是” |\n",
    "| **正负类别**     | - **正类 (positive class)**：用 **1** 表示，含义是“该现象存在”<br>- **负类 (negative class)**：用 **0** 表示，含义是“该现象缺失” | “正 / 负”与“好 / 坏”无必然对应，只代表有无                                 |\n",
    "| **为何用 0/1？** | - 便于模型计算（如逻辑回归的 Sigmoid 输出介于 0–1）<br>- 损失函数、评估指标都依赖数值编码                                            |                                                            |\n"
   ],
   "id": "94cd49e6752f0805"
  },
  {
   "metadata": {},
   "cell_type": "markdown",
   "source": [
    "- 为什么线性回归模型在二元分类问题上很糟糕？\n",
    "\n",
    "1. 线性模型不会把输出限制到 0-1\n",
    "2. 分类问题需要决策边界：f(x)<0.5 -> x对应的分类是0； f(x)>=0.5 -> x对应的分类是1\n",
    "3. 由于分类问题的y只有0/1， 很容易来一个新的数据后，对线性模型的参数有大调整，导致决策边界出现很大变化，导致分类的表现更差，而实际情况是这个新数据的出现不应该去改变决策边界\n",
    "\n",
    "线性回归模型在分类问题上的糟糕表现，导致需要其他的数学模型处理分类问题\n",
    "\n"
   ],
   "id": "f9fcdbe301042158"
  },
  {
   "metadata": {},
   "cell_type": "markdown",
   "source": [
    "### logistic回归\n",
    "\n",
    "需要最终输出0-1的值\n",
    "\n",
    "**Sigmoid / Logistic 函数**\n",
    "\n",
    "$$\n",
    "g(z) = \\frac{1}{1 + e^{-z}}, \\qquad 0 < g(z) < 1\n",
    "$$\n",
    "\n",
    "**线性组合**\n",
    "\n",
    "$$\n",
    "z = \\mathbf{w}\\cdot\\mathbf{x} + b\n",
    "$$\n",
    "\n",
    "**逻辑回归输出**\n",
    "\n",
    "$$\n",
    "f_{\\,\\mathbf{w},\\,b}(\\mathbf{x})\n",
    "  = g\\!\\bigl(\\mathbf{w}\\cdot\\mathbf{x} + b\\bigr)\n",
    "  = \\frac{1}{1 + e^{-\\bigl(\\mathbf{w}\\cdot\\mathbf{x} + b\\bigr)}}\n",
    "$$"
   ],
   "id": "e277185798685fd3"
  },
  {
   "metadata": {},
   "cell_type": "markdown",
   "source": [
    "- 逻辑回归输出值的解读\n",
    "\n",
    "| 线性组合 → Sigmoid                                                                              | 输出含义                                                                                  |\n",
    "| ------------------------------------------------------------------------------------------- | ------------------------------------------------------------------------------------- |\n",
    "| $f_{\\,\\mathbf{w},\\,b}(\\mathbf{x}) \\;=\\; \\frac{1}{1+e^{-(\\mathbf{w}\\!\\cdot\\!\\mathbf{x}+b)}}$ | 这就是 **“预测为 1 的概率”**，记作  $\\displaystyle P\\bigl(y=1 \\mid \\mathbf{x};\\mathbf{w},b\\bigr)$ |\n",
    "\n",
    "* 记号：\n",
    "\n",
    "  * $\\mathbf{x}$：输入特征向量\n",
    "  * $y$：标签，0 或 1\n",
    "  * $\\mathbf{w}, b$：模型参数\n",
    "\n",
    "\n",
    "\n",
    "- 概率视角\n",
    "\n",
    "$$\n",
    "  f_{\\,\\mathbf{w},\\,b}(\\mathbf{x})\n",
    "  = P(y=1 \\mid \\mathbf{x};\\mathbf{w},b)\n",
    "  $$\n",
    "* 由于 Sigmoid 输出范围 $0\\!<\\!g(z)\\!<\\!1$，自然可解释为概率。\n",
    "* 有 概率完备性：\n",
    "\n",
    "  $$\n",
    "  P(y=0) + P(y=1) = 1\n",
    "  $$\n",
    "\n",
    "- 例子\n",
    "\n",
    "> **例子：肿瘤直径预测恶性**\n",
    ">\n",
    "> * 特征 $x$：肿瘤直径（cm）\n",
    "> * 标签 $y$：\n",
    ">\n",
    ">   * 0 ➔ 良性 (not malignant)\n",
    ">   * 1 ➔ 恶性 (malignant)\n",
    "\n",
    "若模型给出\n",
    "\n",
    "$$\n",
    "f_{\\,\\mathbf{w},\\,b}(\\mathbf{x}) = 0.7\n",
    "$$\n",
    "\n",
    "则可解读为：**该肿瘤为恶性的概率为 70%**。\n",
    "\n",
    "* 若设阈值 0.5，则判定 $y=1$（恶性）。"
   ],
   "id": "9168838e37d008d"
  },
  {
   "metadata": {},
   "cell_type": "markdown",
   "source": [
    "### 决策边界\n",
    "\n",
    "\n",
    "给定逻辑回归模型\n",
    "$$\n",
    "f_{\\,\\mathbf{w},\\,b}(\\mathbf{x}) = g\\!\\bigl(\\mathbf{w}\\!\\cdot\\!\\mathbf{x}+b\\bigr)\n",
    "                                  = \\frac{1}{1 + e^{-\\bigl(\\mathbf{w}\\!\\cdot\\!\\mathbf{x}+b\\bigr)}} ,\n",
    "$$\n",
    "\n",
    "它可解释为\n",
    "\n",
    "$$\n",
    "f_{\\,\\mathbf{w},\\,b}(\\mathbf{x})\n",
    "     \\;=\\;\n",
    "     P\\!\\bigl(y = 1 \\mid \\mathbf{x}; \\mathbf{w}, b\\bigr),\n",
    "$$\n",
    "\n",
    "即“在输入 $\\mathbf{x}$ 下，$y$ 为 1 的概率”。\n",
    "\n",
    "\n",
    "- 0 或 1？—— 使用阈值 (threshold)\n",
    "\n",
    "**选择阈值 0.5**：\n",
    "\n",
    "  $$\n",
    "    \\hat{y} \\;=\\;\n",
    "    \\begin{cases}\n",
    "      1, & f_{\\,\\mathbf{w},\\,b}(\\mathbf{x}) \\,\\ge\\, 0.5 \\\\\n",
    "      0, & f_{\\,\\mathbf{w},\\,b}(\\mathbf{x}) \\,<\\, 0.5\n",
    "    \\end{cases}\n",
    "  $$\n",
    "\n",
    "- 进一步推导何时 $f_{\\,\\mathbf{w},\\,b}(\\mathbf{x}) \\ge 0.5$：\n",
    "\n",
    "  $$\n",
    "  \\begin{aligned}\n",
    "    f_{\\,\\mathbf{w},\\,b}(\\mathbf{x}) \\,\\ge\\, 0.5\n",
    "      \\ &\\Longleftrightarrow\\;\n",
    "      g(z) \\,\\ge\\, 0.5 \\\\\n",
    "      \\ &\\Longleftrightarrow\\;\n",
    "      z = \\mathbf{w}\\!\\cdot\\!\\mathbf{x} + b \\,\\ge\\, 0 ,\n",
    "  \\end{aligned}\n",
    "  $$\n",
    "\n",
    "  于是有\n",
    "\n",
    "  $$\n",
    "    \\hat{y} \\;=\\;\n",
    "    \\begin{cases}\n",
    "      1, & \\mathbf{w}\\!\\cdot\\!\\mathbf{x} + b \\ge 0 \\\\\n",
    "      0, & \\mathbf{w}\\!\\cdot\\!\\mathbf{x} + b < 0 .\n",
    "    \\end{cases}\n",
    "  $$\n",
    "\n",
    "- **结论**：\n",
    "  决策边界由超平面 $\\mathbf{w}\\!\\cdot\\!\\mathbf{x} + b = 0$ 给出；Sigmoid + 阈值 0.5 等价于判断该线性函数的符号。\n"
   ],
   "id": "56937abc19530d9b"
  },
  {
   "metadata": {},
   "cell_type": "markdown",
   "source": [
    "- 决策边界的例子\n",
    "\n",
    "![决策边界图](./images/监督学习-分类1.png)\n",
    "![决策边界图-非线性](./images/监督学习-分类2.png)\n",
    "\n",
    "![决策边界图-非线性2](./images/监督学习-分类3.png)"
   ],
   "id": "58d94459a437ed0a"
  },
  {
   "metadata": {},
   "cell_type": "markdown",
   "source": [
    "- 快速问答：假设你正在开发一款肿瘤检测算法，目的是先行筛查出可能的肿瘤并提交给专家进一步检查。那么，该把判定阈值设置为多少才合适？\n",
    "1. 较高，比如阈值设置为0.9\n",
    "2. 较低，比如阈值设置为0.2"
   ],
   "id": "f79452e26e1fa874"
  },
  {
   "metadata": {},
   "cell_type": "markdown",
   "source": "### 代码绘制决策边界",
   "id": "7c6c5549b7ea6e0d"
  },
  {
   "metadata": {
    "ExecuteTime": {
     "end_time": "2025-07-14T15:44:59.367510Z",
     "start_time": "2025-07-14T15:44:59.034820Z"
    }
   },
   "cell_type": "code",
   "source": [
    "import numpy as np\n",
    "import matplotlib.pyplot as plt"
   ],
   "id": "412f3247045a04bd",
   "outputs": [],
   "execution_count": 6
  },
  {
   "metadata": {},
   "cell_type": "markdown",
   "source": [
    "* **数据集**\n",
    "\n",
    "假设你有如下训练数据集：\n",
    "\n",
    "* 输入变量 `X` 是一个 NumPy 数组，包含 6 条训练样本，每条样本有两个特征\n",
    "* 输出变量 `y` 也是一个 NumPy 数组，同样包含 6 条样本，其取值仅为 `0` 或 `1`\n"
   ],
   "id": "a57082130fa37b9c"
  },
  {
   "metadata": {
    "ExecuteTime": {
     "end_time": "2025-07-14T15:44:59.461223Z",
     "start_time": "2025-07-14T15:44:59.445599Z"
    }
   },
   "cell_type": "code",
   "source": [
    "X = np.array([[0.5, 1.5], [1,1], [1.5, 0.5], [3, 0.5], [2, 2], [1, 2.5]])\n",
    "y = np.array([0, 0, 0, 1, 1, 1]).reshape(-1,1)"
   ],
   "id": "5676264f597894db",
   "outputs": [],
   "execution_count": 7
  },
  {
   "metadata": {
    "ExecuteTime": {
     "end_time": "2025-07-14T15:48:17.879098Z",
     "start_time": "2025-07-14T15:48:17.785444Z"
    }
   },
   "cell_type": "code",
   "source": [
    "# 随堂练习：把X里的每个样本（x0,x1)看成坐标绘制散点图，要求样本对应的分类是0画圆，样本对应的分类是1画叉，绘图如下：\n",
    "fig,ax = plt.subplots(1,1,figsize=(4,4))\n",
    "\n",
    "# TODO: 在ax上绘图\n",
    "\n",
    "\n",
    "# ------- 这里不用修改 ---------------\n",
    "# 设置坐标刻度，x：0-4， y：0-3.5\n",
    "ax.axis([0,4,0,3.5])\n",
    "plt.show()"
   ],
   "id": "665e6f535f3f05c9",
   "outputs": [
    {
     "data": {
      "text/plain": [
       "<Figure size 400x400 with 1 Axes>"
      ],
      "image/png": "[encoded data removed]"
     },
     "metadata": {},
     "output_type": "display_data"
    }
   ],
   "execution_count": 15
  },
  {
   "metadata": {
    "ExecuteTime": {
     "end_time": "2025-07-14T15:51:47.322508Z",
     "start_time": "2025-07-14T15:51:47.218839Z"
    }
   },
   "cell_type": "code",
   "source": [
    "def sigmoid(z):\n",
    "    return 1/(1+np.exp(-z))\n",
    "\n",
    "# 在-10 到 10 画 sigmoid(z)\n",
    "z = np.arange(-10,11)\n",
    "\n",
    "fig,ax = plt.subplots(1,1,figsize=(5,3))\n",
    "\n",
    "# Plot z vs sigmoid(z)\n",
    "ax.plot(z, sigmoid(z), c=\"b\")\n",
    "\n",
    "ax.set_title(\"Sigmoid function\")\n",
    "ax.set_ylabel('sigmoid(z)')\n",
    "ax.set_xlabel('z')\n",
    "plt.show()"
   ],
   "id": "553471c0a7287d5b",
   "outputs": [
    {
     "data": {
      "text/plain": [
       "<Figure size 500x300 with 1 Axes>"
      ],
      "image/png": "[encoded data removed]"
     },
     "metadata": {},
     "output_type": "display_data"
    }
   ],
   "execution_count": 17
  },
  {
   "metadata": {},
   "cell_type": "markdown",
   "source": [
    "* **绘制决策边界**\n",
    "\n",
    "现在看逻辑回归模型是如何进行预测的。\n",
    "\n",
    "* 我们的逻辑回归模型为\n",
    "\n",
    "  $$\n",
    "  f(\\mathbf{x}) \\;=\\; g\\!\\bigl(-3 + x_0 + x_1\\bigr)\n",
    "  $$\n",
    "\n",
    "* 根据前面的推导，当\n",
    "\n",
    "  $$\n",
    "  -3 + x_0 + x_1 \\;\\ge\\; 0\n",
    "  $$\n",
    "\n",
    "  时，模型预测 $y = 1$。\n",
    "\n",
    "下面用图形方式展示这一点。首先绘制方程\n",
    "\n",
    "$$\n",
    "-3 + x_0 + x_1 = 0\n",
    "$$\n",
    "\n",
    "这等价于\n",
    "\n",
    "$$\n",
    "x_1 = 3 - x_0.\n",
    "$$\n"
   ],
   "id": "e9366095d9e062d8"
  },
  {
   "metadata": {
    "ExecuteTime": {
     "end_time": "2025-07-14T16:03:52.443810Z",
     "start_time": "2025-07-14T16:03:52.344358Z"
    }
   },
   "cell_type": "code",
   "source": [
    "fig,ax = plt.subplots(1,1,figsize=(5,4))\n",
    "# 随堂练习：\n",
    "# 1. 把刚才 的把X里的数据看成坐标 画成根据y分类绘制的散点图的代码，定义到一个函数里 ，直接调用函数绘制数据. 函数参数接收 X,y 和 ax（子图对象）\n",
    "# TODO\n",
    "\n",
    "\n",
    "x0 = np.arange(0, 6)\n",
    "# 2. 根据公式 x1 = 3-x0，画决策边界\n",
    "# TODO\n",
    "x1 = ...\n",
    "\n",
    "\n",
    "\n",
    "\n",
    "# ------- 这里不用修改 ---------------\n",
    "ax.axis([0, 4, 0, 3.5])\n",
    "ax.fill_between(x0,x1, alpha=0.2) # 填充在线下面的区域\n",
    "plt.show()\n",
    "\n",
    "# 两个练习实现正确，会得到如下图片："
   ],
   "id": "240fc82a1510d51b",
   "outputs": [
    {
     "data": {
      "text/plain": [
       "<Figure size 500x400 with 1 Axes>"
      ],
      "image/png": "[encoded data removed]"
     },
     "metadata": {},
     "output_type": "display_data"
    }
   ],
   "execution_count": 21
  },
  {
   "metadata": {},
   "cell_type": "code",
   "outputs": [],
   "execution_count": null,
   "source": "",
   "id": "eccb7c8c3266d19f"
  }
 ],
 "metadata": {
  "kernelspec": {
   "display_name": "Python 3",
   "language": "python",
   "name": "python3"
  },
  "language_info": {
   "codemirror_mode": {
    "name": "ipython",
    "version": 2
   },
   "file_extension": ".py",
   "mimetype": "text/x-python",
   "name": "python",
   "nbconvert_exporter": "python",
   "pygments_lexer": "ipython2",
   "version": "2.7.6"
  }
 },
 "nbformat": 4,
 "nbformat_minor": 5
}
