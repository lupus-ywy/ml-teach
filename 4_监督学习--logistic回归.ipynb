{
 "cells": [
  {
   "metadata": {},
   "cell_type": "markdown",
   "source": [
    "### 二元分类介绍\n",
    "| 模块           | 关键内容                                                                                               | 讲解要点                                                       |\n",
    "| ------------ | -------------------------------------------------------------------------------------------------- | ---------------------------------------------------------- |\n",
    "| **什么是分类？**   | 用模型回答“是 / 否”或“属于哪一类”的问题                                                                            | 结果 **$y$** 不是连续数，而是离散类别                                    |\n",
    "| **示例问题**     | - 这封邮件是垃圾邮件吗？<br>- 这笔交易是欺诈吗？<br>- 这枚肿瘤是恶性的吗？                                                       | 每个问题的答案只可能是 **“是 / 否”**                                    |\n",
    "| **输出标签 $y$** | 只能取 **两种值** → 称为 **二元分类**                                                                          | 通常用数字表示：<br>- **0** → False / “否”<br>- **1** → True  / “是” |\n",
    "| **正负类别**     | - **正类 (positive class)**：用 **1** 表示，含义是“该现象存在”<br>- **负类 (negative class)**：用 **0** 表示，含义是“该现象缺失” | “正 / 负”与“好 / 坏”无必然对应，只代表有无                                 |\n",
    "| **为何用 0/1？** | - 便于模型计算（如逻辑回归的 Sigmoid 输出介于 0–1）<br>- 损失函数、评估指标都依赖数值编码                                            |                                                            |\n"
   ],
   "id": "94cd49e6752f0805"
  },
  {
   "metadata": {},
   "cell_type": "markdown",
   "source": [
    "- 为什么线性回归模型在二元分类问题上很糟糕？\n",
    "\n",
    "1. 线性模型不会把输出限制到 0-1\n",
    "2. 分类问题需要决策边界：f(x)<0.5 -> x对应的分类是0； f(x)>=0.5 -> x对应的分类是1\n",
    "3. 由于分类问题的y只有0/1， 很容易来一个新的数据后，对线性模型的参数有大调整，导致决策边界出现很大变化，导致分类的表现更差，而实际情况是这个新数据的出现不应该去改变决策边界\n",
    "\n",
    "线性回归模型在分类问题上的糟糕表现，导致需要其他的数学模型处理分类问题\n",
    "\n"
   ],
   "id": "f9fcdbe301042158"
  },
  {
   "metadata": {},
   "cell_type": "markdown",
   "source": [
    "### logistic回归\n",
    "\n",
    "需要最终输出0-1的值\n",
    "\n",
    "**Sigmoid / Logistic 函数**\n",
    "\n",
    "$$\n",
    "g(z) = \\frac{1}{1 + e^{-z}}, \\qquad 0 < g(z) < 1\n",
    "$$\n",
    "\n",
    "**线性组合**\n",
    "\n",
    "$$\n",
    "z = \\mathbf{w}\\cdot\\mathbf{x} + b\n",
    "$$\n",
    "\n",
    "**逻辑回归输出**\n",
    "\n",
    "$$\n",
    "f_{\\,\\mathbf{w},\\,b}(\\mathbf{x})\n",
    "  = g\\!\\bigl(\\mathbf{w}\\cdot\\mathbf{x} + b\\bigr)\n",
    "  = \\frac{1}{1 + e^{-\\bigl(\\mathbf{w}\\cdot\\mathbf{x} + b\\bigr)}}\n",
    "$$"
   ],
   "id": "e277185798685fd3"
  },
  {
   "metadata": {},
   "cell_type": "markdown",
   "source": [
    "- 逻辑回归输出值的解读\n",
    "\n",
    "| 线性组合 → Sigmoid                                                                              | 输出含义                                                                                  |\n",
    "| ------------------------------------------------------------------------------------------- | ------------------------------------------------------------------------------------- |\n",
    "| $f_{\\,\\mathbf{w},\\,b}(\\mathbf{x}) \\;=\\; \\frac{1}{1+e^{-(\\mathbf{w}\\!\\cdot\\!\\mathbf{x}+b)}}$ | 这就是 **“预测为 1 的概率”**，记作  $\\displaystyle P\\bigl(y=1 \\mid \\mathbf{x};\\mathbf{w},b\\bigr)$ |\n",
    "\n",
    "* 记号：\n",
    "\n",
    "  * $\\mathbf{x}$：输入特征向量\n",
    "  * $y$：标签，0 或 1\n",
    "  * $\\mathbf{w}, b$：模型参数\n",
    "\n",
    "\n",
    "\n",
    "- 概率视角\n",
    "\n",
    "$$\n",
    "  f_{\\,\\mathbf{w},\\,b}(\\mathbf{x})\n",
    "  = P(y=1 \\mid \\mathbf{x};\\mathbf{w},b)\n",
    "  $$\n",
    "* 由于 Sigmoid 输出范围 $0\\!<\\!g(z)\\!<\\!1$，自然可解释为概率。\n",
    "* 有 概率完备性：\n",
    "\n",
    "  $$\n",
    "  P(y=0) + P(y=1) = 1\n",
    "  $$\n",
    "\n",
    "- 例子\n",
    "\n",
    "> **例子：肿瘤直径预测恶性**\n",
    ">\n",
    "> * 特征 $x$：肿瘤直径（cm）\n",
    "> * 标签 $y$：\n",
    ">\n",
    ">   * 0 ➔ 良性 (not malignant)\n",
    ">   * 1 ➔ 恶性 (malignant)\n",
    "\n",
    "若模型给出\n",
    "\n",
    "$$\n",
    "f_{\\,\\mathbf{w},\\,b}(\\mathbf{x}) = 0.7\n",
    "$$\n",
    "\n",
    "则可解读为：**该肿瘤为恶性的概率为 70%**。\n",
    "\n",
    "* 若设阈值 0.5，则判定 $y=1$（恶性）。"
   ],
   "id": "9168838e37d008d"
  },
  {
   "metadata": {},
   "cell_type": "markdown",
   "source": [
    "### 决策边界\n",
    "\n",
    "\n",
    "给定逻辑回归模型\n",
    "$$\n",
    "f_{\\,\\mathbf{w},\\,b}(\\mathbf{x}) = g\\!\\bigl(\\mathbf{w}\\!\\cdot\\!\\mathbf{x}+b\\bigr)\n",
    "                                  = \\frac{1}{1 + e^{-\\bigl(\\mathbf{w}\\!\\cdot\\!\\mathbf{x}+b\\bigr)}} ,\n",
    "$$\n",
    "\n",
    "它可解释为\n",
    "\n",
    "$$\n",
    "f_{\\,\\mathbf{w},\\,b}(\\mathbf{x})\n",
    "     \\;=\\;\n",
    "     P\\!\\bigl(y = 1 \\mid \\mathbf{x}; \\mathbf{w}, b\\bigr),\n",
    "$$\n",
    "\n",
    "即“在输入 $\\mathbf{x}$ 下，$y$ 为 1 的概率”。\n",
    "\n",
    "\n",
    "- 0 或 1？—— 使用阈值 (threshold)\n",
    "\n",
    "**选择阈值 0.5**：\n",
    "\n",
    "  $$\n",
    "    \\hat{y} \\;=\\;\n",
    "    \\begin{cases}\n",
    "      1, & f_{\\,\\mathbf{w},\\,b}(\\mathbf{x}) \\,\\ge\\, 0.5 \\\\\n",
    "      0, & f_{\\,\\mathbf{w},\\,b}(\\mathbf{x}) \\,<\\, 0.5\n",
    "    \\end{cases}\n",
    "  $$\n",
    "\n",
    "- 进一步推导何时 $f_{\\,\\mathbf{w},\\,b}(\\mathbf{x}) \\ge 0.5$：\n",
    "\n",
    "  $$\n",
    "  \\begin{aligned}\n",
    "    f_{\\,\\mathbf{w},\\,b}(\\mathbf{x}) \\,\\ge\\, 0.5\n",
    "      \\ &\\Longleftrightarrow\\;\n",
    "      g(z) \\,\\ge\\, 0.5 \\\\\n",
    "      \\ &\\Longleftrightarrow\\;\n",
    "      z = \\mathbf{w}\\!\\cdot\\!\\mathbf{x} + b \\,\\ge\\, 0 ,\n",
    "  \\end{aligned}\n",
    "  $$\n",
    "\n",
    "  于是有\n",
    "\n",
    "  $$\n",
    "    \\hat{y} \\;=\\;\n",
    "    \\begin{cases}\n",
    "      1, & \\mathbf{w}\\!\\cdot\\!\\mathbf{x} + b \\ge 0 \\\\\n",
    "      0, & \\mathbf{w}\\!\\cdot\\!\\mathbf{x} + b < 0 .\n",
    "    \\end{cases}\n",
    "  $$\n",
    "\n",
    "- **结论**：\n",
    "  决策边界由超平面 $\\mathbf{w}\\!\\cdot\\!\\mathbf{x} + b = 0$ 给出；Sigmoid + 阈值 0.5 等价于判断该线性函数的符号。\n"
   ],
   "id": "56937abc19530d9b"
  },
  {
   "metadata": {},
   "cell_type": "markdown",
   "source": [
    "- 决策边界的例子\n",
    "\n",
    "![决策边界图](./images/监督学习-分类1.png)\n",
    "![决策边界图-非线性](./images/监督学习-分类2.png)\n",
    "\n",
    "![决策边界图-非线性2](./images/监督学习-分类3.png)"
   ],
   "id": "58d94459a437ed0a"
  },
  {
   "metadata": {},
   "cell_type": "markdown",
   "source": [
    "- 快速问答：假设你正在开发一款肿瘤检测算法，目的是先行筛查出可能的肿瘤并提交给专家进一步检查。那么，该把判定阈值设置为多少才合适？\n",
    "1. 较高，比如阈值设置为0.9\n",
    "2. 较低，比如阈值设置为0.2"
   ],
   "id": "f79452e26e1fa874"
  },
  {
   "metadata": {},
   "cell_type": "markdown",
   "source": "### 代码绘制决策边界",
   "id": "7c6c5549b7ea6e0d"
  },
  {
   "metadata": {
    "ExecuteTime": {
     "end_time": "2025-07-15T13:06:06.093732Z",
     "start_time": "2025-07-15T13:06:05.634888Z"
    }
   },
   "cell_type": "code",
   "source": [
    "import numpy as np\n",
    "import matplotlib.pyplot as plt"
   ],
   "id": "412f3247045a04bd",
   "outputs": [],
   "execution_count": 1
  },
  {
   "metadata": {},
   "cell_type": "markdown",
   "source": [
    "* **数据集**\n",
    "\n",
    "假设你有如下训练数据集：\n",
    "\n",
    "* 输入变量 `X` 是一个 NumPy 数组，包含 6 条训练样本，每条样本有两个特征\n",
    "* 输出变量 `y` 也是一个 NumPy 数组，同样包含 6 条样本，其取值仅为 `0` 或 `1`\n"
   ],
   "id": "a57082130fa37b9c"
  },
  {
   "metadata": {
    "ExecuteTime": {
     "end_time": "2025-07-14T15:44:59.461223Z",
     "start_time": "2025-07-14T15:44:59.445599Z"
    }
   },
   "cell_type": "code",
   "source": [
    "X = np.array([[0.5, 1.5], [1,1], [1.5, 0.5], [3, 0.5], [2, 2], [1, 2.5]])\n",
    "y = np.array([0, 0, 0, 1, 1, 1]).reshape(-1,1)"
   ],
   "id": "5676264f597894db",
   "outputs": [],
   "execution_count": 7
  },
  {
   "metadata": {
    "ExecuteTime": {
     "end_time": "2025-07-14T15:48:17.879098Z",
     "start_time": "2025-07-14T15:48:17.785444Z"
    }
   },
   "cell_type": "code",
   "source": [
    "# 随堂练习：把X里的每个样本（x0,x1)看成坐标绘制散点图，要求样本对应的分类是0画圆，样本对应的分类是1画叉，绘图如下：\n",
    "fig,ax = plt.subplots(1,1,figsize=(4,4))\n",
    "\n",
    "# TODO: 在ax上绘图\n",
    "\n",
    "\n",
    "# ------- 这里不用修改 ---------------\n",
    "# 设置坐标刻度，x：0-4， y：0-3.5\n",
    "ax.axis([0,4,0,3.5])\n",
    "plt.show()"
   ],
   "id": "665e6f535f3f05c9",
   "outputs": [
    {
     "data": {
      "text/plain": [
       "<Figure size 400x400 with 1 Axes>"
      ],
      "image/png": "[encoded data removed]"
     },
     "metadata": {},
     "output_type": "display_data"
    }
   ],
   "execution_count": 15
  },
  {
   "metadata": {
    "ExecuteTime": {
     "end_time": "2025-07-14T15:51:47.322508Z",
     "start_time": "2025-07-14T15:51:47.218839Z"
    }
   },
   "cell_type": "code",
   "source": [
    "def sigmoid(z):\n",
    "    return 1/(1+np.exp(-z))\n",
    "\n",
    "# 在-10 到 10 画 sigmoid(z)\n",
    "z = np.arange(-10,11)\n",
    "\n",
    "fig,ax = plt.subplots(1,1,figsize=(5,3))\n",
    "\n",
    "# Plot z vs sigmoid(z)\n",
    "ax.plot(z, sigmoid(z), c=\"b\")\n",
    "\n",
    "ax.set_title(\"Sigmoid function\")\n",
    "ax.set_ylabel('sigmoid(z)')\n",
    "ax.set_xlabel('z')\n",
    "plt.show()"
   ],
   "id": "553471c0a7287d5b",
   "outputs": [
    {
     "data": {
      "text/plain": [
       "<Figure size 500x300 with 1 Axes>"
      ],
      "image/png": "[encoded data removed]"
     },
     "metadata": {},
     "output_type": "display_data"
    }
   ],
   "execution_count": 17
  },
  {
   "metadata": {},
   "cell_type": "markdown",
   "source": [
    "* **绘制决策边界**\n",
    "\n",
    "现在看逻辑回归模型是如何进行预测的。\n",
    "\n",
    "* 我们的逻辑回归模型为\n",
    "\n",
    "  $$\n",
    "  f(\\mathbf{x}) \\;=\\; g\\!\\bigl(-3 + x_0 + x_1\\bigr)\n",
    "  $$\n",
    "\n",
    "* 根据前面的推导，当\n",
    "\n",
    "  $$\n",
    "  -3 + x_0 + x_1 \\;\\ge\\; 0\n",
    "  $$\n",
    "\n",
    "  时，模型预测 $y = 1$。\n",
    "\n",
    "下面用图形方式展示这一点。首先绘制方程\n",
    "\n",
    "$$\n",
    "-3 + x_0 + x_1 = 0\n",
    "$$\n",
    "\n",
    "这等价于\n",
    "\n",
    "$$\n",
    "x_1 = 3 - x_0.\n",
    "$$\n"
   ],
   "id": "e9366095d9e062d8"
  },
  {
   "metadata": {
    "ExecuteTime": {
     "end_time": "2025-07-14T16:03:52.443810Z",
     "start_time": "2025-07-14T16:03:52.344358Z"
    }
   },
   "cell_type": "code",
   "source": [
    "fig,ax = plt.subplots(1,1,figsize=(5,4))\n",
    "# 随堂练习：\n",
    "# 1. 把刚才 的把X里的数据看成坐标 画成根据y分类绘制的散点图的代码，定义到一个函数里 ，直接调用函数绘制数据. 函数参数接收 X,y 和 ax（子图对象）\n",
    "# TODO\n",
    "\n",
    "\n",
    "x0 = np.arange(0, 6)\n",
    "# 2. 根据公式 x1 = 3-x0，画决策边界\n",
    "# TODO\n",
    "x1 = ...\n",
    "\n",
    "\n",
    "\n",
    "\n",
    "# ------- 这里不用修改 ---------------\n",
    "ax.axis([0, 4, 0, 3.5])\n",
    "ax.fill_between(x0,x1, alpha=0.2) # 填充在线下面的区域\n",
    "plt.show()\n",
    "\n",
    "# 两个练习实现正确，会得到如下图片："
   ],
   "id": "240fc82a1510d51b",
   "outputs": [
    {
     "data": {
      "text/plain": [
       "<Figure size 500x400 with 1 Axes>"
      ],
      "image/png": "[encoded data removed]"
     },
     "metadata": {},
     "output_type": "display_data"
    }
   ],
   "execution_count": 21
  },
  {
   "metadata": {},
   "cell_type": "markdown",
   "source": [
    "### 损失函数\n",
    "\n",
    "逻辑回归不适用线性回归的损失函数：$$\n",
    "J(\\mathbf{w},b)=\\frac{1}{2m}\\sum_{i=0}^{m-1}\n",
    "\\Bigl(f_{\\mathbf{w},b}\\bigl(\\mathbf{x}^{(i)}\\bigr)-y^{(i)}\\Bigr)^{2}\n",
    "\\tag{3}$$\n",
    "\n",
    "1. **损失函数形状**\n",
    "\n",
    "   * 线性回归的损失函数是碗形（convex）  —— 只有一个最低点。往下滚一定能滚到谷底。\n",
    "   * 逻辑回归也应用平方误差做损失函数的话，则不是碗形，会有很多局部最小值，梯度下降可能陷入局部最小值\n",
    "\n",
    "2. **用途不同**\n",
    "\n",
    "   * 线性回归要预测一个连续数值，用“距离差的平方”来衡量误差最直观。\n",
    "   * 逻辑回归要预测 0‑1 分类／概率，不需要把误差平方；而是关注分类的概率\n",
    "\n",
    "所以：**同样的平方误差损失函数，在线性回归是好用的碗形函数；放到逻辑回归就变成很多局部最小值，找不到最好解**——这就是为什么逻辑回归通常改用其他函数\n"
   ],
   "id": "d0ef0e0860bb7515"
  },
  {
   "metadata": {},
   "cell_type": "markdown",
   "source": [
    "- 单个样本的损失定义：\n",
    "$$\n",
    "L\\!\\bigl(f_{\\vec w,b}(\\vec x^{(i)}),\\,y^{(i)}\\bigr)=\n",
    "\\begin{cases}\n",
    "-\\;\\log\\!\\bigl(f_{\\vec w,b}(\\vec x^{(i)})\\bigr), & \\text{if } y^{(i)} = 1 \\\\[6pt]\n",
    "-\\;\\log\\!\\bigl(1-f_{\\vec w,b}(\\vec x^{(i)})\\bigr), & \\text{if } y^{(i)} = 0\n",
    "\\end{cases}\n",
    "$$\n",
    "\n",
    "\n",
    "- 为什么选择 $-\\log f(\\mathbf{x})$ 作为 $y=1$ 的损失？\n",
    "\n",
    "1. **单调惩罚**：$-\\log z$ 在 $0<z<1$ 内严格递减，概率越接近 1 损失越小；概率越偏离 1 损失急速增大。\n",
    "2. **零‑极大极限**：\n",
    "\n",
    "   * $f\\rightarrow 1$ ⇒ 损失 $\\rightarrow 0$，最好情况零惩罚；\n",
    "   * $f\\rightarrow 0$ ⇒ 损失 $\\rightarrow +\\infty$，最坏情况无限惩罚。\n",
    "\n",
    "---\n",
    "* **为什么选择 $-\\log\\bigl(1-f(\\mathbf{x})\\bigr)$ 作为 $y=0$ 的损失？**\n",
    "\n",
    "1. **单调惩罚**\n",
    "   $-\\log(1-z)$ 在 $0<z<1$ 区间严格 **递增**：\n",
    "\n",
    "   * 当模型把正类概率 $f(\\mathbf{x})$ 维持在 **接近 0** 时，$(1-f)$ 接近 1，损失最小；\n",
    "   * 一旦模型把 $f(\\mathbf{x})$ 提高（误判为正类的倾向越强），$(1-f)$ 变小，$-\\log(1-f)$ 急速上升，惩罚越大。\n",
    "\n",
    "2. **零‑极大极限**\n",
    "\n",
    "   * $f\\rightarrow 0$ ⇒ $1-f\\rightarrow 1$ ⇒ $-\\log 1 = 0$ → **最佳情况零惩罚**；\n",
    "   * $f\\rightarrow 1$ ⇒ $1-f\\rightarrow 0$ ⇒ $-\\log 0 \\to +\\infty$ → **最坏情况无限惩罚**。\n",
    "\n",
    "\n",
    "\n",
    "> **总结**  预测值越远离标签值，损失越大\n"
   ],
   "id": "38443f294df17648"
  },
  {
   "metadata": {},
   "cell_type": "markdown",
   "source": [
    "**逻辑回归：成本函数（Cost）与单样本损失（Loss）**\n",
    "\n",
    "\n",
    "\n",
    "1. 成本函数\n",
    "\n",
    "$$\n",
    "J(\\,\\vec w,\\,b\\,)\\;=\\;\\frac{1}{m}\\sum_{i=1}^{m}\n",
    "   L\\bigl(f_{\\vec w,b}\\!\\bigl(\\vec x^{(i)}\\bigr),\\,y^{(i)}\\bigr)\n",
    "$$\n",
    "\n",
    "* 其中 $m$ 为训练样本数。\n",
    "* $f_{\\vec w,b}(\\vec x)=\\dfrac{1}{1+e^{-(\\vec w\\cdot\\vec x+b)}}$ 为模型输出的“正类概率”。\n",
    "* **目标**：寻找参数 $\\vec w, b$ 使成本 $J$ 最小。\n",
    "\n",
    "\n",
    "2. 单样本损失\n",
    "\n",
    "$$\n",
    "L\\bigl(f_{\\vec w,b}(\\vec x^{(i)}),\\,y^{(i)}\\bigr)=\n",
    "\\begin{cases}\n",
    "-\\;\\log\\!\\bigl(f_{\\vec w,b}(\\vec x^{(i)})\\bigr), & \\text{若 } y^{(i)} = 1 \\\\[6pt]\n",
    "-\\;\\log\\!\\bigl(1-f_{\\vec w,b}(\\vec x^{(i)})\\bigr), & \\text{若 } y^{(i)} = 0\n",
    "\\end{cases}\n",
    "$$\n",
    "\n",
    "\n",
    "\n",
    " 3. 说明\n",
    "\n",
    "| 词条                    | 含义                                                |\n",
    "|-----------------------| ------------------------------------------------- |\n",
    "| **loss（单样本损失）**       | 单个样本对整体成本的贡献。                                     |\n",
    "| **cost（全部样本损失，代价，成本）** | 全部样本的平均损失，用于评估当前 $\\vec w,b$。                      |\n",
    "| **凸性 (convex，碗状)**    | 当使用上述对数损失时，成本 $J$ 对 $\\vec w,b$ 是凸的 ⇒ 梯度下降可达全局最小值。 |\n",
    "\n",
    "> 用对数损失把每个样本的“错得有多离谱”量化，再取平均构成成本函数，随后通过优化（如梯度下降）寻找成本最低的参数。\n"
   ],
   "id": "52547cf4a75f4923"
  },
  {
   "metadata": {},
   "cell_type": "markdown",
   "source": [
    "- 成本函数的简化写法\n",
    "\n",
    "1.  用“指示系数”把两行合并\n",
    "\n",
    "令 $y\\in\\{0,1\\}$ 本身就作为 **指示器**（indicator）：\n",
    "\n",
    "$$\n",
    "L\\bigl(f(\\mathbf{x}),\\,y\\bigr)\\;=\\;\n",
    "-\\;y\\,\\log f(\\mathbf{x})\\;-\\;(1-y)\\,\\log\\!\\bigl(1-f(\\mathbf{x})\\bigr)\n",
    "$$\n",
    "\n",
    "* 如果 **$y=1$**\n",
    "\n",
    "  $$\n",
    "  L = -1\\cdot\\log f(\\mathbf{x}) \\;-\\;(1-1)\\cdot\\log(1-f)= -\\log f(\\mathbf{x})\n",
    "  $$\n",
    "\n",
    "  第二项被 $0$ 抹掉，只剩正类损失。\n",
    "\n",
    "* 如果 **$y=0$**\n",
    "\n",
    "  $$\n",
    "  L = -0\\cdot\\log f(\\mathbf{x}) \\;-\\;(1-0)\\cdot\\log(1-f)= -\\log\\!\\bigl(1-f(\\mathbf{x})\\bigr)\n",
    "  $$\n",
    "\n",
    "  第一项消失，只剩负类损失。\n",
    "\n",
    "\n",
    "2. 合并公式的意义\n",
    "\n",
    "| 优点         | 说明                                                                                      |\n",
    "| ---------- | --------------------------------------------------------------------------------------- |\n",
    "| **简洁**     | 不必在代码或推导中写两套 if–else 逻辑。                                                                |\n",
    "| **向量化**    | 可以一次性对整批样本计算：$-\\mathbf y^\\top\\!\\log\\mathbf f-\\! (1-\\mathbf y)^\\top\\!\\log(1-\\mathbf f)$。 |\n",
    "| **梯度推导统一** | 对 $\\mathbf w,b$ 求偏导时，只需处理这一行公式即可，简化推导与实现。                                               |\n",
    "\n",
    "\n",
    "> **总结**\n",
    "> 把 $y$ 当作 0‑1 指示器乘到对应项上，自动“关掉”不该出现的对数项，因此两种情况自然合并为一条公式，既简洁又便于计算。\n"
   ],
   "id": "3a289f92f71bb0ed"
  },
  {
   "metadata": {},
   "cell_type": "markdown",
   "source": [
    "- 最终的成本函数\n",
    "\n",
    "1. 单样本损失（Loss）\n",
    "\n",
    "$$\n",
    "\\boxed{\n",
    "\\displaystyle\n",
    "L\\!\\bigl(f_{\\vec w,b}(\\vec x^{(i)}),\\,y^{(i)}\\bigr)\n",
    "  = -\\,y^{(i)}\\,\\log\\!\\bigl(f_{\\vec w,b}(\\vec x^{(i)})\\bigr)\n",
    "    \\;-\\;\\bigl(1-y^{(i)}\\bigr)\\,\n",
    "       \\log\\!\\Bigl(1-f_{\\vec w,b}(\\vec x^{(i)})\\Bigr)\n",
    "}\n",
    "$$\n",
    "\n",
    "\n",
    "\n",
    "2. 总体成本（Cost）\n",
    "\n",
    "$$\n",
    "\\boxed{\n",
    "\\displaystyle\n",
    "J(\\vec w,b)\n",
    "   = \\frac{1}{m}\\sum_{i=1}^{m}\n",
    "       L\\!\\bigl(f_{\\vec w,b}(\\vec x^{(i)}),\\,y^{(i)}\\bigr)\n",
    "   = -\\,\\frac{1}{m}\\sum_{i=1}^{m}\n",
    "       \\Bigl[\n",
    "            y^{(i)}\\,\\log\\!\\bigl(f_{\\vec w,b}(\\vec x^{(i)})\\bigr)\n",
    "            \\;+\\;\n",
    "            \\bigl(1-y^{(i)}\\bigr)\\,\\log\\!\\Bigl(1-f_{\\vec w,b}(\\vec x^{(i)})\\Bigr)\n",
    "       \\Bigr]\n",
    "}\n",
    "$$\n",
    "\n",
    "> **性质**\n",
    ">\n",
    "> * 对参数 $(\\vec w,b)$ 来说，$J$ 是 **凸函数 (convex)**；\n",
    "> * 因此在优化过程中存在 **唯一的全局最小值 (single global minimum)**。\n"
   ],
   "id": "c3f2ae47468a30f8"
  },
  {
   "metadata": {
    "ExecuteTime": {
     "end_time": "2025-07-15T13:06:14.975386Z",
     "start_time": "2025-07-15T13:06:14.738819Z"
    }
   },
   "cell_type": "code",
   "source": [
    "X_train = np.array([[0.5, 1.5], [1,1], [1.5, 0.5], [3, 0.5], [2, 2], [1, 2.5]])  #(m,n)\n",
    "y_train = np.array([0, 0, 0, 1, 1, 1])                                           #(m,)\n",
    "\n",
    "\n",
    "fig,ax = plt.subplots(1,1,figsize=(4,4))\n",
    "plotData(X_train, y_train, ax)\n",
    "\n",
    "ax.axis([0, 4, 0, 3.5])\n",
    "ax.set_ylabel('$x_1$')\n",
    "ax.set_xlabel('$x_0$')\n",
    "plt.show()"
   ],
   "id": "5f1f13dc2d95ed79",
   "outputs": [
    {
     "data": {
      "text/plain": [
       "<Figure size 400x400 with 1 Axes>"
      ],
      "image/png": "[encoded data removed]"
     },
     "metadata": {},
     "output_type": "display_data"
    }
   ],
   "execution_count": 2
  },
  {
   "metadata": {
    "ExecuteTime": {
     "end_time": "2025-07-15T13:32:04.565403Z",
     "start_time": "2025-07-15T13:32:04.551393Z"
    }
   },
   "cell_type": "code",
   "source": [
    "def compute_cost_logistic(X, y, w, b):\n",
    "    \"\"\"\n",
    "    Computes cost\n",
    "\n",
    "    Args:\n",
    "      X (ndarray (m,n)): Data, m examples with n features\n",
    "      y (ndarray (m,)) : target values\n",
    "      w (ndarray (n,)) : model parameters\n",
    "      b (scalar)       : model parameter\n",
    "\n",
    "    Returns:\n",
    "      cost (scalar): cost\n",
    "    \"\"\"\n",
    "    cost = 0.0\n",
    "    # TODO： 实现成本函数，返回损失值\n",
    "    return cost\n",
    "\n",
    "w_test = np.array([1,1])\n",
    "b_test = -3\n",
    "assert np.isclose(compute_cost_logistic(X_train, y_train, w_test, b_test), 0.36686678640551745), \"损失函数实现有问题\"\n"
   ],
   "id": "aa9b3c451fe11475",
   "outputs": [],
   "execution_count": 8
  },
  {
   "metadata": {
    "ExecuteTime": {
     "end_time": "2025-07-15T13:35:49.520397Z",
     "start_time": "2025-07-15T13:35:49.335368Z"
    }
   },
   "cell_type": "code",
   "source": [
    "x0 = np.arange(0,6)\n",
    "\n",
    "# 画两个决策边界\n",
    "x1 = 3 - x0\n",
    "x1_other = 4 - x0\n",
    "\n",
    "fig,ax = plt.subplots(1, 1, figsize=(4,4))\n",
    "# Plot the decision boundary\n",
    "ax.plot(x0,x1, c=\"blue\", label=\"$b$=-3\")\n",
    "ax.plot(x0,x1_other, c=\"magenta\", label=\"$b$=-4\")\n",
    "ax.axis([0, 4, 0, 4])\n",
    "\n",
    "# Plot the original data\n",
    "plotData(X_train,y_train,ax)\n",
    "ax.axis([0, 4, 0, 4])\n",
    "ax.set_ylabel('$x_1$', fontsize=12)\n",
    "ax.set_xlabel('$x_0$', fontsize=12)\n",
    "plt.legend(loc=\"upper right\")\n",
    "plt.title(\"Decision Boundary\")\n",
    "plt.show()"
   ],
   "id": "1073b6d4ebf150be",
   "outputs": [
    {
     "data": {
      "text/plain": [
       "<Figure size 400x400 with 1 Axes>"
      ],
      "image/png": "[encoded data removed]"
     },
     "metadata": {},
     "output_type": "display_data"
    }
   ],
   "execution_count": 9
  },
  {
   "metadata": {
    "ExecuteTime": {
     "end_time": "2025-07-15T13:38:00.964078Z",
     "start_time": "2025-07-15T13:38:00.948472Z"
    }
   },
   "cell_type": "code",
   "source": [
    "# 可以看出来b=-4，w=[1,1]比 b=-3， w=[1,1]的决策边界更糟糕，通过调用实现的损失函数，也可以反映这一点\n",
    "\n",
    "w_array1 = np.array([1,1])\n",
    "b_1 = -3\n",
    "w_array2 = np.array([1,1])\n",
    "b_2 = -4\n",
    "\n",
    "print(\"损失值  b = -3 : \", compute_cost_logistic(X_train, y_train, w_array1, b_1))\n",
    "print(\"损失值  b = -4 : \", compute_cost_logistic(X_train, y_train, w_array2, b_2))"
   ],
   "id": "e241e6b4b60c1e6e",
   "outputs": [
    {
     "name": "stdout",
     "output_type": "stream",
     "text": [
      "损失值  b = -3 :  0.36686678640551745\n",
      "损失值  b = -4 :  0.5036808636748461\n"
     ]
    }
   ],
   "execution_count": 10
  },
  {
   "metadata": {},
   "cell_type": "markdown",
   "source": [
    "- 从概率角度解释损失函数 （可选）\n",
    "\n",
    "1. 建模假设\n",
    "\n",
    "* 每个样本 $\\bigl(\\mathbf x^{(i)},y^{(i)}\\bigr)$ **独立同分布 (i.i.d.)**\n",
    "* 标签 $y^{(i)}\\in\\{0,1\\}$ 遵循 **伯努利分布**，其成功概率由模型给出：\n",
    "\n",
    "  $$\n",
    "    P\\!\\bigl(y^{(i)}=1\\mid \\mathbf x^{(i)}\\bigr)=\n",
    "      f_{\\mathbf w,b}\\!\\bigl(\\mathbf x^{(i)}\\bigr)=\n",
    "      \\sigma\\!\\bigl(\\mathbf w^\\top\\mathbf x^{(i)}+b\\bigr)\n",
    "  $$\n",
    "\n",
    "  其中 $\\sigma(z)=\\dfrac{1}{1+e^{-z}}$。\n",
    "\n",
    "\n",
    "\n",
    "2. 写出**似然函数**\n",
    "\n",
    "对全部 $m$ 个样本，联合概率（似然）为\n",
    "\n",
    "$$\n",
    "\\mathcal L(\\mathbf w,b)\n",
    "  =\\prod_{i=1}^{m}\n",
    "     \\bigl[f_{\\mathbf w,b}(\\mathbf x^{(i)})\\bigr]^{y^{(i)}}\n",
    "     \\bigl[1-f_{\\mathbf w,b}(\\mathbf x^{(i)})\\bigr]^{1-y^{(i)}}\n",
    "$$\n",
    "\n",
    "\n",
    "3. 取对数 → **对数似然**\n",
    "\n",
    "$$\n",
    "\\log\\mathcal L(\\mathbf w,b)\n",
    "  =\\sum_{i=1}^{m}\n",
    "     \\Bigl[\n",
    "        y^{(i)}\\log f_{\\mathbf w,b}(\\mathbf x^{(i)})\n",
    "        +\\bigl(1-y^{(i)}\\bigr)\\log\\!\\bigl(1-f_{\\mathbf w,b}(\\mathbf x^{(i)})\\bigr)\n",
    "     \\Bigr]\n",
    "$$\n",
    "\n",
    "\n",
    "4. 取负平均 → 得到**损失/成本函数**\n",
    "\n",
    "最大似然 → **最大化** $\\log\\mathcal L$。\n",
    "等价于 **最小化** 其 **负** 值，再除以样本数 $m$ 得平均损失：\n",
    "\n",
    "$$\n",
    "J(\\mathbf w,b)\n",
    "  =-\\frac{1}{m}\\log\\mathcal L(\\mathbf w,b)\n",
    "  =-\\frac{1}{m}\\sum_{i=1}^{m}\n",
    "     \\Bigl[\n",
    "        y^{(i)}\\log f_{\\mathbf w,b}(\\mathbf x^{(i)})\n",
    "        +\\bigl(1-y^{(i)}\\bigr)\\log\\!\\bigl(1-f_{\\mathbf w,b}(\\mathbf x^{(i)})\\bigr)\n",
    "     \\Bigr]\n",
    "$$\n",
    "\n",
    "注意括号里的那一项 **正是单样本损失**\n",
    "\n",
    "$$\n",
    "L\\bigl(f(\\mathbf x^{(i)}),y^{(i)}\\bigr)\n",
    "  =-\\,y^{(i)}\\log f(\\mathbf x^{(i)})\n",
    "   -\\bigl(1-y^{(i)}\\bigr)\\log\\!\\bigl(1-f(\\mathbf x^{(i)})\\bigr)\n",
    "$$\n",
    "\n",
    "\n",
    "5. 结果与意义\n",
    "\n",
    "    1. **统计一致**：损失函数不是随意挑的，而是伯努利模型在 MLE 框架下自然得到的 **负对数似然**（即交叉熵）。\n",
    "    2. **可解释性**：最小化 $J$ ⇔ 最大化训练数据出现的概率；因此学到的 $\\hat f(\\mathbf x)$ 可以直接解释为“在当前参数下，输入 $\\mathbf x$ 属于正类的最大似然概率”。\n",
    "\n",
    "\n",
    "**总结**：逻辑回归把每个标签视为一次伯努利试验，最大似然估计要求“让观测到的数据最可能发生”。\n"
   ],
   "id": "53480eec7d31db3f"
  },
  {
   "metadata": {},
   "cell_type": "markdown",
   "source": [
    "- 逻辑回归的梯度下降\n",
    "\n",
    "**Logistic 回归：成本函数、梯度及批量梯度下降更新公式**\n",
    "\n",
    "1. 成本函数（Cost）\n",
    "\n",
    "$$\n",
    "\\boxed{\n",
    "\\displaystyle\n",
    "J(\\vec w,b)\n",
    "  = -\\,\\frac{1}{m}\\sum_{i=1}^{m}\n",
    "     \\Bigl[\n",
    "        y^{(i)}\\;\\log f_{\\vec w,b}\\!\\bigl(\\vec x^{(i)}\\bigr)\n",
    "        \\;+\\;\n",
    "        \\bigl(1-y^{(i)}\\bigr)\\,\n",
    "        \\log\\!\\Bigl(1-f_{\\vec w,b}\\!\\bigl(\\vec x^{(i)}\\bigr)\\Bigr)\n",
    "     \\Bigr]\n",
    "}\n",
    "$$\n",
    "\n",
    "其中\n",
    "\n",
    "$$\n",
    "f_{\\vec w,b}(\\vec x)=\\frac{1}{1+e^{-(\\vec w\\cdot\\vec x+b)}}\\in(0,1)\n",
    "$$\n",
    "\n",
    "\n",
    "2. 批量梯度（对全部 $m$ 个样本求平均）\n",
    "\n",
    "$$\n",
    "\\begin{aligned}\n",
    "\\frac{\\partial J}{\\partial w_j}\n",
    "  &= \\frac{1}{m}\\sum_{i=1}^{m}\n",
    "        \\bigl(f_{\\vec w,b}(\\vec x^{(i)})-y^{(i)}\\bigr)\\,\n",
    "        x^{(i)}_j \\\\[6pt]\n",
    "\\frac{\\partial J}{\\partial b}\n",
    "  &= \\frac{1}{m}\\sum_{i=1}^{m}\n",
    "        \\bigl(f_{\\vec w,b}(\\vec x^{(i)})-y^{(i)}\\bigr)\n",
    "\\end{aligned}\n",
    "$$\n",
    "\n",
    "\n",
    "3. 批量梯度下降（同时更新）\n",
    "\n",
    "$$\n",
    "\\textbf{repeat\\;\\{}\\quad\n",
    "  \\begin{cases}\n",
    "    w_j \\;=\\;\n",
    "      w_j\n",
    "      \\;-\\;\n",
    "      \\alpha\\,\n",
    "      \\dfrac{\\partial J}{\\partial w_j}\\,,\n",
    "      & j = 1,\\dots,n \\\\[8pt]\n",
    "    b   \\;=\\;\n",
    "      b\n",
    "      \\;-\\;\n",
    "      \\alpha\\,\n",
    "      \\dfrac{\\partial J}{\\partial b}\n",
    "  \\end{cases}\n",
    "\\quad\\textbf{\\}}\n",
    "$$\n",
    "\n",
    "* $\\alpha$ 为学习率 (learning rate)。\n",
    "* 所有参数 **同时更新**（simultaneous updates）以利用同一轮次计算出的梯度。\n",
    "\n",
    "\n",
    "> **说明**\n",
    ">\n",
    "> * 梯度项 $f_{\\vec w,b}(\\vec x^{(i)})-y^{(i)}$ 表示“预测概率与真实标签的偏差”；\n",
    "> * 成本函数对 $(\\vec w,b)$ 是**凸**的，故批量梯度下降可收敛到全局最小值。\n",
    "> * 线性回归的一些技巧在逻辑回归仍然适用：选择学习率，监控迭代次数和损失值，向量化，特征缩放\n"
   ],
   "id": "a57a8860c16bcdeb"
  },
  {
   "metadata": {
    "ExecuteTime": {
     "end_time": "2025-07-15T14:15:13.772453Z",
     "start_time": "2025-07-15T14:15:13.759943Z"
    }
   },
   "cell_type": "code",
   "source": [
    "X_train = np.array([[0.5, 1.5], [1,1], [1.5, 0.5], [3, 0.5], [2, 2], [1, 2.5]])\n",
    "y_train = np.array([0, 0, 0, 1, 1, 1])"
   ],
   "id": "8c83806fb57a1a2c",
   "outputs": [],
   "execution_count": 11
  },
  {
   "metadata": {
    "ExecuteTime": {
     "end_time": "2025-07-15T14:28:13.304744Z",
     "start_time": "2025-07-15T14:28:13.293329Z"
    }
   },
   "cell_type": "code",
   "source": [
    "def compute_gradient_logistic(X, y, w, b):\n",
    "    \"\"\"\n",
    "    计算逻辑回归的梯度\n",
    "\n",
    "    Args:\n",
    "      X (ndarray (m,n): Data, m examples with n features\n",
    "      y (ndarray (m,)): target values\n",
    "      w (ndarray (n,)): model parameters\n",
    "      b (scalar)      : model parameter\n",
    "    Returns\n",
    "      dj_dw (ndarray (n,)): 关于w的梯度\n",
    "      dj_db (scalar)      : 关于b的导数\n",
    "    \"\"\"\n",
    "    m,n = X.shape\n",
    "    dj_dw = np.zeros((n,))\n",
    "    dj_db = 0.\n",
    "\n",
    "    # TODO: 随堂练习：实现梯度的计算\n",
    "    return dj_dw, dj_db\n",
    "\n",
    "\n",
    "# 简单检查下梯度实现是否正确\n",
    "X_tmp = np.array([[0.5, 1.5], [1,1], [1.5, 0.5], [3, 0.5], [2, 2], [1, 2.5]])\n",
    "y_tmp = np.array([0, 0, 0, 1, 1, 1])\n",
    "w_tmp = np.array([2.,3.])\n",
    "b_tmp = 1.\n",
    "dj_dw_tmp, dj_db_tmp = compute_gradient_logistic(X_tmp, y_tmp, w_tmp, b_tmp)\n",
    "assert np.allclose(dj_dw_tmp, np.array([0.498333393278696, 0.49883942983996693])) and np.isclose(dj_db_tmp, 0.49861806546328574), \"梯度实现不正确\""
   ],
   "id": "6ed2d6df5319f65e",
   "outputs": [],
   "execution_count": 17
  },
  {
   "metadata": {
    "ExecuteTime": {
     "end_time": "2025-07-15T14:35:04.884053Z",
     "start_time": "2025-07-15T14:35:04.871895Z"
    }
   },
   "cell_type": "code",
   "source": [
    "import math,copy\n",
    "def gradient_descent(X, y, w_in, b_in, alpha, num_iters):\n",
    "    \"\"\"\n",
    "    执行 **批量梯度下降（Batch Gradient Descent）**\n",
    "\n",
    "    参数:\n",
    "      X (ndarray (m, n)): 训练数据，m 行 n 列 —— m个样本、每个样本 n个特征\n",
    "      y (ndarray (m, )): 目标值（标签），长度为 m\n",
    "      w_in (ndarray (n,)): 模型参数 w 的初始值\n",
    "      b_in (scalar)      : 模型参数 b 的初始值\n",
    "      alpha (float)      : 学习率\n",
    "      num_iters (scalar) : 迭代次数\n",
    "\n",
    "    返回:\n",
    "      w (ndarray (n,)): 更新后的参数 w\n",
    "      b (scalar)       : 更新后的参数 b\n",
    "    \"\"\"\n",
    "    # 用于保存每次迭代的成本 J 以及 w，主要方便后续绘图\n",
    "    J_history = []\n",
    "    w = copy.deepcopy(w_in)   # 避免在函数内部修改外部的 w\n",
    "    b = b_in\n",
    "\n",
    "    for i in range(num_iters):\n",
    "        # 计算梯度，再根据梯度更新参数\n",
    "        dj_dw, dj_db = compute_gradient_logistic(X, y, w, b)\n",
    "\n",
    "        # 根据梯度更新参数 w 与 b\n",
    "        w = w - alpha * dj_dw\n",
    "        b = b - alpha * dj_db\n",
    "\n",
    "        # 记录每次迭代的成本值（防止资源耗尽，仅记录前 100000 次）\n",
    "        if i < 100000:\n",
    "            J_history.append(compute_cost_logistic(X, y, w, b))\n",
    "\n",
    "        # 每进行 num_iters/10 次迭代就打印一次当前成本\n",
    "        if i % math.ceil(num_iters / 10) == 0:\n",
    "            print(f\"第 {i:4d} 次迭代:  成本 {J_history[-1]}\")\n",
    "\n",
    "    # 返回最终的 w、b 以及成本历史，便于绘图\n",
    "    return w, b, J_history\n"
   ],
   "id": "7f652e0a5cd460c5",
   "outputs": [],
   "execution_count": 22
  },
  {
   "metadata": {
    "ExecuteTime": {
     "end_time": "2025-07-15T14:35:05.642724Z",
     "start_time": "2025-07-15T14:35:05.324871Z"
    }
   },
   "cell_type": "code",
   "source": [
    "# 对训练数据做梯度下降\n",
    "w_tmp  = np.zeros_like(X_train[0])\n",
    "b_tmp  = 0.\n",
    "alph = 0.1\n",
    "iters = 10000\n",
    "\n",
    "w_out, b_out, _ = gradient_descent(X_train, y_train, w_tmp, b_tmp, alph, iters)\n",
    "print(f\"\\n最终的参数: w:{w_out}, b:{b_out}\")"
   ],
   "id": "a66999a1a97c321a",
   "outputs": [
    {
     "name": "stdout",
     "output_type": "stream",
     "text": [
      "第    0 次迭代:  成本 0.684610468560574\n",
      "第 1000 次迭代:  成本 0.1590977666870456\n",
      "第 2000 次迭代:  成本 0.08460064176930081\n",
      "第 3000 次迭代:  成本 0.05705327279402531\n",
      "第 4000 次迭代:  成本 0.042907594216820076\n",
      "第 5000 次迭代:  成本 0.034338477298845684\n",
      "第 6000 次迭代:  成本 0.028603798022120097\n",
      "第 7000 次迭代:  成本 0.024501569608793\n",
      "第 8000 次迭代:  成本 0.02142370332569295\n",
      "第 9000 次迭代:  成本 0.019030137124109114\n",
      "\n",
      "最终的参数: w:[5.28123029 5.07815608], b:-14.222409982019837\n"
     ]
    }
   ],
   "execution_count": 23
  },
  {
   "metadata": {
    "ExecuteTime": {
     "end_time": "2025-07-15T14:45:27.425713Z",
     "start_time": "2025-07-15T14:45:27.315588Z"
    }
   },
   "cell_type": "code",
   "source": [
    "# def plt_prob(ax, w_out, b_out):\n",
    "\n",
    "\n",
    "fig,ax = plt.subplots(1,1,figsize=(5,4))\n",
    "# Plot the original data\n",
    "ax.set_ylabel(r'$x_1$')\n",
    "ax.set_xlabel(r'$x_0$')\n",
    "ax.axis([0, 4, 0, 3.5])\n",
    "plotData(X_train,y_train,ax)\n",
    "\n",
    "# TODO：随堂练习，根据学习到的 w_out, b_out画决策边界；  提示：利用公式 wx+b =0 -> [w1,w2]*[x1,x2]+b=0，实现正确会得到如下图像\n",
    "plt.show()"
   ],
   "id": "ee86d336d2d3af61",
   "outputs": [
    {
     "data": {
      "text/plain": [
       "<Figure size 500x400 with 1 Axes>"
      ],
      "image/png": "[encoded data removed]"
     },
     "metadata": {},
     "output_type": "display_data"
    }
   ],
   "execution_count": 25
  },
  {
   "metadata": {
    "ExecuteTime": {
     "end_time": "2025-07-15T15:31:16.919024Z",
     "start_time": "2025-07-15T15:31:16.748610Z"
    }
   },
   "cell_type": "code",
   "source": [
    "# 更多绘图：绘制预测y=1的概率，概率越高越蓝，概率越低，越白\n",
    "\n",
    "fig,ax = plt.subplots(1,1,figsize=(5,4))\n",
    "\n",
    "# 利用已训练好的参数，计算概率\n",
    "def predict_proba(x, y, w0, w1, b):\n",
    "    z = b + w0*x + w1*y     # 线性部分\n",
    "    return 1/(1+np.exp(-z))\n",
    "\n",
    "\n",
    "def plt_prob(ax, w_out,b_out):\n",
    "\n",
    "    # 生成网格\n",
    "    x0_space  = np.linspace(0, 4 , 100)\n",
    "    x1_space  = np.linspace(0, 4 , 100)\n",
    "\n",
    "    tmp_x0,tmp_x1 = np.meshgrid(x0_space,x1_space)\n",
    "    z = predict_proba(tmp_x0,tmp_x1,w_out[0], w_out[1],b_out)\n",
    "\n",
    "    cmap = plt.get_cmap('Blues')\n",
    "    pcm = ax.pcolormesh(tmp_x0, tmp_x1, z,\n",
    "                   cmap=cmap, shading='nearest', alpha = 0.9)\n",
    "    ax.figure.colorbar(pcm, ax=ax)\n",
    "\n",
    "plt_prob(ax, w_out,b_out)\n",
    "ax.set_ylabel(r'$x_1$')\n",
    "ax.set_xlabel(r'$x_0$')\n",
    "ax.axis([0, 4, 0, 3.5])\n",
    "plotData(X_train,y_train,ax)\n",
    "\n",
    "plt.show()"
   ],
   "id": "b6bae96b4dbe6931",
   "outputs": [
    {
     "data": {
      "text/plain": [
       "<Figure size 500x400 with 2 Axes>"
      ],
      "image/png": "[encoded data removed]"
     },
     "metadata": {},
     "output_type": "display_data"
    }
   ],
   "execution_count": 58
  },
  {
   "metadata": {},
   "cell_type": "markdown",
   "source": [
    "### 逻辑回归成本函数的梯度推导 （可选）\n",
    "\n",
    "\n",
    "#### 1. 记号与目标\n",
    "\n",
    "| 记号                                                                 | 含义                                |\n",
    "| ------------------------------------------------------------------ | --------------------------------- |\n",
    "| $\\mathbf x^{(i)}\\in\\mathbb R^{n}$                                  | 第 $i$ 个样本（含偏置前不加 1）               |\n",
    "| $y^{(i)}\\in\\{0,1\\}$                                                | 真实标签                              |\n",
    "| $\\mathbf w\\in\\mathbb R^{n},\\;b\\in\\mathbb R$                        | 参数                                |\n",
    "| $f^{(i)}\\equiv f_{\\mathbf w,b}(\\mathbf x^{(i)}) = \\sigma(z^{(i)})$ | 预测概率，$\\sigma(z)=\\frac1{1+e^{-z}}$ |\n",
    "| $m$                                                                | 样本总数                              |\n",
    "\n",
    "$$\n",
    "J(\\mathbf w,b)\n",
    "  = -\\frac1m\\sum_{i=1}^{m}\n",
    "      \\Bigl[\n",
    "        y^{(i)}\\log f^{(i)}\n",
    "        + (1-y^{(i)})\\log(1-f^{(i)})\n",
    "      \\Bigr]\n",
    "$$\n",
    "\n",
    "目标：求 $\\displaystyle\\frac{\\partial J}{\\partial w_j}$ 与 $\\displaystyle\\frac{\\partial J}{\\partial b}$。\n",
    "\n",
    "\n",
    "\n",
    "#### 2. 单样本损失对 $z$ 的导数\n",
    "\n",
    "$$\n",
    "L^{(i)}\n",
    "  = -\\bigl[y^{(i)}\\log f^{(i)} + (1-y^{(i)})\\log(1-f^{(i)})\\bigr]\n",
    "$$\n",
    "\n",
    "   a. **对预测 $f^{(i)}$ 求导**\n",
    "\n",
    "   $$\n",
    "   \\frac{\\partial L^{(i)}}{\\partial f^{(i)}}\n",
    "     = -\\frac{y^{(i)}}{f^{(i)}} + \\frac{1-y^{(i)}}{1-f^{(i)}}\n",
    "     = \\frac{f^{(i)}-y^{(i)}}{f^{(i)}(1-f^{(i)})}\n",
    "   $$\n",
    "\n",
    "   b. **sigmoid 的导数**\n",
    "\n",
    "   $$\n",
    "   \\frac{\\partial f^{(i)}}{\\partial z^{(i)}} = f^{(i)}\\bigl(1-f^{(i)}\\bigr)\n",
    "   $$\n",
    "\n",
    "   c. **链式法则**\n",
    "\n",
    "   $$\n",
    "   \\frac{\\partial L^{(i)}}{\\partial z^{(i)}}\n",
    "     = \\frac{\\partial L^{(i)}}{\\partial f^{(i)}}\\;\n",
    "       \\frac{\\partial f^{(i)}}{\\partial z^{(i)}}\n",
    "     = \\bigl(f^{(i)}-y^{(i)}\\bigr)\n",
    "   $$\n",
    "\n",
    "#### 3. 对权重 $w_j$ 的梯度\n",
    "\n",
    "$$\n",
    "\\begin{aligned}\n",
    "\\frac{\\partial J}{\\partial w_j}\n",
    "  &= \\frac1m\\sum_{i=1}^{m}\n",
    "     \\frac{\\partial L^{(i)}}{\\partial z^{(i)}}\\;\n",
    "     \\frac{\\partial z^{(i)}}{\\partial w_j}  \\\\\n",
    "  &= \\frac1m\\sum_{i=1}^{m}\n",
    "     \\bigl(f^{(i)}-y^{(i)}\\bigr)\\;\n",
    "     x^{(i)}_j\n",
    "\\end{aligned}\n",
    "$$\n",
    "\n",
    "\n",
    "\n",
    "#### 4. 对偏置 $b$ 的梯度\n",
    "\n",
    "$$\n",
    "\\frac{\\partial J}{\\partial b}\n",
    "  = \\frac1m\\sum_{i=1}^{m}\n",
    "     \\frac{\\partial L^{(i)}}{\\partial z^{(i)}}\\;\n",
    "     \\frac{\\partial z^{(i)}}{\\partial b}\n",
    "  = \\frac1m\\sum_{i=1}^{m}\n",
    "     \\bigl(f^{(i)}-y^{(i)}\\bigr)\n",
    "$$\n",
    "\n",
    "\n",
    "\n",
    "#### 5. 向量化表示（推荐在代码中使用）\n",
    "\n",
    "$$\n",
    "\\nabla_{\\mathbf w}J = \\frac1m \\, \\mathbf X^\\top\\!\\bigl(\\mathbf f - \\mathbf y\\bigr)\n",
    "\\quad\\quad\n",
    "\\frac{\\partial J}{\\partial b} = \\frac1m\\sum_{i=1}^{m}(f^{(i)}-y^{(i)})\n",
    "$$\n",
    "\n",
    "* $\\mathbf X\\in\\mathbb R^{m\\times n}$ 为特征矩阵。\n",
    "* $\\mathbf f=[f^{(1)},\\dots,f^{(m)}]^\\top$。\n",
    "* $\\mathbf y=[y^{(1)},\\dots,y^{(m)}]^\\top$。\n",
    "\n",
    "\n",
    "\n",
    "#### 6. 批量梯度下降更新\n",
    "\n",
    "$$\n",
    "\\boxed{\n",
    "\\begin{aligned}\n",
    "\\mathbf w &\\gets \\mathbf w - \\alpha\\,\\nabla_{\\mathbf w}J \\\\[4pt]\n",
    "b &\\gets b - \\alpha\\,\\dfrac{\\partial J}{\\partial b}\n",
    "\\end{aligned}\n",
    "}\n",
    "$$\n",
    "\n",
    "（$\\alpha$ 为学习率，全部参数 **同时** 更新）\n",
    "\n",
    "\n",
    "\n",
    "- 记忆方式\n",
    "\n",
    "> **“预测减真实，前乘特征”** —— $f-y$ 乘 $x_j$ 就是对 $w_j$ 的梯度；对偏置把 $x_j$ 看成 1 即可。\n",
    "\n",
    "$$\n",
    "\\frac{\\partial J}{\\partial w_j}\\;=\\;\\overbrace{\\bigl(f-y\\bigr)}^{\\text{误差}}\\;\\times\\;x_j\n",
    "$$\n"
   ],
   "id": "67f9874a7ef50e5"
  },
  {
   "metadata": {},
   "cell_type": "markdown",
   "source": "### 使用机器学习库sklearn跑逻辑回归和线性回归",
   "id": "750decba5cf31b27"
  },
  {
   "metadata": {
    "ExecuteTime": {
     "end_time": "2025-07-15T15:43:44.625390Z",
     "start_time": "2025-07-15T15:43:43.679949Z"
    }
   },
   "cell_type": "code",
   "source": [
    "X = np.array([[0.5, 1.5], [1,1], [1.5, 0.5], [3, 0.5], [2, 2], [1, 2.5]])\n",
    "y = np.array([0, 0, 0, 1, 1, 1])\n",
    "\n",
    "from sklearn.linear_model import LogisticRegression\n",
    "\n",
    "# 训练\n",
    "lr_model = LogisticRegression()\n",
    "lr_model.fit(X, y)"
   ],
   "id": "729186dcf57f231b",
   "outputs": [
    {
     "data": {
      "text/plain": [
       "LogisticRegression()"
      ],
      "text/html": [
       "<style>#sk-container-id-1 {color: black;}#sk-container-id-1 pre{padding: 0;}#sk-container-id-1 div.sk-toggleable {background-color: white;}#sk-container-id-1 label.sk-toggleable__label {cursor: pointer;display: block;width: 100%;margin-bottom: 0;padding: 0.3em;box-sizing: border-box;text-align: center;}#sk-container-id-1 label.sk-toggleable__label-arrow:before {content: \"▸\";float: left;margin-right: 0.25em;color: #696969;}#sk-container-id-1 label.sk-toggleable__label-arrow:hover:before {color: black;}#sk-container-id-1 div.sk-estimator:hover label.sk-toggleable__label-arrow:before {color: black;}#sk-container-id-1 div.sk-toggleable__content {max-height: 0;max-width: 0;overflow: hidden;text-align: left;background-color: #f0f8ff;}#sk-container-id-1 div.sk-toggleable__content pre {margin: 0.2em;color: black;border-radius: 0.25em;background-color: #f0f8ff;}#sk-container-id-1 input.sk-toggleable__control:checked~div.sk-toggleable__content {max-height: 200px;max-width: 100%;overflow: auto;}#sk-container-id-1 input.sk-toggleable__control:checked~label.sk-toggleable__label-arrow:before {content: \"▾\";}#sk-container-id-1 div.sk-estimator input.sk-toggleable__control:checked~label.sk-toggleable__label {background-color: #d4ebff;}#sk-container-id-1 div.sk-label input.sk-toggleable__control:checked~label.sk-toggleable__label {background-color: #d4ebff;}#sk-container-id-1 input.sk-hidden--visually {border: 0;clip: rect(1px 1px 1px 1px);clip: rect(1px, 1px, 1px, 1px);height: 1px;margin: -1px;overflow: hidden;padding: 0;position: absolute;width: 1px;}#sk-container-id-1 div.sk-estimator {font-family: monospace;background-color: #f0f8ff;border: 1px dotted black;border-radius: 0.25em;box-sizing: border-box;margin-bottom: 0.5em;}#sk-container-id-1 div.sk-estimator:hover {background-color: #d4ebff;}#sk-container-id-1 div.sk-parallel-item::after {content: \"\";width: 100%;border-bottom: 1px solid gray;flex-grow: 1;}#sk-container-id-1 div.sk-label:hover label.sk-toggleable__label {background-color: #d4ebff;}#sk-container-id-1 div.sk-serial::before {content: \"\";position: absolute;border-left: 1px solid gray;box-sizing: border-box;top: 0;bottom: 0;left: 50%;z-index: 0;}#sk-container-id-1 div.sk-serial {display: flex;flex-direction: column;align-items: center;background-color: white;padding-right: 0.2em;padding-left: 0.2em;position: relative;}#sk-container-id-1 div.sk-item {position: relative;z-index: 1;}#sk-container-id-1 div.sk-parallel {display: flex;align-items: stretch;justify-content: center;background-color: white;position: relative;}#sk-container-id-1 div.sk-item::before, #sk-container-id-1 div.sk-parallel-item::before {content: \"\";position: absolute;border-left: 1px solid gray;box-sizing: border-box;top: 0;bottom: 0;left: 50%;z-index: -1;}#sk-container-id-1 div.sk-parallel-item {display: flex;flex-direction: column;z-index: 1;position: relative;background-color: white;}#sk-container-id-1 div.sk-parallel-item:first-child::after {align-self: flex-end;width: 50%;}#sk-container-id-1 div.sk-parallel-item:last-child::after {align-self: flex-start;width: 50%;}#sk-container-id-1 div.sk-parallel-item:only-child::after {width: 0;}#sk-container-id-1 div.sk-dashed-wrapped {border: 1px dashed gray;margin: 0 0.4em 0.5em 0.4em;box-sizing: border-box;padding-bottom: 0.4em;background-color: white;}#sk-container-id-1 div.sk-label label {font-family: monospace;font-weight: bold;display: inline-block;line-height: 1.2em;}#sk-container-id-1 div.sk-label-container {text-align: center;}#sk-container-id-1 div.sk-container {/* jupyter's `normalize.less` sets `[hidden] { display: none; }` but bootstrap.min.css set `[hidden] { display: none !important; }` so we also need the `!important` here to be able to override the default hidden behavior on the sphinx rendered scikit-learn.org. See: https://github.com/scikit-learn/scikit-learn/issues/21755 */display: inline-block !important;position: relative;}#sk-container-id-1 div.sk-text-repr-fallback {display: none;}</style><div id=\"sk-container-id-1\" class=\"sk-top-container\"><div class=\"sk-text-repr-fallback\"><pre>LogisticRegression()</pre><b>In a Jupyter environment, please rerun this cell to show the HTML representation or trust the notebook. <br />On GitHub, the HTML representation is unable to render, please try loading this page with nbviewer.org.</b></div><div class=\"sk-container\" hidden><div class=\"sk-item\"><div class=\"sk-estimator sk-toggleable\"><input class=\"sk-toggleable__control sk-hidden--visually\" id=\"sk-estimator-id-1\" type=\"checkbox\" checked><label for=\"sk-estimator-id-1\" class=\"sk-toggleable__label sk-toggleable__label-arrow\">LogisticRegression</label><div class=\"sk-toggleable__content\"><pre>LogisticRegression()</pre></div></div></div></div></div>"
      ]
     },
     "execution_count": 59,
     "metadata": {},
     "output_type": "execute_result"
    }
   ],
   "execution_count": 59
  },
  {
   "metadata": {
    "ExecuteTime": {
     "end_time": "2025-07-15T15:44:12.960412Z",
     "start_time": "2025-07-15T15:44:12.944290Z"
    }
   },
   "cell_type": "code",
   "source": [
    "# 预测\n",
    "y_pred = lr_model.predict(X)\n",
    "\n",
    "print(\"训练集的预测:\", y_pred)"
   ],
   "id": "3be885810a407540",
   "outputs": [
    {
     "name": "stdout",
     "output_type": "stream",
     "text": [
      "训练集的预测: [0 0 0 1 1 1]\n"
     ]
    }
   ],
   "execution_count": 60
  },
  {
   "metadata": {
    "ExecuteTime": {
     "end_time": "2025-07-15T15:44:44.677300Z",
     "start_time": "2025-07-15T15:44:44.661736Z"
    }
   },
   "cell_type": "code",
   "source": [
    "# 看预测的正确率\n",
    "print(\"训练集预测的正确率:\", lr_model.score(X, y))"
   ],
   "id": "982bf259cf10ff2f",
   "outputs": [
    {
     "name": "stdout",
     "output_type": "stream",
     "text": [
      "训练集预测的正确率: 1.0\n"
     ]
    }
   ],
   "execution_count": 61
  },
  {
   "metadata": {
    "ExecuteTime": {
     "end_time": "2025-07-15T15:50:33.151487Z",
     "start_time": "2025-07-15T15:50:33.139477Z"
    }
   },
   "cell_type": "code",
   "source": [
    "def load_house_data():\n",
    "    data = np.loadtxt(\"./datasets/houses.txt\", delimiter=',', skiprows=1)\n",
    "    X = data[:,:4]\n",
    "    y = data[:,4]\n",
    "    return X, y\n"
   ],
   "id": "86d9b6dea778771f",
   "outputs": [],
   "execution_count": 62
  },
  {
   "metadata": {
    "ExecuteTime": {
     "end_time": "2025-07-15T15:51:40.873068Z",
     "start_time": "2025-07-15T15:51:40.857443Z"
    }
   },
   "cell_type": "code",
   "source": [
    "from sklearn.linear_model import SGDRegressor\n",
    "from sklearn.preprocessing import StandardScaler\n",
    "\n",
    "# 1. 加载数据\n",
    "X_train, y_train = load_house_data()"
   ],
   "id": "cc9c186f2ef7c9ac",
   "outputs": [],
   "execution_count": 63
  },
  {
   "metadata": {
    "ExecuteTime": {
     "end_time": "2025-07-15T15:52:38.504841Z",
     "start_time": "2025-07-15T15:52:38.489204Z"
    }
   },
   "cell_type": "code",
   "source": [
    "# 2. 特征缩放\n",
    "scaler = StandardScaler()\n",
    "X_norm = scaler.fit_transform(X_train)\n",
    "print(f\"原始数据峰值差        X:{np.ptp(X_train,axis=0)}\")\n",
    "print(f\"缩放后的峰值差       X_norm:{np.ptp(X_norm,axis=0)}\")"
   ],
   "id": "f84c74cba302f02a",
   "outputs": [
    {
     "name": "stdout",
     "output_type": "stream",
     "text": [
      "原始数据峰值差        X:[2.406e+03 4.000e+00 1.000e+00 9.500e+01]\n",
      "缩放后的峰值差       X_norm:[5.8452591  6.13529646 2.05626214 3.68533012]\n"
     ]
    }
   ],
   "execution_count": 64
  },
  {
   "metadata": {
    "ExecuteTime": {
     "end_time": "2025-07-15T15:54:35.908372Z",
     "start_time": "2025-07-15T15:54:35.892826Z"
    }
   },
   "cell_type": "code",
   "source": [
    "# 3. 创建并拟合线性模型\n",
    "sgdr = SGDRegressor(max_iter=1000)\n",
    "sgdr.fit(X_norm, y_train)\n",
    "print(sgdr)\n",
    "print(f\"number of iterations completed: {sgdr.n_iter_}, number of weight updates: {sgdr.t_}\")"
   ],
   "id": "93878e607b721f19",
   "outputs": [
    {
     "name": "stdout",
     "output_type": "stream",
     "text": [
      "SGDRegressor()\n",
      "number of iterations completed: 127, number of weight updates: 12574.0\n"
     ]
    }
   ],
   "execution_count": 65
  },
  {
   "metadata": {
    "ExecuteTime": {
     "end_time": "2025-07-15T15:55:04.737735Z",
     "start_time": "2025-07-15T15:55:04.722096Z"
    }
   },
   "cell_type": "code",
   "source": [
    "# 4. 看训练后的参数\n",
    "b_norm = sgdr.intercept_\n",
    "w_norm = sgdr.coef_\n",
    "print(f\"model parameters:                   w: {w_norm}, b:{b_norm}\")"
   ],
   "id": "67babbd2fb2aebaa",
   "outputs": [
    {
     "name": "stdout",
     "output_type": "stream",
     "text": [
      "model parameters:                   w: [110.14411297 -21.09261789 -32.49344783 -38.0275731 ], b:[363.13090803]\n"
     ]
    }
   ],
   "execution_count": 66
  },
  {
   "metadata": {
    "ExecuteTime": {
     "end_time": "2025-07-15T15:56:19.986139Z",
     "start_time": "2025-07-15T15:56:19.954887Z"
    }
   },
   "cell_type": "code",
   "source": [
    "# 5. 预测结果\n",
    "\n",
    "y_pred_sgd = sgdr.predict(X_norm)\n",
    "y_pred = np.dot(X_norm, w_norm) + b_norm\n",
    "print(f\"机器学习库的预测和手动预测是否匹配: {(y_pred == y_pred_sgd).all()}\")\n",
    "\n",
    "print(f\"训练集的预测:\\n{y_pred[:4]}\" )\n",
    "print(f\"目标值 \\n{y_train[:4]}\")"
   ],
   "id": "2ee5215a11569152",
   "outputs": [
    {
     "name": "stdout",
     "output_type": "stream",
     "text": [
      "机器学习库的预测和手动预测是否匹配: True\n",
      "训练集的预测:\n",
      "[295.17729808 485.81230763 389.52734648 491.97378771]\n",
      "目标值 \n",
      "[300.  509.8 394.  540. ]\n"
     ]
    }
   ],
   "execution_count": 67
  },
  {
   "metadata": {},
   "cell_type": "code",
   "outputs": [],
   "execution_count": null,
   "source": "",
   "id": "ca75ca0afea74cc8"
  }
 ],
 "metadata": {
  "kernelspec": {
   "display_name": "Python 3",
   "language": "python",
   "name": "python3"
  },
  "language_info": {
   "codemirror_mode": {
    "name": "ipython",
    "version": 2
   },
   "file_extension": ".py",
   "mimetype": "text/x-python",
   "name": "python",
   "nbconvert_exporter": "python",
   "pygments_lexer": "ipython2",
   "version": "2.7.6"
  }
 },
 "nbformat": 4,
 "nbformat_minor": 5
}
