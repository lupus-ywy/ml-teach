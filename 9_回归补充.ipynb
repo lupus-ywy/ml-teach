{
 "cells": [
  {
   "metadata": {},
   "cell_type": "markdown",
   "source": [
    "## 回归话题补充\n",
    "两种不同的训练模型的方式\n",
    "- 通过闭式方程，直接计算出最拟合训练集的模型参数\n",
    "- 迭代优化的方式：梯度下降和它的变体：批量梯度下降，小批量梯度下降以及随机梯度下降\n",
    "\n",
    "多种正则化技巧\n",
    "- 岭回归，Lasso回归和弹性网络回归\n",
    "\n",
    "分类任务模型\n",
    "- 针对多分类的softmax回归"
   ],
   "id": "7b5f9e12aa330967"
  },
  {
   "metadata": {},
   "cell_type": "markdown",
   "source": [
    "### 闭式方程\n",
    "$$\n",
    "\\hat{\\theta} = (X^\\top X)^{-1} X^\\top y\n",
    "$$\n",
    "\n",
    "这个方程中：\n",
    "\n",
    "- $\\hat{\\theta}$ 是使代价函数最小的 $\\theta$ 值。\n",
    "- $y$ 是包含 $y^{(1)}$ 到 $y^{(m)}$ 的目标值向量。\n"
   ],
   "id": "b9a04ea6df444925"
  },
  {
   "metadata": {
    "ExecuteTime": {
     "end_time": "2025-07-29T13:17:51.495571Z",
     "start_time": "2025-07-29T13:17:51.389235Z"
    }
   },
   "cell_type": "code",
   "source": [
    "# 生成假数据\n",
    "import numpy as np\n",
    "np.random.seed(100)\n",
    "\n",
    "m = 100\n",
    "X = 2 * np.random.rand(m, 1)\n",
    "y = 4 + 3 * X + np.random.randn(m, 1)"
   ],
   "id": "1558d12f22490701",
   "outputs": [],
   "execution_count": 1
  },
  {
   "metadata": {
    "ExecuteTime": {
     "end_time": "2025-07-29T13:20:18.084453Z",
     "start_time": "2025-07-29T13:20:18.072633Z"
    }
   },
   "cell_type": "code",
   "source": [
    "# 用方程拟合\n",
    "from sklearn.preprocessing import add_dummy_feature\n",
    "\n",
    "X_b = add_dummy_feature(X)  # X里 增加一列1\n",
    "theta_best = np.linalg.inv(X_b.T @ X_b) @ X_b.T @ y\n",
    "theta_best"
   ],
   "id": "77895a22a6a8a798",
   "outputs": [
    {
     "data": {
      "text/plain": [
       "array([[3.98485975],\n",
       "       [2.86232606]])"
      ]
     },
     "execution_count": 3,
     "metadata": {},
     "output_type": "execute_result"
    }
   ],
   "execution_count": 3
  },
  {
   "metadata": {
    "ExecuteTime": {
     "end_time": "2025-07-29T13:23:15.224978Z",
     "start_time": "2025-07-29T13:23:15.211174Z"
    }
   },
   "cell_type": "code",
   "source": [
    "# 做出预测\n",
    "X_new = np.array([[0], [2]])\n",
    "X_new_b = add_dummy_feature(X_new) # X_new里 增加一列1\n",
    "y_predict = X_new_b @ theta_best\n",
    "y_predict"
   ],
   "id": "4569db0f2213ac32",
   "outputs": [
    {
     "data": {
      "text/plain": [
       "array([[3.98485975],\n",
       "       [9.70951187]])"
      ]
     },
     "execution_count": 4,
     "metadata": {},
     "output_type": "execute_result"
    }
   ],
   "execution_count": 4
  },
  {
   "metadata": {
    "ExecuteTime": {
     "end_time": "2025-07-29T13:25:06.178704Z",
     "start_time": "2025-07-29T13:25:06.071783Z"
    }
   },
   "cell_type": "code",
   "source": [
    "# 绘制预测结果\n",
    "import matplotlib.pyplot as plt\n",
    "\n",
    "plt.figure(figsize=(6, 4))\n",
    "plt.plot(X_new, y_predict, \"r-\", label=\"Predictions\")\n",
    "plt.plot(X, y, \"b.\")\n",
    "\n",
    "# extra code – beautifies and saves Figure 4–2\n",
    "plt.xlabel(\"$x_1$\")\n",
    "plt.ylabel(\"$y$\", rotation=0)\n",
    "plt.axis([0, 2, 0, 15])\n",
    "plt.grid()\n",
    "plt.legend(loc=\"upper left\")\n",
    "\n",
    "plt.show()"
   ],
   "id": "60bb5dedd46e2ef4",
   "outputs": [
    {
     "data": {
      "text/plain": [
       "<Figure size 600x400 with 1 Axes>"
      ],
      "image/png": "[encoded data removed]"
     },
     "metadata": {},
     "output_type": "display_data"
    }
   ],
   "execution_count": 7
  },
  {
   "metadata": {
    "ExecuteTime": {
     "end_time": "2025-07-29T13:27:43.906525Z",
     "start_time": "2025-07-29T13:27:43.895012Z"
    }
   },
   "cell_type": "code",
   "source": [
    "# 使用sklearn做更简单了\n",
    "from sklearn.linear_model import LinearRegression\n",
    "lin_reg = LinearRegression()\n",
    "lin_reg.fit(X, y)\n",
    "lin_reg.intercept_, lin_reg.coef_\n",
    "lin_reg.predict(X_new)"
   ],
   "id": "f0ada304b3ffd8e2",
   "outputs": [
    {
     "data": {
      "text/plain": [
       "array([[3.98485975],\n",
       "       [9.70951187]])"
      ]
     },
     "execution_count": 9,
     "metadata": {},
     "output_type": "execute_result"
    }
   ],
   "execution_count": 9
  },
  {
   "metadata": {
    "ExecuteTime": {
     "end_time": "2025-07-29T13:29:27.787896Z",
     "start_time": "2025-07-29T13:29:27.722552Z"
    }
   },
   "cell_type": "code",
   "source": [
    "# LinearRegression类基于 np.linalg.lstsq()函数，可以直接调用它\n",
    "theta_best_svd, residuals, rank, s = np.linalg.lstsq(X_b, y, rcond=1e-6)\n",
    "theta_best_svd"
   ],
   "id": "fab3bbdf9d09a1d7",
   "outputs": [
    {
     "data": {
      "text/plain": [
       "array([[3.98485975],\n",
       "       [2.86232606]])"
      ]
     },
     "execution_count": 10,
     "metadata": {},
     "output_type": "execute_result"
    }
   ],
   "execution_count": 10
  },
  {
   "metadata": {
    "ExecuteTime": {
     "end_time": "2025-07-29T13:42:54.050383Z",
     "start_time": "2025-07-29T13:42:54.037810Z"
    }
   },
   "cell_type": "code",
   "source": [
    "# 上面的函数计算的是 X的伪逆(np.linalg.pinv(), Moore-Penrose逆） 和 y的矩阵乘法\n",
    "np.linalg.pinv(X_b) @ y"
   ],
   "id": "70f88665eaba3c34",
   "outputs": [
    {
     "data": {
      "text/plain": [
       "array([[3.98485975],\n",
       "       [2.86232606]])"
      ]
     },
     "execution_count": 11,
     "metadata": {},
     "output_type": "execute_result"
    }
   ],
   "execution_count": 11
  },
  {
   "metadata": {},
   "cell_type": "markdown",
   "source": "伪逆本身是使用被称为奇异值分解(Singular Value Decomposition，SVD)的标准矩阵分解技术来计算的，可以分解训练集矩阵X为三个矩阵UΣV⊤的乘积［numpy.linalg.svd()］。伪逆的计算公式为：X+=VΣ+U⊤。为了计算矩阵Σ+，该算法取Σ并将所有小于一个小阈值的值设置为零，然后将所有非零值替换成它们的倒数，最后把结果矩阵转置。这种方法比计算标准方程更有效，而且它可以很好地处理边缘情况：的确，标准方程可能没有解，如果矩阵X⊤X是不可逆的（即奇异的），例如如果m＜n或某些特征是多余的，但伪逆总是有定义的。",
   "id": "77c4dd8db2b151d6"
  },
  {
   "metadata": {},
   "cell_type": "markdown",
   "source": [
    "#### 计算复杂度\n",
    "标准方程计算$X^⊤X$的逆，是一个(n+1)×(n+1)的矩阵（n是特征数量）。对这种矩阵求逆的计算复杂度通常为O(n^2.4)到O(n^3)之间，取决于具体实现。换句话说，如果将特征数量翻倍，那么计算时间将乘以大约2^2.4=5.3倍到2^3=8倍。Scikit-Learn的LinearRegression类使用的SVD方法复杂度约为O(n^2)。如果你将特征数量加倍，那计算时间大约是原来的4倍。\n",
    "\n",
    "特征数量比较大（例如100000）时，标准方程和SVD的计算将极其缓慢。好的一面是，相对于训练集中的实例数量[O(m)]来说，两个都是线性的，所以能够有效地处理大量的训练集，只要内存足够。同样，线性回归模型一经训练（不论是标准方程还是其他算法）​，预测就非常快速：因为计算复杂度相对于想要预测的实例数量和特征数量来说，都是线性的。换句话说，对两倍的实例（或者是两倍的特征）进行预测，大概需要两倍的时间。"
   ],
   "id": "c4bcb7c7bed3f631"
  },
  {
   "metadata": {},
   "cell_type": "markdown",
   "source": [
    "### 梯度下降\n",
    "- 更适合特征数量或者训练实例数量大到内存无法满足要求的场景。"
   ],
   "id": "b4473166b89161a8"
  },
  {
   "metadata": {},
   "cell_type": "markdown",
   "source": [
    "- 要点复习：不同尺度的特征梯度下降速度不一样，应用梯度下降时，需要保证所有特征值的大小比例都差不多（Sklearn的StandardScaler类），否则收敛的时间会长很多\n",
    "![有和没有特征缩放的梯度下降](./images/regression/p1.png)\n",
    "\n",
    "左边的训练集特征1和特征2有相同的数值规模，而右边的训练集上，特征1的值比特征2要小得多。（因为特征1较小，需要比特征2有更大的变化才能影响代价函数，这也是被拉长的特征是更小的特征的原因）"
   ],
   "id": "6bfb9526874b0951"
  },
  {
   "metadata": {
    "ExecuteTime": {
     "end_time": "2025-07-29T14:10:18.960578Z",
     "start_time": "2025-07-29T14:10:18.949020Z"
    }
   },
   "cell_type": "code",
   "source": [
    "# 批量梯度下降算法快速实现\n",
    "eta = 0.1 # 学习率\n",
    "n_epochs = 1000\n",
    "m = len(X_b)\n",
    "\n",
    "np.random.seed(100)\n",
    "theta = np.random.randn(2,1)\n",
    "\n",
    "for epoch in range(n_epochs):\n",
    "    gradients = X_b.T @ (X_b @ theta - y) / m\n",
    "    theta = theta - eta * gradients\n"
   ],
   "id": "ded706a5e1d3eccb",
   "outputs": [],
   "execution_count": 17
  },
  {
   "metadata": {
    "ExecuteTime": {
     "end_time": "2025-07-29T14:10:19.382330Z",
     "start_time": "2025-07-29T14:10:19.368810Z"
    }
   },
   "cell_type": "code",
   "source": "theta",
   "id": "2f0688e4520ffdb0",
   "outputs": [
    {
     "data": {
      "text/plain": [
       "array([[3.9848596],\n",
       "       [2.8623262]])"
      ]
     },
     "execution_count": 18,
     "metadata": {},
     "output_type": "execute_result"
    }
   ],
   "execution_count": 18
  },
  {
   "metadata": {},
   "cell_type": "markdown",
   "source": "#### 随机梯度下降(Stochastic Gradient Descent)\n",
   "id": "826ba791d9259d4"
  },
  {
   "metadata": {},
   "cell_type": "markdown",
   "source": [
    "批量梯度下降的主要问题是它要用整个训练集来计算每一步的梯度，所以当训练集很大时，算法会特别慢。与之相反的极端是随机梯度下降，随机梯度下降每一步在训练集中随机选择一个实例，并且仅基于该单个实例来计算梯度。显然，这让算法变得快多了，因为每个迭代都只需要操作少量的数据。它也可以被用来训练海量的数据集，因为每次迭代只需要在内存中运行一个实例（SGD可以作为核外算法实现，大量数据无法一次载入内存，分批训练）。另外，由于算法的随机性质，它比批量梯度下降要不规则得多。代价函数将不再是缓缓降低直到抵达最小值，而是不断上上下下，但是从整体来看，还是在慢慢下降。随着时间推移，代价函数最终会非常接近最小值，但是即使它到达了最小值，依旧会持续反弹，永远不会停止。一旦算法停止，最终的参数值会很好，但不是最优的。\n",
    "\n",
    "![随机梯度下降的路线图](./images/regression/p2.png)"
   ],
   "id": "3a24cf17eca3f9e5"
  },
  {
   "metadata": {},
   "cell_type": "markdown",
   "source": [
    "当代价函数非常不规则时，随机梯度下降其实可以帮助算法跳出局部最小值，所以相比批量梯度下降，它对找到全局最小值更有优势。因此，随机性的好处在于可以逃离局部最优，但缺点是永远定位不出最小值。\n",
    "\n",
    "要解决这个困境，有一个办法是逐步降低学习率。开始的步长比较大（这有助于快速进展和逃离局部最小值），然后越来越小，让算法尽量靠近全局最小值。这个过程叫作模拟退火，因为它类似于冶金时熔化的金属慢慢冷却的退火过程。确定每个迭代学习率的函数叫作学习率调度。如果学习率降得太快，可能会陷入局部最小值，甚至停留在走向最小值的半途中。如果学习率降得太慢，你需要很长时间才能跳到最小值附近，如果提早结束训练，可能只得到一个次优的解决方案。\n",
    "\n",
    "学习率调度理解：eta = 1.0 / (alpha * (t + t0))； t0和alpha两个超参数需要提前确定； 或者是 按 eta = eta0 / (1+k*t)理解, eta0是初始学习率，k是衰减的速度"
   ],
   "id": "119e08de0ad86d90"
  },
  {
   "metadata": {
    "ExecuteTime": {
     "end_time": "2025-07-29T14:43:11.909167Z",
     "start_time": "2025-07-29T14:43:11.864651Z"
    }
   },
   "cell_type": "code",
   "source": [
    "# 有学习率调度的随机梯度下降实现\n",
    "\n",
    "n_epochs = 50\n",
    "t0, t1 = 5, 50\n",
    "\n",
    "def learning_schedule(t):\n",
    "    return t0 / (t + t1)\n",
    "\n",
    "np.random.seed(100)\n",
    "theta = np.random.randn(2,1)\n",
    "\n",
    "for epoch in range(n_epochs):\n",
    "    for iteration in range(m):\n",
    "        random_index = np.random.randint(m)\n",
    "        xi = X_b[random_index : random_index + 1]\n",
    "        yi = y[random_index : random_index + 1]\n",
    "        gradients = xi.T @ (xi @ theta - yi)  # 单个样本的梯度 不需要除以m\n",
    "        eta = learning_schedule(epoch*m + iteration)\n",
    "        theta = theta - eta * gradients\n"
   ],
   "id": "f25fceeb0521ecb1",
   "outputs": [],
   "execution_count": 19
  },
  {
   "metadata": {
    "ExecuteTime": {
     "end_time": "2025-07-29T14:43:24.394094Z",
     "start_time": "2025-07-29T14:43:24.387583Z"
    }
   },
   "cell_type": "code",
   "source": "theta",
   "id": "ac205c05d8e02f5f",
   "outputs": [
    {
     "data": {
      "text/plain": [
       "array([[3.98380275],\n",
       "       [2.87435455]])"
      ]
     },
     "execution_count": 22,
     "metadata": {},
     "output_type": "execute_result"
    }
   ],
   "execution_count": 22
  },
  {
   "metadata": {},
   "cell_type": "markdown",
   "source": "用随机梯度下降时，训练实例必须独立且在同一个概率分布下(Independent and Identically Distributed，IID)，以确保平均而言将参数拉向全局最优值。确保这一点的一种简单方法是在训练过程中对实例进行随机混洗（例如，随机选择每个实例，或者在每个轮次开始时随机混洗训练集）。如果不对实例进行混洗（例如，如果实例按标签排序）​，那么SGD将首先针对一个标签进行优化，然后针对下一个标签进行优化，以此类推，并且它不会接近全局最小值。",
   "id": "cf80f2e08480e2a4"
  },
  {
   "metadata": {},
   "cell_type": "markdown",
   "source": "要使用带有Scikit-Learn的随机梯度下降执行线性回归，可以使用SGDRegressor类，该类默认优化MSE代价函数。以下代码最多可运行1000个轮次(max_iter)，或者直到 连续100个轮次训练后，损失下降小于10-5(tol)为止(n_iter_no_change)。它使用默认的学习调度（与前一个使用的不同）以0.01(eta0)的学习率开始（eta0/迭代次数)。最后，它不使用任何正则化（penalty=None）",
   "id": "8f3a23a8700750cc"
  },
  {
   "metadata": {
    "ExecuteTime": {
     "end_time": "2025-07-29T15:02:21.247591Z",
     "start_time": "2025-07-29T15:02:21.225337Z"
    }
   },
   "cell_type": "code",
   "source": [
    "from sklearn.linear_model import SGDRegressor\n",
    "\n",
    "sgd_reg = SGDRegressor(max_iter=1000, tol=1e-5, penalty=None, eta0=0.01, n_iter_no_change=100, random_state=100)\n",
    "# sgd_reg.fit(X, y) # DataConversionWarning: A column-vector y was passed when a 1d array was expected. Please change the shape of y to (n_samples, ), for example using ravel().\n",
    "sgd_reg.fit(X, y.ravel())\n",
    "\n",
    "sgd_reg.intercept_, sgd_reg.coef_"
   ],
   "id": "5f412dd1fa96a87b",
   "outputs": [
    {
     "data": {
      "text/plain": [
       "(array([3.98345809]), array([2.86442731]))"
      ]
     },
     "execution_count": 25,
     "metadata": {},
     "output_type": "execute_result"
    }
   ],
   "execution_count": 25
  },
  {
   "metadata": {},
   "cell_type": "markdown",
   "source": "#### 小批量梯度下降（Mini-Batch gradient descent)",
   "id": "3f5e55ab921ff827"
  },
  {
   "metadata": {},
   "cell_type": "markdown",
   "source": [
    "最后一个梯度下降算法变体称为小批量梯度下降。了解了批量和随机梯度下降后，就很容易理解它：在每一步中，不是根据完整的训练集（如批量GD）或仅基于一个实例（如随机GD）来计算梯度，小批量GD在称为小型批量的随机实例集上计算梯度。小批量GD优于随机GD的主要优点是，可以通过矩阵操作的硬件优化来提高性能，特别是在使用GPU时。\n",
    "\n",
    "与随机GD相比，该算法在参数空间上的进展更稳定，尤其是在相当大的小批次中。小批量GD最终将比随机GD走得更接近最小值，但它可能很难摆脱局部最小值（在受局部最小值影响的情况下，不像有MSE代价函数的线性回归）。下图展示了训练期间参数空间中三种梯度下降算法所采用的路径。它们最终都接近最小值，但是批量GD的路径实际上是在最小值处停止，而随机GD和小批量GD都继续走动。但是，要记住批量GD每步需要花费很多时间，如果使用了良好的学习率调度，则随机GD和小批量GD也会达到最小值。\n",
    "\n",
    "![不同梯度下降在参数空间中的路径](./images/regression/p3.png)"
   ],
   "id": "b22ecafa0b1fee13"
  },
  {
   "metadata": {},
   "cell_type": "markdown",
   "source": [
    "- 线性回归算法的比较\n",
    "\n",
    "![线性回归的算法比较](./images/regression/p4.png)"
   ],
   "id": "834c60e6ab9833f7"
  },
  {
   "metadata": {},
   "cell_type": "code",
   "outputs": [],
   "execution_count": null,
   "source": "",
   "id": "115849defaba39e9"
  }
 ],
 "metadata": {
  "kernelspec": {
   "display_name": "Python 3",
   "language": "python",
   "name": "python3"
  },
  "language_info": {
   "codemirror_mode": {
    "name": "ipython",
    "version": 2
   },
   "file_extension": ".py",
   "mimetype": "text/x-python",
   "name": "python",
   "nbconvert_exporter": "python",
   "pygments_lexer": "ipython2",
   "version": "2.7.6"
  }
 },
 "nbformat": 4,
 "nbformat_minor": 5
}
