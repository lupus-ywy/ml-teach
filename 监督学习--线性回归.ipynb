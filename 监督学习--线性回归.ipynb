{
 "cells": [
  {
   "metadata": {},
   "cell_type": "markdown",
   "source": [
    "## 回归模型\n",
    "![线性回归示意图](./images/监督学习-回归-1.png)\n",
    "- 回归模型预测数值，线性回归是回归模型的一种\n",
    "\n",
    "| 特征   | 标签  |\n",
    "|------|-----|\n",
    "| 2104 | 400 |\n",
    "| 1416 | 232 |\n",
    "| 1534 | 315 |\n",
    "| ...  | ... |\n",
    "| 3210 | 870 |"
   ],
   "id": "8b2dc73316fc21e7"
  },
  {
   "metadata": {},
   "cell_type": "markdown",
   "source": [
    "### 机器学习术语\n",
    "- 训练集（training set): 用来训练模型的数据\n",
    "- x：特征（feature）/输入变量\n",
    "- y：输出变量/目标变量\n",
    "- m：训练集的数量\n",
    "- (x,y): 单个训练数据\n",
    "- $x^{(i)}$, $y^{(i)}$： 第i个训练数据"
   ],
   "id": "af0a81bb4f1e145d"
  },
  {
   "metadata": {},
   "cell_type": "markdown",
   "source": [
    "监督学习：\n",
    "\n",
    "训练集 -- 学习算法 -- 得到一个 f（数学模型， 函数）\n",
    "\n",
    "x（特征）-- f（模型，函数） -- 预测（预测的y）\n",
    "\n",
    "问题：这个f怎么表示？\n",
    "\n",
    "f(x) = wx + b,  这是一个最简单的回归模型：线性回归。 但它可以作为其他回归模型的理解基础\n",
    "在示例的数据中，它是单变量的线性回归，特征只有一个变量"
   ],
   "id": "9bdb6d25449414"
  },
  {
   "metadata": {
    "ExecuteTime": {
     "end_time": "2025-07-10T03:41:01.608922Z",
     "start_time": "2025-07-10T03:40:59.908606Z"
    }
   },
   "cell_type": "code",
   "source": [
    "import numpy as np\n",
    "import matplotlib.pyplot as plt"
   ],
   "id": "d694cedea6905a77",
   "outputs": [],
   "execution_count": 1
  },
  {
   "metadata": {
    "ExecuteTime": {
     "end_time": "2025-07-10T03:41:17.223969Z",
     "start_time": "2025-07-10T03:41:17.118253Z"
    }
   },
   "cell_type": "code",
   "source": [
    "# x_train 输入变量\n",
    "# y_train 目标变量\n",
    "x_train = np.array([1.0, 2.0])\n",
    "y_train = np.array([300.0, 500.0])\n",
    "print(f\"x_train = {x_train}\")\n",
    "print(f\"y_train = {y_train}\")"
   ],
   "id": "874c8f3a48f96259",
   "outputs": [
    {
     "name": "stdout",
     "output_type": "stream",
     "text": [
      "x_train = [1. 2.]\n",
      "y_train = [300. 500.]\n"
     ]
    }
   ],
   "execution_count": 2
  },
  {
   "metadata": {
    "ExecuteTime": {
     "end_time": "2025-07-10T03:42:09.125842Z",
     "start_time": "2025-07-10T03:42:09.116574Z"
    }
   },
   "cell_type": "code",
   "source": [
    "# 使用m 表示训练数据的数量\n",
    "print(f\"x_train.shape: {x_train.shape}\")\n",
    "m = x_train.shape[0]\n",
    "# m = len(x_train)\n",
    "print(f\"训练数据的数量: {m}\")"
   ],
   "id": "40fa0ceb30ea512e",
   "outputs": [
    {
     "name": "stdout",
     "output_type": "stream",
     "text": [
      "x_train.shape: (2,)\n",
      "训练数据的数量: 2\n"
     ]
    }
   ],
   "execution_count": 4
  },
  {
   "metadata": {
    "ExecuteTime": {
     "end_time": "2025-07-10T03:43:35.992785Z",
     "start_time": "2025-07-10T03:43:35.834642Z"
    }
   },
   "cell_type": "code",
   "source": [
    "# 画数据的散点图\n",
    "# Plot the data points\n",
    "plt.scatter(x_train, y_train, marker='x', c='r')\n",
    "# Set the title\n",
    "plt.title(\"Data may be anything\")\n",
    "# Set the y-axis label\n",
    "plt.ylabel('Income ')\n",
    "# Set the x-axis label\n",
    "plt.xlabel('level ')\n",
    "plt.show()"
   ],
   "id": "c74de22326fcf719",
   "outputs": [
    {
     "data": {
      "text/plain": [
       "<Figure size 640x480 with 1 Axes>"
      ],
      "image/png": "[encoded data removed]"
     },
     "metadata": {},
     "output_type": "display_data"
    }
   ],
   "execution_count": 6
  },
  {
   "metadata": {
    "ExecuteTime": {
     "end_time": "2025-07-10T03:57:11.572177Z",
     "start_time": "2025-07-10T03:57:11.561207Z"
    }
   },
   "cell_type": "code",
   "source": [
    "# 用直线（线性模型）去匹配训练数据，定义线性模型本身的参数 w，b （f(x)=wx+b)\n",
    "w = 200\n",
    "b = 100\n",
    "print(f\"w: {w}\")\n",
    "print(f\"b: {b}\")"
   ],
   "id": "797d3f1223d4cbb",
   "outputs": [
    {
     "name": "stdout",
     "output_type": "stream",
     "text": [
      "w: 200\n",
      "b: 100\n"
     ]
    }
   ],
   "execution_count": 14
  },
  {
   "metadata": {},
   "cell_type": "code",
   "outputs": [],
   "execution_count": null,
   "source": [
    "# 可以对每个训练数据的输入变量，计算 f 预测的输出\n",
    "def compute_model_output(x, w, b):\n",
    "    \"\"\"\n",
    "    计算线性模型的预测\n",
    "    Args:\n",
    "      x (ndarray (m,)): Data, m 个训练数据的输入变量\n",
    "      w,b (scalar)    : 模型参数\n",
    "    Returns\n",
    "      f_wb (ndarray (m,)): 模型对输入的预测\n",
    "    \"\"\"\n",
    "    return w*x + b\n"
   ],
   "id": "859d25921a7eb5f3"
  },
  {
   "metadata": {
    "ExecuteTime": {
     "end_time": "2025-07-10T03:57:14.574089Z",
     "start_time": "2025-07-10T03:57:14.409563Z"
    }
   },
   "cell_type": "code",
   "source": [
    "# 调用compute_model_output, 画出输出\n",
    "\n",
    "tmp_f_wb = compute_model_output(x_train, w, b)\n",
    "tmp_f_wb\n",
    "# 画预测的线\n",
    "plt.plot(x_train, tmp_f_wb, c='b',label='Our Prediction')\n",
    "#\n",
    "# 画训练数据\n",
    "plt.scatter(x_train, y_train, marker='x', c='r',label='Actual Values')\n",
    "#\n",
    "# 设置标题\n",
    "plt.title(\"Data may be anything\")\n",
    "#\n",
    "# 设置y轴标签\n",
    "plt.ylabel('Income ')\n",
    "#\n",
    "# 设置x轴标签\n",
    "plt.xlabel('Level ')\n",
    "plt.legend()  # 显示图例\n",
    "plt.show()"
   ],
   "id": "1d2c146dbf42e872",
   "outputs": [
    {
     "data": {
      "text/plain": [
       "<Figure size 640x480 with 1 Axes>"
      ],
      "image/png": "[encoded data removed]"
     },
     "metadata": {},
     "output_type": "display_data"
    }
   ],
   "execution_count": 15
  },
  {
   "metadata": {},
   "cell_type": "code",
   "outputs": [],
   "execution_count": null,
   "source": [
    "# 随堂练习：\n",
    "# 尝试去为线性模型设置不同w和b， w，b是多少的时候可以最好地拟合训练数据\n"
   ],
   "id": "25a141bcc04abcf9"
  },
  {
   "metadata": {
    "ExecuteTime": {
     "end_time": "2025-07-10T03:58:27.295567Z",
     "start_time": "2025-07-10T03:58:27.280581Z"
    }
   },
   "cell_type": "code",
   "source": [
    "# 预测：现在有了具体的模型（得出了模型的参数，在线性模型里是w和b），可以拿它用来预测没有见过的输入\n",
    "x_new = 1.2\n",
    "income_pred = w * x_new + b\n",
    "print(f\"对x=1.2预测的数据: {income_pred:.2f}\")"
   ],
   "id": "720dc0572051fdff",
   "outputs": [
    {
     "name": "stdout",
     "output_type": "stream",
     "text": [
      "对x=1.2预测的数据: 340.00\n"
     ]
    }
   ],
   "execution_count": 16
  },
  {
   "metadata": {},
   "cell_type": "markdown",
   "source": [
    "### 损失函数\n",
    "![单个损失](./images/监督学习-回归-2.png)\n",
    "- 衡量模型的表现，损失函数的值越小说明模型表现越好\n",
    "- 最小化损失函数的值也被称作训练目标\n",
    "- f(x) = wx+b, x是固定的，由输入的数据决定，w和b是可以调整的，w，b也被称作模型的权重\n",
    "- 训练数据的实际的y和f(x)预测的y有差距，因此可以将把每个训练数据的误差都考虑到，定义如下损失函数：均方误差损失（MSE）：\n",
    "<!-- 预测值定义 -->\n",
    "$$\n",
    "\\hat y^{(i)} \\;=\\; w^{\\top}x^{(i)} + b\n",
    "$$\n",
    "\n",
    "<!-- 损失函数 -->\n",
    "$$\n",
    "J(w,b) \\;=\\; \\frac{1}{2m}\\sum_{i=1}^{m}\\!\\bigl(\\,\\hat y^{(i)} - y^{(i)}\\bigr)^2\n",
    "$$\n",
    "- 1/2m为了让这个损失值不会因为训练集变大，使误差变得很大；也为了后续计算方便\n",
    "- 注意：不同的w，b决定了不同的直线模型，不同的直线模型在训练数据上有不同的损失 -> J(w,b)是关于w，b的函数！w，b是自变量。\n",
    "- 找到w，b使得J(w,b)最小化，这样的w，b也能最贴合训练数据，只要J(w,b)的定义合理\n",
    "\n",
    "总结： 模型训练的四要素\n",
    "- 模型的假设： 对模型数学公式的假设，直线模型\n",
    "- 参数：数学公式自己的参数，wx+b， 参数 w和b\n",
    "- 损失函数: 关于参数的函数，输入：模型的参数 返回的数字\n",
    "- 目标： 找到w和b，可以最小化损失函数"
   ],
   "id": "a9b0998132ebeeda"
  },
  {
   "metadata": {},
   "cell_type": "markdown",
   "source": "![损失函数图像](./images/监督学习-回归-3.png)",
   "id": "1792a9126448d0c0"
  },
  {
   "metadata": {},
   "cell_type": "markdown",
   "source": [
    "### 达到目标/最小化损失函数的方式 -- 梯度下降\n",
    "- 一个函数关于每个变量的偏导数，每个变量的偏导数组织在一起是一个向量，这个向量的方向是函数增长最快的方向\n",
    "- 每个具体w，b计算梯度,得到具体的向量，当前w，b沿着梯度相反的方向走，可以是J(w,b)变小\n",
    "- 梯度下降算法在机器学习中很常用，不只是线性回归\n",
    "- 步骤：\n",
    "-   1. 初始化w和b  2. 不断改变w，b使得J(w,b)变小  3. 直到在最小值附近\n",
    "- 损失函数不一定只有一个最小值，可能有多个最小值, 所以不同的初始w，b可能会走向不同的最小值；但平方差之和的损失函数肯定只有一个最小值："
   ],
   "id": "983f5d44f0c8ef5"
  },
  {
   "metadata": {},
   "cell_type": "markdown",
   "source": "![多个最小值的损失函数](./images/监督学习-回归4.png)",
   "id": "3c02ee5b6d922e25"
  },
  {
   "metadata": {},
   "cell_type": "markdown",
   "source": [
    "### 梯度下降：同步更新 vs. 不同步更新\n",
    "\n",
    "| 步骤           | **同步更新（Simultaneous / Synchronous）**<br>——最常用，保证同一轮梯度基于“旧参数” | **不同步更新（Sequential / Asynchronous）**<br>——概念说明用，实际较少单独使用                                                             |\n",
    "|--------------|------------------------------------------------|----------------------------------------------------------------------------------------------------------------------|\n",
    "| **1 计算梯度**   | \\\\(g_w = \\frac{\\partial J}{\\partial w}(w,b),\\; g_b = \\frac{\\partial J}{\\partial b}(w,b)\\\\) | **先算 \\\\(w\\\\) 梯度**<br>\\\\(g_w = \\frac{\\partial J}{\\partial w}(w,b)\\\\)                                                  |\n",
    "| **2 生成暂存变量** | \\\\(\\tilde w = w - \\alpha g_w\\\\)<br>\\\\(\\tilde b = b - \\alpha g_b\\\\) | （无暂存，直接改）<br>\\\\(w \\leftarrow w - \\alpha g_w\\\\)                                                                       |\n",
    "| **3 赋值**     | \\\\(w \\leftarrow \\tilde w\\\\)<br>\\\\(b \\leftarrow \\tilde b\\\\)<br>**同时生效** | **再用已更新的 \\\\(w\\\\)** 重新计算<br>\\\\(g_b = \\frac{\\partial J}{\\partial b}(w,b)\\\\)<br>然后<br>\\\\(b \\leftarrow b - \\alpha g_b\\\\) |\n",
    "| **4 迭代下一轮**  | 全部参数都基于**上一轮旧值**算梯度，收敛更平稳 | 后计算的参数用到了**前面已更新的新值**；和同步更新的性质不一样                                                                                    |\n",
    "\n",
    "---\n",
    "\n",
    "- 同步更新公式（常用写法）：\n",
    "\\begin{aligned}\n",
    "g_w &= \\frac{1}{m}\\sum_{i=1}^{m}(\\hat y^{(i)}-y^{(i)})\\,x^{(i)},\\\\[4pt]\n",
    "g_b &= \\frac{1}{m}\\sum_{i=1}^{m}(\\hat y^{(i)}-y^{(i)}),\\\\[8pt]\n",
    "w &\\leftarrow w - \\alpha\\,g_w,\\\\\n",
    "b &\\leftarrow b - \\alpha\\,g_b.\n",
    "\\end{aligned}\n",
    "\n",
    "- 不同步更新示例：\n",
    "\\begin{aligned}\n",
    "w &\\leftarrow w - \\alpha\\,\\frac{\\partial J}{\\partial w}(w,b)\\\\[6pt]\n",
    "b &\\leftarrow b - \\alpha\\,\\frac{\\partial J}{\\partial b}\\bigl(\\underbrace{w}_{\\text{已更新}},\\,b\\bigr).\n",
    "\\end{aligned}"
   ],
   "id": "49b941070b32e7c5"
  },
  {
   "metadata": {},
   "cell_type": "markdown",
   "source": [
    "- 梯度下降直觉：\n",
    "1. 可以把参数b去掉，J(w)是一个变量的函数，J(w)在某个w0的导数是正数，说明w0应该往左，J(w)会变低；导数是负数，说明w0应该往右，J(w)会变低，所以即使单个变量的函数，把导数的正负看成方向，导数的方向也是函数增长的最快方向。\n",
    "2. 所以参数的更新公式是 w = w - learning_rate(学习率) * (dJ/dw), dJ/dw是损失函数的导数； 才可能保证J(w)变低"
   ],
   "id": "b7b802e09dd28995"
  },
  {
   "metadata": {},
   "cell_type": "markdown",
   "source": [
    "### 学习率α\n",
    "- 如果学习率太小，梯度下降可以正常进行，但会很慢\n",
    "\n",
    "![学习率小](./images/监督学习-回归5.png)\n",
    "\n",
    "- 如果学习率太大：\n",
    "    1. 更新可能会一直跨过达到最小值的参数，一直到不了最小值\n",
    "    2. 损失函数值可能不会收敛到一个值，会发散。\n",
    "\n",
    "![学习率大](./images/监督学习-回归6.png)\n",
    "\n",
    "- 如果初始化的参数正好落在了局部最小值，梯度下降不会更新参数\n",
    "- 如果学习率正合适，每次用梯度下降更新参数，不需要改变学习率，固定学习率也可以使得J(w,b)到达局部最小值\n",
    "    1. 在局部最小值附近，导数变小了，每次更新的幅度自动变小了\n",
    "    2. 所以不需要降低学习率去到达局部最小\n",
    "\n",
    "![学习率合适](./images/监督学习-回归7.png)"
   ],
   "id": "65801e80e88a98da"
  },
  {
   "metadata": {},
   "cell_type": "markdown",
   "source": [
    "### 线性回归模型的梯度下降\n",
    "- 线性回归模型：\n",
    "$$\n",
    "f(x) \\;=\\; w*x + b\n",
    "$$\n",
    "- 损失函数：\n",
    "$$\n",
    "J(w,b) \\;=\\; \\frac{1}{2m}\\sum_{i=1}^{m}\\!\\bigl(\\,f(x^{(i)}) - y^{(i)}\\bigr)^2\n",
    "$$\n",
    "- 优化（最小化）损失函数的方式：\n",
    "\\begin{aligned}\n",
    "g_w &= \\frac{1}{m}\\sum_{i=1}^{m}(f(x^{(i)})-y^{(i)})\\,x^{(i)},\\\\[4pt]\n",
    "g_b &= \\frac{1}{m}\\sum_{i=1}^{m}(f(x^{(i)})-y^{(i)}),\\\\[8pt]\n",
    "w &\\leftarrow w - \\alpha\\,g_w,\\\\\n",
    "b &\\leftarrow b - \\alpha\\,g_b.\n",
    "\\end{aligned}\n",
    "\n",
    "- 导数公式的推导过程（不理解也没关系，有最终的梯度公式就能写代码了）：\n",
    "\\begin{aligned}\n",
    "\\frac{\\partial J}{\\partial w}\n",
    "   &=\\frac{\\partial}{\\partial w}\\;\n",
    "     \\frac1{2m}\\sum_{i=1}^{m}\\Bigl(f_{w,b}\\bigl(x^{(i)}\\bigr)-y^{(i)}\\Bigr)^2 \\\\[4pt]\n",
    "   &=\\frac1{2m}\\sum_{i=1}^{m}2\\bigl(wx^{(i)}+b-y^{(i)}\\bigr)\\,x^{(i)} \\\\[4pt]\n",
    "   &=\\frac1{m}\\sum_{i=1}^{m}\\Bigl(f_{w,b}\\bigl(x^{(i)}\\bigr)-y^{(i)}\\Bigr)\\,x^{(i)}\n",
    "\\end{aligned}\n",
    "\n",
    "\\begin{aligned}\n",
    "\\frac{\\partial J}{\\partial b}\n",
    "   &=\\frac{\\partial}{\\partial b}\\;\n",
    "     \\frac1{2m}\\sum_{i=1}^{m}\\Bigl(f_{w,b}\\bigl(x^{(i)}\\bigr)-y^{(i)}\\Bigr)^2 \\\\[4pt]\n",
    "   &=\\frac1{2m}\\sum_{i=1}^{m}2\\bigl(wx^{(i)}+b-y^{(i)}\\bigr) \\\\[4pt]\n",
    "   &=\\frac1{m}\\sum_{i=1}^{m}\\Bigl(f_{w,b}\\bigl(x^{(i)}\\bigr)-y^{(i)}\\Bigr)\n",
    "\\end{aligned}\n",
    "\n",
    "- 梯度下降最终算法：\n",
    "重复执行以下逻辑，直到J的值收敛了，或者直到w和b的梯度接近于0；注意：**同时更新 \\(w\\) 和 \\(b\\)**\n",
    "\\begin{aligned}\n",
    "w &\\;\\leftarrow\\; w - \\alpha \\,\\frac{1}{m}\\sum_{i=1}^{m}\n",
    "      \\Bigl(f_{w,b}\\bigl(x^{(i)}\\bigr)-y^{(i)}\\Bigr)\\,x^{(i)},\\\\[6pt]\n",
    "b &\\;\\leftarrow\\; b - \\alpha \\,\\frac{1}{m}\\sum_{i=1}^{m}\n",
    "      \\Bigl(f_{w,b}\\bigl(x^{(i)}\\bigr)-y^{(i)}\\Bigr).\n",
    "\\end{aligned}\n",
    "\n",
    "- 线性回归的平方差之和的损失函数是凹函数（碗状函数），只有一个全局最小值，没有局部最小值\n",
    "- 这个算法梯度下降的每一步用了所有的训练数据，每一步用了所有训练数据的梯度下降也叫 批量梯度下降（Batch Gradient Descent)； 有一步梯度下降用训练数据的子集参与计算的算法\n"
   ],
   "id": "110570e0c157ec40"
  },
  {
   "metadata": {},
   "cell_type": "markdown",
   "source": "### 线性回归梯度下降代码实验",
   "id": "9468185a8297aa61"
  },
  {
   "metadata": {
    "ExecuteTime": {
     "end_time": "2025-07-10T14:48:24.779816Z",
     "start_time": "2025-07-10T14:48:24.372319Z"
    }
   },
   "cell_type": "code",
   "source": [
    "import numpy as np\n",
    "import matplotlib.pyplot as plt"
   ],
   "id": "62a6f494002be306",
   "outputs": [],
   "execution_count": 1
  },
  {
   "metadata": {
    "ExecuteTime": {
     "end_time": "2025-07-10T14:52:55.615483Z",
     "start_time": "2025-07-10T14:52:55.552954Z"
    }
   },
   "cell_type": "code",
   "source": [
    "# TODO 1. 自定义训练集数据, 并用散点图可视化\n",
    "x_train = ...  # 输入数据\n",
    "y_train = ...  # 输入数据对应的标签\n",
    "\n",
    "# 示例图片："
   ],
   "id": "795b0757bd29b00c",
   "outputs": [
    {
     "data": {
      "text/plain": [
       "<Figure size 640x480 with 1 Axes>"
      ],
      "image/png": "[encoded data removed]"
     },
     "metadata": {},
     "output_type": "display_data"
    }
   ],
   "execution_count": 6
  },
  {
   "metadata": {
    "ExecuteTime": {
     "end_time": "2025-07-10T15:58:33.873219Z",
     "start_time": "2025-07-10T15:58:33.865511Z"
    }
   },
   "cell_type": "code",
   "source": [
    "# 2. 完成损失函数的实现\n",
    "def compute_cost(x, y, w, b):\n",
    "    \"\"\"\n",
    "    x: ndarray (m,) 训练数据的特征\n",
    "    y: ndarray (m,) 训练数据的标签\n",
    "    w: 浮点数，直线模型的参数\n",
    "    b: 浮点数，直线模型的参数\n",
    "    return: 浮点数，当前w，b下的损失值\n",
    "    \"\"\"\n",
    "    # TODO"
   ],
   "id": "67cd75c97308a81",
   "outputs": [],
   "execution_count": 27
  },
  {
   "metadata": {
    "ExecuteTime": {
     "end_time": "2025-07-10T15:58:35.658795Z",
     "start_time": "2025-07-10T15:58:35.643147Z"
    }
   },
   "cell_type": "code",
   "source": [
    "# 3. 完成计算梯度函数的实现\n",
    "def compute_gradient(x, y, w, b):\n",
    "    \"\"\"\n",
    "    计算线性回归的梯度\n",
    "    参数:\n",
    "      x (ndarray (m,)): 输入数据，m 个样本\n",
    "      y (ndarray (m,)): 目标值\n",
    "      w, b (浮点数)   : 模型参数\n",
    "    返回:\n",
    "      dj_dw (浮点数): 损失函数对参数 w 的梯度\n",
    "      dj_db (浮点数): 损失函数对参数 b 的梯度\n",
    "    \"\"\"\n",
    "    # TODO"
   ],
   "id": "8f8a6a362194d905",
   "outputs": [],
   "execution_count": 28
  },
  {
   "metadata": {},
   "cell_type": "markdown",
   "source": [
    "- 检查梯度计算实现是否正确，本质是根据导数的定义来计算：\n",
    "| 概念                          | 说明                                                                                                                                                                             |\n",
    "| --------------------------- |--------------------------------------------------------------------------------------------------------------------------------------------------------------------------------|\n",
    "| **梯度检查（Gradient Checking）** | 在机器学习中会遇到复杂的梯度公式。为了防止推导或代码实现出错，可用 **数值差分**（finite difference）近似梯度，再与解析梯度对比。若两者误差极小，就说明实现是可信的。                                                                                  |\n",
    "| **中心差分**                    | 数值梯度近似公式：<br>\\\\(\\displaystyle \\frac{\\partial J}{\\partial \\theta}\\approx\\frac{J(\\theta+\\varepsilon)-J(\\theta-\\varepsilon)}{2\\varepsilon}\\\\)；误差 \\\\(O(\\varepsilon^2)\\\\)，比单边差分更精确。 |\n",
    "| **适用场景**                    | - 调试早期代码<br>- 单元测试（确保未来改动不破坏梯度）<br>                                                                                                                        |\n",
    "| **限制**                      | 数值差分需要多次计算损失函数，**速度慢**。真实深度神经网络只在开发阶段做小批量检查。                                                                                                                  |\n",
    "\n",
    "\n",
    "- 中心差分更准确的数学扩展（了解即可）：\n",
    "\n",
    "为什么中心差分更精确？\n",
    "\n",
    "\\begin{aligned}\n",
    "J(\\theta + \\varepsilon)\n",
    "&= J(\\theta) + \\varepsilon J'(\\theta) + \\frac{\\varepsilon^{2}}{2}J''(\\theta) + \\mathcal{O}\\!\\bigl(\\varepsilon^{3}\\bigr),\\\\[6pt]\n",
    "J(\\theta - \\varepsilon)\n",
    "&= J(\\theta) - \\varepsilon J'(\\theta) + \\frac{\\varepsilon^{2}}{2}J''(\\theta) + \\mathcal{O}\\!\\bigl(\\varepsilon^{3}\\bigr).\n",
    "\\end{aligned}\n",
    "\n",
    "上述公式相减，误差只剩下极小数epsilon的立方项\n",
    "\n"
   ],
   "id": "9f7b9ffa473fad25"
  },
  {
   "metadata": {
    "ExecuteTime": {
     "end_time": "2025-07-10T15:58:38.677392Z",
     "start_time": "2025-07-10T15:58:38.661905Z"
    }
   },
   "cell_type": "code",
   "source": [
    "def gradient_check(x, y, w, b, eps=1e-7, tol=1e-4, verbose=True):\n",
    "    \"\"\"\n",
    "    使用数值差分验证 compute_gradient 是否正确\n",
    "    Args:\n",
    "        x, y : 数据集\n",
    "        w, b : 当前参数（float）\n",
    "        eps  : 微小扰动 ε，用于近似数值梯度\n",
    "        tol  : 容差阈值，|解析梯度 - 数值梯度| < tol 视为通过\n",
    "        verbose: 打印详细差异\n",
    "    Returns:\n",
    "        passed (bool) : 是否通过梯度检查\n",
    "    \"\"\"\n",
    "    # 1) 解析梯度\n",
    "    dj_dw, dj_db = compute_gradient(x, y, w, b)\n",
    "\n",
    "    # 2) 数值梯度——中心差分\n",
    "    num_dj_dw = (compute_cost(x, y, w + eps, b) -\n",
    "                 compute_cost(x, y, w - eps, b)) / (2 * eps)\n",
    "    num_dj_db = (compute_cost(x, y, w, b + eps) -\n",
    "                 compute_cost(x, y, w, b - eps)) / (2 * eps)\n",
    "\n",
    "    # 3) 误差\n",
    "    diff_w = abs(dj_dw - num_dj_dw)\n",
    "    diff_b = abs(dj_db - num_dj_db)\n",
    "    passed = diff_w < tol and diff_b < tol\n",
    "\n",
    "    if verbose:\n",
    "        print(f\"你实现的 dj_dw = {dj_dw: .6e}, 数值模拟 = {num_dj_dw: .6e}, 误差 = {diff_w: .2e}\")\n",
    "        print(f\"你实现的 dj_db = {dj_db: .6e}, 数值模拟 = {num_dj_db: .6e}, 误差 = {diff_b: .2e}\")\n",
    "        print(\"OK! Gradient check PASSED\" if passed else \"Gradient check FAILED\")\n",
    "\n",
    "    return passed\n",
    "\n",
    "test_w = 2\n",
    "test_b = 1\n",
    "assert gradient_check(x_train,y_train,test_w,test_b), \"梯度检查失败 梯度的实现有问题！！！\""
   ],
   "id": "d23aad637600db4e",
   "outputs": [
    {
     "name": "stdout",
     "output_type": "stream",
     "text": [
      "你实现的 dj_dw =  3.319238e+01, 数值模拟 =  3.319238e+01, 误差 =  1.74e-08\n",
      "你实现的 dj_db =  5.525835e+00, 数值模拟 =  5.525835e+00, 误差 =  8.63e-09\n",
      "OK! Gradient check PASSED\n"
     ]
    }
   ],
   "execution_count": 29
  },
  {
   "metadata": {},
   "cell_type": "markdown",
   "source": [
    "- 实现梯度下降算法\n",
    "\n",
    "既然梯度可以计算了，梯度下降法就可以实现了。要实现什么（Todo） 以及其他代码在做什么在注释中描述。 实现完成后，你将利用此函数在训练数据上找到 w和 b的最优值。\n"
   ],
   "id": "d0ae8a9d9974259a"
  },
  {
   "metadata": {
    "ExecuteTime": {
     "end_time": "2025-07-10T15:58:45.038193Z",
     "start_time": "2025-07-10T15:58:45.022563Z"
    }
   },
   "cell_type": "code",
   "source": [
    "import math\n",
    "def gradient_descent(x, y, w_in, b_in, alpha, num_iters,\n",
    "                     cost_function, gradient_function):\n",
    "    \"\"\"\n",
    "    执行梯度下降以拟合线性模型参数 w、b\n",
    "    将进行 num_iters 次参数更新，学习率为 alpha。\n",
    "\n",
    "    参数:\n",
    "      x (ndarray (m,))  : 输入数据，共 m 个样本\n",
    "      y (ndarray (m,))  : 目标值\n",
    "      w_in, b_in (float): 参数初始值\n",
    "      alpha (float)     : 学习率\n",
    "      num_iters (int)   : 梯度下降迭代次数\n",
    "      cost_function     : 计算成本 J 的函数\n",
    "      gradient_function : 计算梯度 (dj_dw, dj_db) 的函数\n",
    "\n",
    "    返回:\n",
    "      w (float)        : 迭代结束后的 w\n",
    "      b (float)        : 迭代结束后的 b\n",
    "      J_history (list) : 每次迭代的损失值\n",
    "      p_history (list) : 每次迭代的参数 [w, b]\n",
    "    \"\"\"\n",
    "\n",
    "    # 用于保存损失值和参数历史，便于后续绘图\n",
    "    J_history = []\n",
    "    p_history = []\n",
    "\n",
    "    w, b = w_in, b_in\n",
    "    dj_dw, dj_db = 0, 0\n",
    "\n",
    "    for i in range(num_iters):\n",
    "        # Todo：1. 利用形式参数 gradient_function 计算梯度\n",
    "\n",
    "        # Todo：2.  按梯度下降公式同步更新参数 w，b\n",
    "\n",
    "        # 保存成本与参数\n",
    "        if i < 100_000:            # 防止存储资源消耗过大\n",
    "            J_history.append(cost_function(x, y, w, b))\n",
    "            p_history.append([w, b])\n",
    "\n",
    "        # 每进行总迭代次数的 1/10（或不足 10 次时每次）打印一次训练的信息\n",
    "        if i % math.ceil(num_iters / 10) == 0:\n",
    "            print(f\"迭代 {i:4d}:  成本 {J_history[-1]:0.2e}  \"\n",
    "                  f\"dj_dw: {dj_dw: 0.3e}, dj_db: {dj_db: 0.3e}  \"\n",
    "                  f\"w: {w: 0.3e}, b: {b: 0.5e}\")\n",
    "\n",
    "    # 返回最终参数及历史记录\n",
    "    return w, b, J_history, p_history"
   ],
   "id": "45f750b89781ca85",
   "outputs": [],
   "execution_count": 30
  },
  {
   "metadata": {
    "ExecuteTime": {
     "end_time": "2025-07-10T15:58:46.681645Z",
     "start_time": "2025-07-10T15:58:46.556415Z"
    }
   },
   "cell_type": "code",
   "source": [
    "# 初始化直线的参数\n",
    "w_init = 0\n",
    "b_init = 0\n",
    "\n",
    "# 梯度下降算法 设置迭代次数 和 学习率\n",
    "iterations = 10000\n",
    "tmp_alpha = 1.0e-2\n",
    "\n",
    "# 运行梯度下降\n",
    "w_final, b_final, J_hist, p_hist = gradient_descent(x_train ,y_train, w_init, b_init, tmp_alpha,\n",
    "                                                    iterations, compute_cost, compute_gradient)\n",
    "print(f\"梯度下降找到的(w,b) : ({w_final:8.4f},{b_final:8.4f})\")"
   ],
   "id": "f45e7b42d90e1b94",
   "outputs": [
    {
     "name": "stdout",
     "output_type": "stream",
     "text": [
      "迭代    0:  成本 7.14e+00  dj_dw: -2.831e+01, dj_db: -4.474e+00  w:  2.831e-01, b:  4.47416e-02\n",
      "迭代 1000:  成本 9.72e-02  dj_dw: -3.697e-04, dj_db:  2.318e-03  w:  9.895e-01, b:  2.38730e-02\n",
      "迭代 2000:  成本 9.72e-02  dj_dw: -2.187e-05, dj_db:  1.371e-04  w:  9.907e-01, b:  1.61708e-02\n",
      "迭代 3000:  成本 9.72e-02  dj_dw: -1.294e-06, dj_db:  8.111e-06  w:  9.908e-01, b:  1.57152e-02\n",
      "迭代 4000:  成本 9.72e-02  dj_dw: -7.652e-08, dj_db:  4.798e-07  w:  9.908e-01, b:  1.56882e-02\n",
      "迭代 5000:  成本 9.72e-02  dj_dw: -4.526e-09, dj_db:  2.838e-08  w:  9.908e-01, b:  1.56866e-02\n",
      "迭代 6000:  成本 9.72e-02  dj_dw: -2.677e-10, dj_db:  1.679e-09  w:  9.908e-01, b:  1.56865e-02\n",
      "迭代 7000:  成本 9.72e-02  dj_dw: -1.584e-11, dj_db:  9.931e-11  w:  9.908e-01, b:  1.56865e-02\n",
      "迭代 8000:  成本 9.72e-02  dj_dw: -9.354e-13, dj_db:  5.875e-12  w:  9.908e-01, b:  1.56865e-02\n",
      "迭代 9000:  成本 9.72e-02  dj_dw: -5.809e-14, dj_db:  3.472e-13  w:  9.908e-01, b:  1.56865e-02\n",
      "梯度下降找到的(w,b) : (  0.9908,  0.0157)\n"
     ]
    }
   ],
   "execution_count": 31
  },
  {
   "metadata": {
    "ExecuteTime": {
     "end_time": "2025-07-10T16:03:05.873216Z",
     "start_time": "2025-07-10T16:03:05.763532Z"
    }
   },
   "cell_type": "code",
   "source": [
    "# TODO： 画 对训练数据拟合的直线 和 训练数据的散点图，画到一张图里\n",
    "\n",
    "# 示例图片："
   ],
   "id": "9372a4ab8fb27578",
   "outputs": [
    {
     "data": {
      "text/plain": [
       "<Figure size 640x480 with 1 Axes>"
      ],
      "image/png": "[encoded data removed]"
     },
     "metadata": {},
     "output_type": "display_data"
    }
   ],
   "execution_count": 33
  },
  {
   "metadata": {},
   "cell_type": "markdown",
   "source": [
    "- 损失值和梯度下降迭代次数的关系\n",
    "\n",
    "损失值与迭代次数的关系图是衡量梯度下降进展的有效指标。在成功的运行中，成本应该始终下降。由于初始成本的变化非常迅速，因此将初始下降过程与最终下降过程以不同的比例绘制是很有用的。在下图中，请注意坐标轴上的损失比例和迭代步长。"
   ],
   "id": "1f335845f7c27135"
  },
  {
   "metadata": {
    "ExecuteTime": {
     "end_time": "2025-07-10T16:09:00.862793Z",
     "start_time": "2025-07-10T16:09:00.703102Z"
    }
   },
   "cell_type": "code",
   "source": [
    "# 画损失值 和 迭代次数的关系\n",
    "fig, (ax1, ax2) = plt.subplots(1, 2, figsize=(12,4))\n",
    "ax1.plot(J_hist[:100])\n",
    "ax2.plot(1000 + np.arange(len(J_hist[1000:])), J_hist[1000:])\n",
    "ax1.set_title(\"Cost vs. iteration(start)\")\n",
    "ax2.set_title(\"Cost vs. iteration (end)\")\n",
    "ax1.set_ylabel('Cost')\n",
    "ax2.set_ylabel('Cost')\n",
    "ax1.set_xlabel('iteration step')\n",
    "ax2.set_xlabel('iteration step')\n",
    "plt.show()"
   ],
   "id": "68ba95b0c6b12d6a",
   "outputs": [
    {
     "data": {
      "text/plain": [
       "<Figure size 1200x400 with 2 Axes>"
      ],
      "image/png": "[encoded data removed]"
     },
     "metadata": {},
     "output_type": "display_data"
    }
   ],
   "execution_count": 35
  },
  {
   "metadata": {},
   "cell_type": "markdown",
   "source": [
    "- 预测\n",
    "\n",
    "现在您已经找到了参数 w 和 b的最优值，现在可以使用模型根据我们学习到的参数来预测没有见过的数据。"
   ],
   "id": "ceb0c945f5d830d0"
  },
  {
   "metadata": {
    "ExecuteTime": {
     "end_time": "2025-07-10T16:13:09.568689Z",
     "start_time": "2025-07-10T16:13:09.553071Z"
    }
   },
   "cell_type": "code",
   "source": "# TODO： 自己任意定义不在训练集里的x，用学习到的参数w和b预测x对应的y",
   "id": "679054c1d9b26c96",
   "outputs": [],
   "execution_count": 37
  },
  {
   "metadata": {},
   "cell_type": "markdown",
   "source": [
    "- 增加学习率alpha\n",
    "\n",
    "我们讨论了梯度下降中学习率 alpha 的合理取值。𝛼 越大，梯度下降收敛速度越快。但是，如果 𝛼 过大，梯度下降就会发散。上面有一个收敛效果良好的解的例子。\n",
    "我们试着增加 𝛼 的值，看看会发生什么："
   ],
   "id": "2f79cb84f831c657"
  },
  {
   "metadata": {
    "ExecuteTime": {
     "end_time": "2025-07-10T16:19:44.027401Z",
     "start_time": "2025-07-10T16:19:44.011785Z"
    }
   },
   "cell_type": "code",
   "source": [
    "# 初始化参数\n",
    "w_init = 0\n",
    "b_init = 0\n",
    "\n",
    "# 设置学习率\n",
    "iterations = 10\n",
    "tmp_alpha = ... # TODO： 设置一个相对较大的alpha （0.8-2之间）\n",
    "\n",
    "# 运行梯度下降\n",
    "w_final, b_final, J_hist, p_hist = gradient_descent(x_train ,y_train, w_init, b_init, tmp_alpha,\n",
    "                                                    iterations, compute_cost, compute_gradient)"
   ],
   "id": "131d0727577e193",
   "outputs": [
    {
     "name": "stdout",
     "output_type": "stream",
     "text": [
      "迭代    0:  成本 7.04e+03  dj_dw: -2.831e+01, dj_db: -4.474e+00  w:  2.265e+01, b:  3.57933e+00\n",
      "迭代    1:  成本 3.52e+06  dj_dw:  6.332e+02, dj_db:  1.010e+02  w: -4.839e+02, b: -7.72307e+01\n",
      "迭代    2:  成本 1.76e+09  dj_dw: -1.417e+04, dj_db: -2.259e+03  w:  1.085e+04, b:  1.73026e+03\n",
      "迭代    3:  成本 8.83e+11  dj_dw:  3.170e+05, dj_db:  5.055e+04  w: -2.427e+05, b: -3.87112e+04\n",
      "迭代    4:  成本 4.42e+14  dj_dw: -7.092e+06, dj_db: -1.131e+06  w:  5.431e+06, b:  8.66130e+05\n",
      "迭代    5:  成本 2.21e+17  dj_dw:  1.587e+08, dj_db:  2.531e+07  w: -1.215e+08, b: -1.93789e+07\n",
      "迭代    6:  成本 1.11e+20  dj_dw: -3.550e+09, dj_db: -5.662e+08  w:  2.719e+09, b:  4.33585e+08\n",
      "迭代    7:  成本 5.54e+22  dj_dw:  7.944e+10, dj_db:  1.267e+10  w: -6.083e+10, b: -9.70108e+09\n",
      "迭代    8:  成本 2.78e+25  dj_dw: -1.777e+12, dj_db: -2.834e+11  w:  1.361e+12, b:  2.17053e+11\n",
      "迭代    9:  成本 1.39e+28  dj_dw:  3.977e+13, dj_db:  6.342e+12  w: -3.045e+13, b: -4.85637e+12\n"
     ]
    }
   ],
   "execution_count": 38
  },
  {
   "metadata": {},
   "cell_type": "markdown",
   "source": [
    "### 多个输入值（特征）和一个标签的回归\n",
    "\n",
    "| 训练样本 $i$ | $x_1$<br/>房屋面积 (ft²) | $x_2$<br/>卧室数 | $x_3$<br/>楼层数 | $x_4$<br/>房龄 (年) | $y$<br/>价格 (× \\$1 000) |\n",
    "| -------- | -------------------- | ------------- | ------------- | ---------------- | ---------------------- |\n",
    "| 1        | 2104                 | 5             | 1             | 45               | 460                    |\n",
    "| 2        | **1416**             | **3**         | **2**         | **40**           | 232                    |\n",
    "| 3        | 1534                 | 3             | 2             | 30               | 315                    |\n",
    "| 4        | 852                  | 2             | 1             | 36               | 178                    |\n",
    "| …        | …                    | …             | …             | …                | …                      |\n",
    "\n",
    "> **例子（i = 2）：**\n",
    "> $\\vec{x}^{(2)} = [\\,1416,\\;3,\\;2,\\;40\\,]$\n",
    "> $x^{(2)}_3 = 2$\n",
    "\n",
    "---\n",
    "\n",
    "1. 记号说明\n",
    "\n",
    "| 记号              | 含义                         |\n",
    "| --------------- | -------------------------- |\n",
    "| $x_j$           | 第 $j$ 个特征（列）               |\n",
    "| $n$             | 特征数量，本例 $n = 4$（$j = 1…4$） |\n",
    "| $\\vec{x}^{(i)}$ | 第 $i$ 个训练样本的**特征向量**       |\n",
    "| $x^{(i)}_j$     | 第 $i$ 个样本在第 $j$ 个特征上的取值    |\n",
    "| $y^{(i)}$       | 第 $i$ 个样本的目标值（房价）          |\n",
    "\n",
    "---\n",
    "\n",
    "* 对于样本 $i = 2$：\n",
    "\n",
    "  * 特征向量 $\\vec{x}^{(2)} = [1416,\\;3,\\;2,\\;40]$\n",
    "  * “楼层数”对应的取值 $x^{(2)}_3 = 2$\n",
    "\n",
    "2. 多特征线性回归模型\n",
    "\n",
    "在单变量回归中，我们只有一个特征 $x$。\n",
    "对 **多特征（多变量）** 情况，假设函数拓展为：\n",
    "\n",
    "$$\n",
    "h_\\theta(\\vec{x}) \\;=\\; \\theta_0 \\;+\\; \\theta_1 x_1 \\;+\\; \\theta_2 x_2 \\;+\\; \\theta_3 x_3 \\;+\\; \\theta_4 x_4\n",
    "$$\n",
    "直觉理解：\n",
    "1. 每一个特征都将影响标签y，参数是负的，说明随着这个特征和标签y是负相关；参数是正的，说明这个特征和标签y是正相关，参数绝对值接近0说明这个特征和标签关系不大\n",
    "2. 当所有特征都是0时，也有个基础标签值\n",
    "\n",
    "* 令 $x_0 = 1$（偏置项），可写成向量形式\n",
    "\n",
    "  $$\n",
    "  h_\\theta(\\vec{x}) \\;=\\; \\theta^\\top \\vec{x}\n",
    "  $$\n",
    "  $$\n",
    "\\begin{aligned}\n",
    "\\theta^\\top \\vec{x}\n",
    "&= [\\,\\theta_0,\\;\\theta_1,\\;\\theta_2,\\;\\dots,\\;\\theta_n\\,]\n",
    "   \\begin{bmatrix}\n",
    "     1 \\\\ x_1 \\\\ x_2 \\\\ \\vdots \\\\ x_n\n",
    "   \\end{bmatrix} \\\\[4pt]\n",
    "&= \\theta_0\\cdot 1 \\;+\\; \\theta_1x_1 \\;+\\; \\theta_2x_2 \\;+\\; \\dots \\;+\\; \\theta_nx_n\n",
    "\\end{aligned}\n",
    "$$\n",
    "向量点乘是更紧凑的写法，与逐项相加完全等价\n",
    "\n",
    "* **第一项** $\\theta_0\\cdot 1$ 就是偏置（intercept）。\n",
    "* 剩余各项 $\\theta_jx_j$（$j=1…n$）对应每个特征的“权重×取值”。\n",
    "* $\\theta = [\\,\\theta_0,\\theta_1,\\dots,\\theta_n]^\\top$ 为模型参数。\n",
    "---\n",
    "\n",
    "快速问答，$x^{(4)}_1$指的在示例的数据里，指的指是多少？"
   ],
   "id": "d8f59b0362eb6241"
  },
  {
   "metadata": {},
   "cell_type": "markdown",
   "source": [
    "#### 向量化\n",
    "好处：\n",
    "1. 代码简洁\n",
    "2. 能利用线性代数计算的库（numpy）的底层代码（C语言），CPU并行计算，甚至GPU参与运算  -> 代码运行更快\n",
    "\n",
    "- 参数与特征\n",
    "\n",
    "* **权重向量** $\\mathbf{w} = [\\,w_1,\\;w_2,\\;w_3\\,]$ （此处 $n = 3$）\n",
    "* **偏置（截距）** $b$ — 单个数字\n",
    "* **特征向量** $\\mathbf{x} = [\\,x_1,\\;x_2,\\;x_3\\,]$\n",
    "\n",
    "> **索引小提示**\n",
    ">\n",
    "> * **线性代数**：下标从 1 开始（$w_1,w_2,\\dots$）\n",
    "> * **NumPy / Python**：下标从 0 开始（`w[0]`, `w[1]`, `w[2]`）\n",
    "\n",
    "```python\n",
    "# NumPy 表示\n",
    "w = np.array([1.0,  2.5, -3.3])\n",
    "b = 4\n",
    "x = np.array([10, 20, 30])\n",
    "```\n",
    "\n",
    "---\n",
    "\n",
    "- 未向量化的实现\n",
    "\n",
    "数学公式\n",
    "\n",
    "$$\n",
    "f_{\\mathbf{w},b}(\\mathbf{x}) \\;=\\; \\sum_{j=1}^{n} w_j\\,x_j \\;+\\; b\n",
    "$$\n",
    "\n",
    "Python 循环写法（代码冗长且较慢）\n",
    "\n",
    "```python\n",
    "f = 0\n",
    "for j in range(n):      # j = 0 … n‑1\n",
    "    f += w[j] * x[j]\n",
    "f += b\n",
    "```\n",
    "\n",
    "> 当 $n = 100{,}000$ 时，这种写法会十分低效。\n",
    "\n",
    "---\n",
    "\n",
    "- 向量化的实现\n",
    "\n",
    "数学公式\n",
    "\n",
    "$$\n",
    "f_{\\mathbf{w},b}(\\mathbf{x}) \\;=\\; \\mathbf{w}\\,\\cdot\\,\\mathbf{x} \\;+\\; b\n",
    "$$\n",
    "\n",
    "NumPy 一行代码（简洁且高效）\n",
    "\n",
    "```python\n",
    "f = np.dot(w, x) + b\n",
    "```\n",
    "\n",
    "> 通过一次向量点乘即可完成所有乘加运算，强烈建议始终使用向量化写法。\n",
    "\n",
    "实现也可以往x内添个1， 然后偏置b也放到权重向量里面\n",
    "| 步骤                 | 说明                                                                                      |\n",
    "| ------------------ | --------------------------------------------------------------------------------------- |\n",
    "| 1 在特征向量最前面加上常数 1 | 得到 **增广特征向量** <br> $\\tilde{\\mathbf{x}} = [\\,1,\\;x_1,\\;x_2,\\;x_3\\,]$                     |\n",
    "| 2 把偏置并入权重向量      | 得到 **增广权重向量** <br> $\\tilde{\\mathbf{w}} = [\\,b,\\;w_1,\\;w_2,\\;w_3\\,]^\\top$                |\n",
    "| 3 预测公式           | $\\displaystyle \\hat{y} = \\tilde{\\mathbf{w}} \\,\\cdot\\, \\tilde{\\mathbf{x}}$ —— 无需再写 `+ b` |\n",
    "\n",
    "---\n",
    "\n",
    "- 循环 VS. 向量化 — 为什么 `np.dot` 更快的底层原因\n",
    "\n",
    "1. 逐项循环在做什么？\n",
    "\n",
    "* **时间片 $t_0$**：先算 `w[0] * x[0]` 并累加到 `f`\n",
    "* **时间片 $t_1$**：再算 `w[1] * x[1]` 并累加……\n",
    "* ……\n",
    "* **时间片 $t_{15}$**：最后算 `w[15] * x[15]` 并累加\n",
    "* **缺点**：一次只做一个乘法 + 加法，16 维向量就要跑 16 次循环，对更高维数据或上百万样本更是灾难。\n",
    "\n",
    "\n",
    "2. 向量化背后发生了什么？\n",
    "\n",
    "1. **并行乘法**\n",
    "\n",
    "   * NumPy/底层 BLAS 库会把整段内存中的 16 个 `w[j]` 与 `x[j]` **同时** 送进 CPU 的向量化指令（SIMD）或多核线程。\n",
    "2. **流水线累加**\n",
    "\n",
    "   * 乘完后的 16 个结果再通过高效的归约（reduction）操作一次性求和。\n",
    "3. **结果回写**\n",
    "\n",
    "   * 整个过程几乎没有 Python 层面的循环开销，而且充分利用了 CPU 缓存和并行度。\n",
    "\n",
    "> **一句话总结**：\n",
    "> 把 *“多次循环 + 小标量运算”* 换成 *“一次大规模矩阵/向量运算”*，让底层数值库接管并行化与内存优化，**才能真正扩展到大数据集**。\n",
    "\n",
    "\n"
   ],
   "id": "f8cd42bf4ca525ed"
  },
  {
   "metadata": {},
   "cell_type": "markdown",
   "source": "![循环和向量化对比](./images/监督学习-回归8.png)",
   "id": "7535ff030b02d8a"
  },
  {
   "metadata": {},
   "cell_type": "markdown",
   "source": [
    "- 注意：梯度下降也要向量化\n",
    "$\\mathbf{w} = [\\,b,\\;w_1,\\;w_2,\\;w_3, ... w_{16}\\,]$\n",
    "$\\mathbf{d} = [\\,d_b,\\;d_1,\\;d_2,\\;d_3\\, ... d_{16}]$\n",
    "\n",
    "w和d都是numpy数组后，直接w - 0.1*d即可\n",
    "\n",
    "\n",
    "- 快速问答：\n",
    "- 下面的代码在实现，计算线性回归模型的预测值，哪一个实现是向量化的？\n",
    "1. f = w[0] * x[0] + w[1] * x[1] + w[2] * x[2] + b\n",
    "2. ```python\n",
    "   f = 0\n",
    "   for j in range(n):\n",
    "       f = f + w[j] * x[j]\n",
    "   f = f + b\n",
    "   ```\n",
    "3. f = np.dot(w,x) + b"
   ],
   "id": "c2f9b2257f0fd553"
  },
  {
   "metadata": {},
   "cell_type": "markdown",
   "source": [
    "### 多特征线性回归实验\n",
    "- 这次实验是之前线性回归实验的扩展，扩展到支持多个输入特征\n",
    "- 使用矩阵表示训练数据的输入特征\n",
    "- 重写了预测，损失函数以及计算梯度去支持多个特征\n",
    "- 使用了向量化的技巧"
   ],
   "id": "a734b16bfbffee48"
  },
  {
   "metadata": {
    "ExecuteTime": {
     "end_time": "2025-07-13T11:24:44.949687Z",
     "start_time": "2025-07-13T11:24:44.464466Z"
    }
   },
   "cell_type": "code",
   "source": [
    "import copy, math\n",
    "import numpy as np\n",
    "import matplotlib.pyplot as plt\n",
    "np.set_printoptions(precision=2)   # 减少数组里 浮点数显示出来的精度"
   ],
   "id": "f98d346fd6799a03",
   "outputs": [],
   "execution_count": 1
  },
  {
   "metadata": {},
   "cell_type": "markdown",
   "source": [
    "下面给出一份更完整、格式一致的 **多特征线性回归记号速查表**，补全了所有 Python 示例变量，并在括号中给出了常见的形状（行 × 列）说明，方便对照代码实现。\n",
    "\n",
    "| 记号                                   | 含义                                                                                                                         | Python 变量名 (示例)                    | 典型形状             |\n",
    "|:-------------------------------------| :------------------------------------------------------------------------------------------------------------------------- | :--------------------------------- | :--------------- |\n",
    "| **通用线性代数记号**                         |                                                                                                                            |                                    |                  |\n",
    "| $a$                                  | 标量（非粗体）                                                                                                                    | `a`                                | $()$             |\n",
    "| $\\mathbf{a}$                         | 向量（粗体小写）                                                                                                                   | `a_vec`                            | $(n,)$ 或 $(n,1)$ |\n",
    "| $\\mathbf{A}$                         | 矩阵（粗体大写）                                                                                                                   | `A_mat`                            | $(m,n)$          |\n",
    "| **回归数据**                             |                                                                                                                            |                                    |                  |\n",
    "| $\\mathbf{X}$                         | 训练样本特征矩阵                                                                                                                   | `X_train`                          | $(m,n)$          |\n",
    "| $\\mathbf{y}$                         | 训练样本目标向量                                                                                                                   | `y_train`                          | $(m,)$ 或 $(m,1)$ |\n",
    "| $\\mathbf{x}^{(i)}$                   | 第 $i$ 条样本的特征向量                                                                                                             | `X_train[i]`                       | $(n,)$           |\n",
    "| $y^{(i)}$                            | 第 $i$ 条样本的目标值                                                                                                              | `y_train[i]`                       | $()$             |\n",
    "| $m$                                  | 样本数量                                                                                                                       | `m = X_train.shape[0]`             | —                |\n",
    "| $n$                                  | 每条样本的特征数                                                                                                                   | `n = X_train.shape[1]`             | —                |\n",
    "| **模型参数**                             |                                                                                                                            |                                    |                  |\n",
    "| $\\mathbf{w}$                         | 权重向量                                                                                                                       | `w`                                | $(n,)$           |\n",
    "| $b$                                  | 偏置（截距）                                                                                                                     | `b`                                | $()$             |\n",
    "| **模型与预测**                            |                                                                                                                            |                                    |                  |\n",
    "| $f_{\\mathbf{w},b}(\\mathbf{x}^{(i)})$ | 在样本 $\\mathbf{x}^{(i)}$ 上的模型输出：<br>$\\displaystyle f_{\\mathbf{w},b}(\\mathbf{x}^{(i)}) = \\mathbf{w}\\cdot\\mathbf{x}^{(i)} + b$ | `f_wb = np.dot(w, X_train[i]) + b` | $()$             |\n",
    "\n",
    "> **提示**\n",
    ">\n",
    "> * 在 NumPy 中，你可以用 `X @ w + b` 一次性计算 **全部** 样本的预测，其中 `X` 形状为 $(m,n)$，`w` 为 $(n,)$。\n",
    "> * 若采用 **增广向量技巧**（在 `X` 前拼接一列 1，并把 `b` 并入权重向量），则预测可写成 `X_tilde @ w_tilde`，再也不用显式写 `+ b`。\n"
   ],
   "id": "e60b05a91220fb2"
  },
  {
   "metadata": {},
   "cell_type": "markdown",
   "source": [
    "- 问题背景\n",
    "> 使用 **房价预测** 作为示例。训练数据集现在包含 **7 个样本、4 个特征**（面积、卧室数、楼层数、房龄），数据见下表。\n",
    "> 训练好线性回归模型后，就能预测其他房屋的价格，例如「面积 1200 sqft、3 间卧室、1 层、房龄 40 年」的房屋。\n",
    "\n",
    "\n",
    "\n",
    "- 训练数据集\n",
    "\n",
    "|  样本 | 面积 (sqft) | 卧室数 | 楼层数 | 房龄 (年) | 价格 (千美元) |\n",
    "| :-: |:---------:|:---:|:---:|:------:|:--------:|\n",
    "|  1  |   2104    |  5  |  1  |   45   |   460    |\n",
    "|  2  |   1416    |  3  |  2  |   40   |   232    |\n",
    "|  3  |    852    |  2  |  1  |   35   |   178    |\n",
    "|  4  |   1260    |  3  |  1  |   20   |   240    |\n",
    "|  5  |   3000    |  4  |  2  |   5    |   540    |\n",
    "|  6  |   1980    |  4  |  1  |   15   |   350    |\n",
    "|  7  |    890    |  2  |  1  |   60   |   155    |\n"
   ],
   "id": "ac5fe7755c1eedc1"
  },
  {
   "metadata": {
    "ExecuteTime": {
     "end_time": "2025-07-13T11:39:05.908621Z",
     "start_time": "2025-07-13T11:39:05.894621Z"
    }
   },
   "cell_type": "code",
   "source": [
    "## 构造 `X_train` 和 `y_train`\n",
    "import numpy as np\n",
    "\n",
    "# 特征矩阵：每行一个样本，每列一个特征\n",
    "X_train = np.array([\n",
    "    [2104, 5, 1, 45],\n",
    "    [1416, 3, 2, 40],\n",
    "    [ 852, 2, 1, 35],\n",
    "    [1260, 3, 1, 20],\n",
    "    [3000, 4, 2,  5],\n",
    "    [1980, 4, 1, 15],\n",
    "    [ 890, 2, 1, 60]\n",
    "], dtype=float)\n",
    "\n",
    "# 目标向量：对应的房价，单位千美元\n",
    "y_train = np.array([460, 232, 178, 240, 540, 350, 155], dtype=float)\n",
    "\n",
    "m, n = X_train.shape\n",
    "print(f\"样本数 m = {m},  特征数 n = {n}\")"
   ],
   "id": "ef51ddc8dfc79d45",
   "outputs": [
    {
     "name": "stdout",
     "output_type": "stream",
     "text": [
      "样本数 m = 7,  特征数 n = 4\n"
     ]
    }
   ],
   "execution_count": 2
  },
  {
   "metadata": {},
   "cell_type": "markdown",
   "source": [
    "所有训练样本会存放在 NumPy 的矩阵 `X_train` 中。矩阵的 **每一行代表一条训练样本**。当你拥有 $m$ 条训练样本（在本例中 $m = 7$），且每条样本包含 $n$ 个特征（本例中 $n = 4$）时，$\\mathbf{X}$ 将是一个维度为 $(m,\\,n)$ 的矩阵——也就是 **$m$ 行、$n$ 列**：\n",
    "\n",
    "$$\n",
    "\\mathbf{X} =\n",
    "\\begin{pmatrix}\n",
    " x^{(0)}_0 & x^{(0)}_1 & \\cdots & x^{(0)}_{n-1} \\\\\n",
    " x^{(1)}_0 & x^{(1)}_1 & \\cdots & x^{(1)}_{n-1} \\\\\n",
    " \\vdots & \\vdots & \\ddots & \\vdots \\\\\n",
    " x^{(m-1)}_0 & x^{(m-1)}_1 & \\cdots & x^{(m-1)}_{n-1}\n",
    "\\end{pmatrix}\n",
    "$$\n",
    "\n",
    "\n",
    "- 记号说明\n",
    "\n",
    "* **$\\mathbf{x}^{(i)}$**\n",
    "  第 $i$ 条训练样本对应的**特征向量**：\n",
    "\n",
    "  $$\n",
    "    \\mathbf{x}^{(i)}\n",
    "    = \\bigl(x^{(i)}_0,\\;x^{(i)}_1,\\;\\dots,\\;x^{(i)}_{\\,n-1}\\bigr)\n",
    "  $$\n",
    "\n",
    "* **$x^{(i)}_j$**\n",
    "  第 $i$ 条样本中，第 $j$ 个特征的取值。\n",
    "\n",
    "  * 括号中的上标 $(i)$ 表示**样本编号**\n",
    "  * 下标 $j$ 表示**该样本中的第 $j$ 个元素**\n"
   ],
   "id": "f6306cc97192c9f0"
  },
  {
   "metadata": {},
   "cell_type": "markdown",
   "source": [
    "- 参数向量 $\\mathbf{w}$ 与偏置 $b$\n",
    "\n",
    "* $\\mathbf{w}$ 是一个包含 $n$ 个元素的向量\n",
    "\n",
    "  * 每个元素对应于一个特征的模型参数\n",
    "  * 在本数据集中，$n = 4$\n",
    "  * 通常将其写成列向量：\n",
    "\n",
    "$$\n",
    "\\mathbf{w} = \\begin{pmatrix}\n",
    "w_0 \\\\\n",
    "w_1 \\\\\n",
    "\\vdots \\\\\n",
    "w_{n-1}\n",
    "\\end{pmatrix}\n",
    "$$\n",
    "\n",
    "* $b$ 是一个标量（单一数字）参数，用作偏置项。\n"
   ],
   "id": "84b5168ff06f2ffb"
  },
  {
   "metadata": {
    "ExecuteTime": {
     "end_time": "2025-07-13T11:55:01.835652Z",
     "start_time": "2025-07-13T11:55:01.824654Z"
    }
   },
   "cell_type": "code",
   "source": [
    "# 假设b_init 和 w_init 就是训练好的参数\n",
    "b_init =785.1811367994083\n",
    "w_init = np.array([ 0.39133535, 18.75376741, -53.36032453, -26.42131618])\n",
    "print(f\"w_init shape: {w_init.shape}, b_init 类型: {type(b_init)}\")"
   ],
   "id": "626adc6c1be61e21",
   "outputs": [
    {
     "name": "stdout",
     "output_type": "stream",
     "text": [
      "w_init shape: (4,), b_init 类型: <class 'float'>\n"
     ]
    }
   ],
   "execution_count": 5
  },
  {
   "metadata": {},
   "cell_type": "markdown",
   "source": [
    "多变量线性回归模型的预测公式为\n",
    "\n",
    "$$\n",
    "f_{\\mathbf{w},b}(\\mathbf{x})\n",
    "= w_0 x_0 + w_1 x_1 + \\dots + w_{n-1} x_{\\,n-1} + b\n",
    "\\tag{1}\n",
    "$$\n",
    "\n",
    "也可以写成向量形式\n",
    "\n",
    "$$\n",
    "f_{\\mathbf{w},b}(\\mathbf{x})\n",
    "= \\mathbf{w} \\cdot \\mathbf{x} + b\n",
    "\\tag{2}\n",
    "$$\n",
    "\n",
    "其中 “$\\cdot$” 表示**向量点积**。"
   ],
   "id": "f6735a0afd91ac09"
  },
  {
   "metadata": {
    "ExecuteTime": {
     "end_time": "2025-07-13T11:57:31.505172Z",
     "start_time": "2025-07-13T11:57:31.491169Z"
    }
   },
   "cell_type": "code",
   "source": [
    "def predict(x, w, b):\n",
    "    \"\"\"\n",
    "    线性回归的单样本预测函数\n",
    "\n",
    "    参数\n",
    "    ----\n",
    "    x : ndarray, 形状 (n,)\n",
    "        输入样本，包含 n 个特征\n",
    "    w : ndarray, 形状 (n,)\n",
    "        模型权重参数\n",
    "    b : 标量\n",
    "        模型偏置参数\n",
    "\n",
    "    返回\n",
    "    ----\n",
    "    p : 标量\n",
    "        预测结果\n",
    "    \"\"\"\n",
    "    p = np.dot(x, w) + b\n",
    "    return p"
   ],
   "id": "1c192f9ba361f080",
   "outputs": [],
   "execution_count": 6
  },
  {
   "metadata": {
    "ExecuteTime": {
     "end_time": "2025-07-13T12:02:09.336786Z",
     "start_time": "2025-07-13T12:02:09.322784Z"
    }
   },
   "cell_type": "code",
   "source": [
    "x_vec = X_train[0,:]\n",
    "print(f\"x_vec shape {x_vec.shape}, x_vec 值: {x_vec}\")\n",
    "\n",
    "f_wb = predict(x_vec,w_init, b_init)\n",
    "print(f\"f_wb shape {f_wb.shape}, 预测: {f_wb}\")\n",
    "\n"
   ],
   "id": "c33db97fd77c1480",
   "outputs": [
    {
     "name": "stdout",
     "output_type": "stream",
     "text": [
      "x_vec shape (4,), x_vec 值: [2.1e+03 5.0e+00 1.0e+00 4.5e+01]\n",
      "f_wb shape (), 预测: 459.99999761940825\n"
     ]
    }
   ],
   "execution_count": 7
  },
  {
   "metadata": {},
   "cell_type": "markdown",
   "source": [
    "- 多变量线性回归的代价函数\n",
    "\n",
    "多特征情况下的代价函数 $J(\\mathbf{w},b)$ 定义为\n",
    "\n",
    "$$\n",
    "J(\\mathbf{w},b)=\\frac{1}{2m}\\sum_{i=0}^{m-1}\n",
    "\\Bigl(f_{\\mathbf{w},b}\\bigl(\\mathbf{x}^{(i)}\\bigr)-y^{(i)}\\Bigr)^{2}\n",
    "\\tag{3}\n",
    "$$\n",
    "\n",
    "其中\n",
    "\n",
    "$$\n",
    "f_{\\mathbf{w},b}\\bigl(\\mathbf{x}^{(i)}\\bigr)=\n",
    "\\mathbf{w}\\,\\cdot\\,\\mathbf{x}^{(i)}+b\n",
    "\\tag{4}\n",
    "$$\n",
    "\n",
    "\n",
    "与之前的实验不同，这里 $\\mathbf{w}$ 和 $\\mathbf{x}^{(i)}$ 都是 **向量**（而非单个标量），以支持包含多个特征的输入。\n"
   ],
   "id": "95f9616e0c955933"
  },
  {
   "metadata": {
    "ExecuteTime": {
     "end_time": "2025-07-13T13:52:45.978575Z",
     "start_time": "2025-07-13T13:52:45.961370Z"
    }
   },
   "cell_type": "code",
   "source": [
    "def compute_cost(X, y, w, b):\n",
    "    \"\"\"\n",
    "    计算损失\n",
    "    Args:\n",
    "      X (ndarray (m,n)): 训练集的输入, m 样本 with n 特征\n",
    "      y (ndarray (m,)) : 训练集目标\n",
    "      w (ndarray (n,)) : 模型参数 w\n",
    "      b (scalar)       : 模型参数 b\n",
    "\n",
    "    Returns:\n",
    "      cost (scalar): 损失值\n",
    "    \"\"\"\n",
    "    m = X.shape[0]\n",
    "    cost = 0.0\n",
    "\n",
    "    # TODO： 根据公式实现损失函数\n",
    "    return cost\n",
    "\n",
    "w_test = np.ones((4,))\n",
    "b_test = 10\n",
    "cost_answer = 1117012.2142857143\n",
    "assert np.isclose(compute_cost(X_train,y_train,w_test,b_test), cost_answer), \"compute cost实现有问题\""
   ],
   "id": "9e0cc24e8743a70a",
   "outputs": [],
   "execution_count": 12
  },
  {
   "metadata": {},
   "cell_type": "markdown",
   "source": [
    "- 多变量的梯度下降法\n",
    "\n",
    "梯度下降更新规则：\n",
    "\n",
    "$$\n",
    "\\begin{align*}\n",
    "\\text{重复执行，直到收敛：}\\;\\bigl\\{ \\\\\n",
    "& w_j \\;=\\; w_j \\;-\\; \\alpha \\;\\frac{\\partial J(\\mathbf{w},b)}{\\partial w_j}\n",
    "\\qquad\\text{对 } j = 0 \\dots n-1 \\tag{5}\\\\[4pt]\n",
    "& b \\;=\\; b \\;-\\; \\alpha \\;\\frac{\\partial J(\\mathbf{w},b)}{\\partial b} \\\\\n",
    "\\bigr\\}\n",
    "\\end{align*}\n",
    "$$\n",
    "\n",
    "其中 $n$ 为特征数量，参数 $w_j$ 与 $b$ **同时** 更新。各偏导数为\n",
    "\n",
    "$$\n",
    "\\begin{align}\n",
    "\\frac{\\partial J(\\mathbf{w},b)}{\\partial w_j}\n",
    "&=\\frac{1}{m}\\sum_{i=0}^{m-1}\n",
    "\\bigl(f_{\\mathbf{w},b}(\\mathbf{x}^{(i)})-y^{(i)}\\bigr)\\,\n",
    "x_{j}^{(i)} \\tag{6}\\\\[6pt]\n",
    "\\frac{\\partial J(\\mathbf{w},b)}{\\partial b}\n",
    "&=\\frac{1}{m}\\sum_{i=0}^{m-1}\n",
    "\\bigl(f_{\\mathbf{w},b}(\\mathbf{x}^{(i)})-y^{(i)}\\bigr) \\tag{7}\n",
    "\\end{align}\n",
    "$$\n",
    "\n",
    "* $m$：训练样本数\n",
    "* $f_{\\mathbf{w},b}(\\mathbf{x}^{(i)})$：模型对第 $i$ 条样本的预测值\n",
    "* $y^{(i)}$：第 $i$ 条样本的真实目标值\n"
   ],
   "id": "23b8c48f5ed1bd3d"
  },
  {
   "metadata": {
    "ExecuteTime": {
     "end_time": "2025-07-13T14:46:28.409591Z",
     "start_time": "2025-07-13T14:46:28.396221Z"
    }
   },
   "cell_type": "code",
   "source": [
    "def compute_gradient(X, y, w, b):\n",
    "    \"\"\"\n",
    "    Computes the gradient for linear regression\n",
    "    Args:\n",
    "      X (ndarray (m,n)): Data, m examples with n features\n",
    "      y (ndarray (m,)) : target values\n",
    "      w (ndarray (n,)) : model parameters\n",
    "      b (scalar)       : model parameter\n",
    "\n",
    "    Returns:\n",
    "      dj_dw (ndarray (n,)): The gradient of the cost w.r.t. the parameters w.\n",
    "      dj_db (scalar):       The gradient of the cost w.r.t. the parameter b.\n",
    "    \"\"\"\n",
    "    m,n = X.shape           #(number of examples, number of features)\n",
    "\n",
    "    # TODO： 根据公式实现梯度\n",
    "    err = X@w + b - y\n",
    "    dj_dw = X.T @ err / m\n",
    "    dj_db = np.sum(err) / m\n",
    "    return dj_dw, dj_db\n"
   ],
   "id": "ae8f177a4a09f26f",
   "outputs": [],
   "execution_count": 42
  },
  {
   "metadata": {
    "ExecuteTime": {
     "end_time": "2025-07-13T14:46:28.721588Z",
     "start_time": "2025-07-13T14:46:28.710353Z"
    }
   },
   "cell_type": "code",
   "source": [
    "def gradient_check(x, y, w, b, eps=1e-7, tol=1e-2, verbose=True):\n",
    "    \"\"\"\n",
    "    使用数值差分验证 compute_gradient 是否正确\n",
    "    Args:\n",
    "        x, y : 数据集\n",
    "        w, b : 当前参数, w是ndarray，b是float\n",
    "        eps  : 微小扰动 ε，用于近似数值梯度\n",
    "        tol  : 容差阈值，|解析梯度 - 数值梯度| < tol 视为通过\n",
    "        verbose: 打印详细差异\n",
    "    Returns:\n",
    "        passed (bool) : 是否通过梯度检查\n",
    "    \"\"\"\n",
    "    # 1) 解析梯度\n",
    "    dj_dw, dj_db = compute_gradient(x, y, w, b)\n",
    "\n",
    "    # 2) 数值梯度——中心差分\n",
    "    n = x.shape[1]\n",
    "\n",
    "    num_dj_dw = np.zeros((n,))\n",
    "\n",
    "    for i in range(n):\n",
    "        eps_vec = np.zeros((n,))\n",
    "        eps_vec[i] = eps\n",
    "        num_dj_dw[i] =(compute_cost(x, y, w + eps_vec, b) -\n",
    "                 compute_cost(x, y, w - eps_vec, b)) / (2 * eps)\n",
    "\n",
    "    num_dj_db = (compute_cost(x, y, w, b + eps) -\n",
    "                 compute_cost(x, y, w, b - eps)) / (2 * eps)\n",
    "\n",
    "    # 3) 误差\n",
    "    diff_w = np.abs(dj_dw - num_dj_dw)\n",
    "    diff_b = abs(dj_db - num_dj_db)\n",
    "    passed = np.all(diff_w < tol) and diff_b < tol\n",
    "\n",
    "    if verbose:\n",
    "        print(f\"你实现的 dj_dw = {dj_dw}, 数值模拟 = {num_dj_dw}, 误差 = diff_w: {diff_w}\")\n",
    "        print(f\"你实现的 dj_db = {dj_db: .6e}, 数值模拟 = {num_dj_db: .6e}, 误差 = {diff_b: .2e}\")\n",
    "        print(\"OK! Gradient check PASSED\" if passed else \"Gradient check FAILED\")\n",
    "\n",
    "    return passed\n",
    "\n",
    "# 梯度检查\n",
    "w_test = np.ones((4,))\n",
    "b_test = 10\n",
    "assert gradient_check(X_train,y_train,w_test,b_test), \"梯度检查失败 梯度的实现有问题！！！\""
   ],
   "id": "a8d9f735958cfe24",
   "outputs": [
    {
     "name": "stdout",
     "output_type": "stream",
     "text": [
      "你实现的 dj_dw = [2.68e+06 5.00e+03 1.91e+03 3.69e+04], 数值模拟 = [2.68e+06 5.00e+03 1.91e+03 3.69e+04], 误差 = diff_w: [1.08e-04 8.50e-04 7.07e-05 2.87e-04]\n",
      "你实现的 dj_db =  1.381286e+03, 数值模拟 =  1.381284e+03, 误差 =  1.62e-03\n",
      "OK! Gradient check PASSED\n"
     ]
    }
   ],
   "execution_count": 43
  },
  {
   "metadata": {
    "ExecuteTime": {
     "end_time": "2025-07-13T15:00:21.122515Z",
     "start_time": "2025-07-13T15:00:21.107484Z"
    }
   },
   "cell_type": "code",
   "source": [
    "# 使用梯度下降算法\n",
    "def gradient_descent(X, y, w_in, b_in, cost_function, gradient_function,\n",
    "                     alpha, num_iters):\n",
    "    \"\"\"\n",
    "    批量梯度下降（Batch Gradient Descent）\n",
    "    --------------------------------------\n",
    "    循环执行 num_iters 轮参数更新，通过梯度下降学习权重 w 与偏置 b。\n",
    "\n",
    "    参数\n",
    "    ----\n",
    "    X : ndarray (m, n)\n",
    "        训练数据，m 行样本、n 列特征\n",
    "    y : ndarray (m,)\n",
    "        目标值（标签）\n",
    "    w_in : ndarray (n,)\n",
    "        权重向量的初始值\n",
    "    b_in : 标量\n",
    "        偏置的初始值\n",
    "    cost_function : callable\n",
    "        计算代价 J 的函数\n",
    "    gradient_function : callable\n",
    "        计算代价函数梯度的函数\n",
    "    alpha : float\n",
    "        学习率\n",
    "    num_iters : int\n",
    "        梯度下降的迭代次数\n",
    "\n",
    "    返回值\n",
    "    ------\n",
    "    w : ndarray (n,)\n",
    "        训练完毕后的权重向量\n",
    "    b : 标量\n",
    "        训练完毕后的偏置\n",
    "    J_history : list\n",
    "        每一次迭代计算得到的代价，用于绘图或分析\n",
    "    \"\"\"\n",
    "\n",
    "    # 用于记录每次迭代的 J 以及 w，方便后续绘图\n",
    "    J_history = []\n",
    "\n",
    "    # 深拷贝，避免在函数内部修改外部变量\n",
    "    w = copy.deepcopy(w_in)\n",
    "    b = b_in\n",
    "\n",
    "    for i in range(num_iters):\n",
    "\n",
    "        # 计算梯度，并更新参数\n",
    "        dj_dw, dj_db = gradient_function(X, y, w, b)\n",
    "\n",
    "        # 梯度下降：按照学习率 alpha 更新 w 和 b\n",
    "        w = w - alpha * dj_dw\n",
    "        b = b - alpha * dj_db\n",
    "\n",
    "        # 记录当前代价（防止资源耗尽，只保存前 100000 步）\n",
    "        if i < 100000:\n",
    "            J_history.append(cost_function(X, y, w, b))\n",
    "\n",
    "        # 每迭代总次数的 1/10 打印一次代价\n",
    "        if i % math.ceil(num_iters / 10) == 0:\n",
    "            print(f\"迭代 {i:4d} 次：代价 {J_history[-1]:8.2f}\")\n",
    "\n",
    "    # 返回最终参数和代价历史，便于绘图\n",
    "    return w, b, J_history"
   ],
   "id": "432b8a8769d5bf16",
   "outputs": [],
   "execution_count": 54
  },
  {
   "metadata": {
    "ExecuteTime": {
     "end_time": "2025-07-13T15:03:00.661819Z",
     "start_time": "2025-07-13T15:03:00.635262Z"
    }
   },
   "cell_type": "code",
   "source": [
    "# initialize parameters\n",
    "initial_w = np.zeros_like(w_init)\n",
    "initial_b = 0.\n",
    "# some gradient descent settings\n",
    "iterations = 1000\n",
    "alpha = 5.0e-7\n",
    "# run gradient descente)\n",
    "w_final, b_final, J_hist = gradient_descent(X_train, y_train, initial_w, initial_b,\n",
    "                                                    compute_cost, compute_gradient,\n",
    "                                                    alpha, iterations)\n",
    "\n",
    "print(f\"通过梯度下降找到的b,w : {b_final:0.2f},{w_final} \")\n",
    "m,_ = X_train.shape\n",
    "for i in range(m):\n",
    "    print(f\"预测值: {np.dot(X_train[i], w_final) + b_final:0.2f}, 目标值: {y_train[i]}\")"
   ],
   "id": "bf392e28cef1ea7f",
   "outputs": [
    {
     "name": "stdout",
     "output_type": "stream",
     "text": [
      "迭代    0 次：代价 21000.10\n",
      "迭代  100 次：代价   487.45\n",
      "迭代  200 次：代价   485.91\n",
      "迭代  300 次：代价   484.47\n",
      "迭代  400 次：代价   483.13\n",
      "迭代  500 次：代价   481.88\n",
      "迭代  600 次：代价   480.71\n",
      "迭代  700 次：代价   479.63\n",
      "迭代  800 次：代价   478.61\n",
      "迭代  900 次：代价   477.67\n",
      "通过梯度下降找到的b,w : 0.00,[ 0.19  0.01 -0.    0.08] \n",
      "预测值: 394.94, 目标值: 460.0\n",
      "预测值: 266.57, 目标值: 232.0\n",
      "预测值: 161.27, 目标值: 178.0\n",
      "预测值: 235.96, 目标值: 240.0\n",
      "预测值: 558.36, 目标值: 540.0\n",
      "预测值: 369.47, 目标值: 350.0\n",
      "预测值: 170.35, 目标值: 155.0\n"
     ]
    }
   ],
   "execution_count": 60
  },
  {
   "metadata": {
    "ExecuteTime": {
     "end_time": "2025-07-13T15:03:01.307188Z",
     "start_time": "2025-07-13T15:03:01.150299Z"
    }
   },
   "cell_type": "code",
   "source": [
    "# plot cost vs 迭代次数\n",
    "fig, (ax1, ax2) = plt.subplots(1, 2, figsize=(12, 4))\n",
    "ax1.plot(J_hist)\n",
    "ax2.plot(100 + np.arange(len(J_hist[100:])), J_hist[100:])\n",
    "ax1.set_title(\"Cost vs. iteration\")\n",
    "ax2.set_title(\"Cost vs. iteration (tail)\")\n",
    "ax1.set_ylabel('Cost')\n",
    "ax2.set_ylabel('Cost')\n",
    "ax1.set_xlabel('iteration step')\n",
    "ax2.set_xlabel('iteration step')\n",
    "plt.show()"
   ],
   "id": "44e0f23b7869d2ec",
   "outputs": [
    {
     "data": {
      "text/plain": [
       "<Figure size 1200x400 with 2 Axes>"
      ],
      "image/png": "[encoded data removed]"
     },
     "metadata": {},
     "output_type": "display_data"
    }
   ],
   "execution_count": 61
  },
  {
   "metadata": {},
   "cell_type": "markdown",
   "source": "上述实验的模型预测的不太准确，损失值还是比较大，后面要讨论如何继续优化它",
   "id": "fef9209c3db06dd8"
  },
  {
   "metadata": {},
   "cell_type": "code",
   "outputs": [],
   "execution_count": null,
   "source": "",
   "id": "81cc0559bd8565de"
  }
 ],
 "metadata": {
  "kernelspec": {
   "display_name": "Python 3",
   "language": "python",
   "name": "python3"
  },
  "language_info": {
   "codemirror_mode": {
    "name": "ipython",
    "version": 2
   },
   "file_extension": ".py",
   "mimetype": "text/x-python",
   "name": "python",
   "nbconvert_exporter": "python",
   "pygments_lexer": "ipython2",
   "version": "2.7.6"
  }
 },
 "nbformat": 4,
 "nbformat_minor": 5
}
