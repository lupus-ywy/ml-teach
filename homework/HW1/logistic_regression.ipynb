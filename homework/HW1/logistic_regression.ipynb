{
 "cells": [
  {
   "cell_type": "code",
   "id": "initial_id",
   "metadata": {
    "collapsed": true,
    "ExecuteTime": {
     "end_time": "2025-07-16T18:28:23.353491Z",
     "start_time": "2025-07-16T18:28:23.337879Z"
    }
   },
   "source": [
    "import numpy as np\n",
    "import matplotlib.pyplot as plt\n",
    "from homework1_tests import *"
   ],
   "outputs": [],
   "execution_count": 72
  },
  {
   "metadata": {},
   "cell_type": "markdown",
   "source": [
    "## 逻辑回归\n",
    "\n",
    "### 1.1 问题陈述\n",
    "\n",
    "假设你是某大学院系的招生管理员，希望根据申请人在两门考试中的成绩来判断其被录取的概率。\n",
    "\n",
    "* 你拥有往届申请者的历史数据，可作为训练集来训练逻辑回归模型。\n",
    "* 对于每条训练样本，你都有申请人在两门考试中的分数以及最终的录取结果。\n",
    "* 你的任务是构建一个分类模型，输入这两门考试的分数，输出申请人被录取的概率。\n",
    "\n",
    "\n",
    "### 1.2 载入并可视化数据\n",
    "\n",
    "首先需要加载本次任务的数据集， 路径是\"./data/hw1data1.txt\"\n",
    "\n",
    "* 定义函数 然后调用 或者 直接写代码 把数据加载到 `X_train` 与 `y_train` 变量中\n",
    "\n",
    "  * `X_train`：每位学生在两门考试中的分数\n",
    "  * `y_train`：对应的录取结果\n",
    "\n",
    "    * 当学生被录取时，`y_train = 1`\n",
    "    * 当学生未被录取时，`y_train = 0`\n",
    "  * `X_train` 和 `y_train` 都是 NumPy 数组。\n"
   ],
   "id": "cf4f4e858960d615"
  },
  {
   "metadata": {
    "ExecuteTime": {
     "end_time": "2025-07-16T18:28:25.738741Z",
     "start_time": "2025-07-16T18:28:25.723108Z"
    }
   },
   "cell_type": "code",
   "source": [
    "# TODO 1. 读取数据，X_train存特征, y_train存标签(分类）\n",
    "X_train = ...\n",
    "y_train = ...\n",
    "assert type(X_train) == np.ndarray and X_train.shape==(100,2) and type(y_train) == np.ndarray and y_train.shape==(100,)#"
   ],
   "id": "f8ae1d8ddb7728ca",
   "outputs": [],
   "execution_count": 73
  },
  {
   "metadata": {
    "ExecuteTime": {
     "end_time": "2025-07-16T16:41:28.493946Z",
     "start_time": "2025-07-16T16:41:28.266388Z"
    }
   },
   "cell_type": "code",
   "source": "# TODO 2. 可视化数据：横轴是第一次考试的分数，纵轴是第二次考试的分数，被录取类和未被录取类用不同的标记\n",
   "id": "4b1f4201189dcefe",
   "outputs": [
    {
     "data": {
      "text/plain": [
       "<Figure size 640x480 with 1 Axes>"
      ],
      "image/png": "[encoded data removed]"
     },
     "metadata": {},
     "output_type": "display_data"
    }
   ],
   "execution_count": 4
  },
  {
   "metadata": {},
   "cell_type": "markdown",
   "source": [
    "### 1.3  Sigmoid（S 型）函数\n",
    "\n",
    "回顾逻辑回归模型的表达式：\n",
    "\n",
    "$$\n",
    "f_{\\mathbf{w},b}(x) = g(\\mathbf{w}\\cdot \\mathbf{x} + b)\n",
    "$$\n",
    "\n",
    "其中 $g$ 为 **Sigmoid 函数**，定义为：\n",
    "\n",
    "$$\n",
    "g(z) = \\frac{1}{1 + e^{-z}}\n",
    "$$\n",
    "\n",
    "接下来我们先实现 Sigmoid 函数，供后续练习调用。\n",
    "请完成 `sigmoid` 函数的代码，实现\n",
    "\n",
    "$$\n",
    "g(z) = \\frac{1}{1 + e^{-z}}\n",
    "$$\n",
    "\n",
    "注意：\n",
    "\n",
    "* 这里的 `z` 不一定只是一个数字，也可能是一个数字数组；\n",
    "* 如果输入是数组，需要对数组中的每个元素都应用 Sigmoid 函数。\n"
   ],
   "id": "675ab6ef86a51daa"
  },
  {
   "metadata": {
    "ExecuteTime": {
     "end_time": "2025-07-16T16:43:48.037952Z",
     "start_time": "2025-07-16T16:43:48.024862Z"
    }
   },
   "cell_type": "code",
   "source": [
    "# TODO 3. 实现sigmoid函数\n",
    "def sigmoid(z):\n",
    "    pass\n"
   ],
   "id": "f18d4a378b5209d1",
   "outputs": [],
   "execution_count": 11
  },
  {
   "metadata": {
    "ExecuteTime": {
     "end_time": "2025-07-16T16:43:48.358726Z",
     "start_time": "2025-07-16T16:43:48.343087Z"
    }
   },
   "cell_type": "code",
   "source": [
    "# 运行此代码测试实现是否通过所有测试, 正常会显示All tests passed!\n",
    "sigmoid_test(sigmoid)"
   ],
   "id": "b0eb67dc8daa914a",
   "outputs": [
    {
     "name": "stdout",
     "output_type": "stream",
     "text": [
      "\u001B[92mAll tests passed!\n"
     ]
    }
   ],
   "execution_count": 12
  },
  {
   "metadata": {},
   "cell_type": "markdown",
   "source": [
    "### 1.4 请根据下式完成 `compute_cost` 函数的代码。\n",
    "\n",
    "回忆一下，逻辑回归的总体代价函数定义为\n",
    "\n",
    "$$\n",
    "J(\\mathbf{w},b)=\\frac{1}{m}\\sum_{i=0}^{m-1}\n",
    "\\Bigl[\\,\n",
    "\\text{loss}\\bigl(f_{\\mathbf{w},b}(\\mathbf{x}^{(i)}),\\,y^{(i)}\\bigr)\n",
    "\\Bigr]\n",
    "\\tag{1}\n",
    "$$\n",
    "\n",
    "其中\n",
    "\n",
    "* $m$ —— 训练样本数量\n",
    "\n",
    "* $\\text{loss}\\bigl(f_{\\mathbf{w},b}(\\mathbf{x}^{(i)}),\\,y^{(i)}\\bigr)$ 是单个样本的损失，定义为\n",
    "\n",
    "  $$\n",
    "  \\text{loss}\\bigl(f_{\\mathbf{w},b}(\\mathbf{x}^{(i)}),\\,y^{(i)}\\bigr)\n",
    "  =-\\,y^{(i)}\\log\\!\\bigl(f_{\\mathbf{w},b}(\\mathbf{x}^{(i)})\\bigr)\n",
    "   -\\bigl(1-y^{(i)}\\bigr)\\,\n",
    "     \\log\\!\\bigl(1-f_{\\mathbf{w},b}(\\mathbf{x}^{(i)})\\bigr)\n",
    "  \\tag{2}\n",
    "  $$\n",
    "\n",
    "* $f_{\\mathbf{w},b}(\\mathbf{x}^{(i)})$ —— 模型对第 $i$ 个样本的预测概率，\n",
    "  $y^{(i)}$ 是其真实标签。\n",
    "\n",
    "* 预测值计算过程\n",
    "\n",
    "  $$\n",
    "    f_{\\mathbf{w},b}(\\mathbf{x}^{(i)})=g\\bigl(\\mathbf{w}\\cdot\\mathbf{x}^{(i)}+b\\bigr)\n",
    "  $$\n",
    "\n",
    "  这里的 $g$ 为 **Sigmoid** 函数。实现时，通常先求中间量\n",
    "\n",
    "  $$\n",
    "    z_{\\mathbf{w},b}(\\mathbf{x}^{(i)})\n",
    "    =\\mathbf{w}\\cdot\\mathbf{x}^{(i)}+b\n",
    "    =w_0x^{(i)}_0+\\dots+w_{\\,n-1}x^{(i)}_{\\,n-1}+b\n",
    "  $$\n",
    "\n",
    "  （$n$ 为特征数），然后再计算\n",
    "  $f_{\\mathbf{w},b}(\\mathbf{x}^{(i)})=g\\bigl(z_{\\mathbf{w},b}(\\mathbf{x}^{(i)})\\bigr)$。\n",
    "\n"
   ],
   "id": "37785d670921d4a2"
  },
  {
   "metadata": {
    "ExecuteTime": {
     "end_time": "2025-07-16T16:52:16.439856Z",
     "start_time": "2025-07-16T16:52:16.424252Z"
    }
   },
   "cell_type": "code",
   "source": [
    "# TODO 4 实现compute_cost函数\n",
    "def compute_cost(X, y, w, b, *argv):\n",
    "    \"\"\"\n",
    "    计算整个训练集的代价（cost）\n",
    "\n",
    "    参数\n",
    "    ----\n",
    "    X : ndarray, 形状 (m, n)\n",
    "        训练数据，m 行 n 列（m 个样本，n 个特征）\n",
    "    y : ndarray, 形状 (m,)\n",
    "        目标值 / 标签\n",
    "    w : ndarray, 形状 (n,)\n",
    "        模型参数向量\n",
    "    b : float\n",
    "        模型的偏置项\n",
    "    *argv :\n",
    "        预留参数（当前未使用），用于与后续含正则化版本兼容\n",
    "\n",
    "    返回\n",
    "    ----\n",
    "    total_cost : float\n",
    "        计算得到的平均代价\n",
    "    \"\"\"\n",
    "    pass"
   ],
   "id": "5f38be4ecb443b3d",
   "outputs": [],
   "execution_count": 13
  },
  {
   "metadata": {
    "ExecuteTime": {
     "end_time": "2025-07-16T16:52:33.232418Z",
     "start_time": "2025-07-16T16:52:33.216792Z"
    }
   },
   "cell_type": "code",
   "source": [
    "# 运行此代码测试实现是否通过所有测试, 正常会显示All tests passed!\n",
    "compute_cost_test(compute_cost)"
   ],
   "id": "b7e9b331c06058a4",
   "outputs": [
    {
     "name": "stdout",
     "output_type": "stream",
     "text": [
      "\u001B[92mAll tests passed!\n"
     ]
    }
   ],
   "execution_count": 14
  },
  {
   "metadata": {},
   "cell_type": "markdown",
   "source": [
    "### 1.5 逻辑回归的梯度\n",
    "\n",
    "在本节中，你将实现逻辑回归的梯度计算。\n",
    "\n",
    "回忆**梯度下降**算法的迭代形式：\n",
    "\n",
    "$$\n",
    "\\begin{align*}\n",
    "&\\text{重复，直到收敛：}\\ \\{\\\\[4pt]\n",
    "&\\quad b \\;:=\\; b \\;-\\; \\alpha\\,\\frac{\\partial J(\\mathbf{w},b)}{\\partial b} \\\\[6pt]\n",
    "&\\quad w_j \\;:=\\; w_j \\;-\\; \\alpha\\,\\frac{\\partial J(\\mathbf{w},b)}{\\partial w_j}\n",
    "\\quad\\text{（对 } j=0,\\dots,n-1\\text{）}\\\\[4pt]\n",
    "&\\}\n",
    "\\end{align*}\n",
    "\\tag{1}\n",
    "$$\n",
    "\n",
    "其中\n",
    "\n",
    "* $\\alpha$ 是学习率\n",
    "* $J(\\mathbf{w},b)$ 是成本函数\n",
    "* $\\dfrac{\\partial J}{\\partial b},\\ \\dfrac{\\partial J}{\\partial w_j}$ 是对偏置 $b$ 和各权重 $w_j$ 的偏导数。\n",
    "\n",
    "请根据下列公式 (2) 和 (3)，完成 `compute_gradient` 函数，计算\n",
    "$\\dfrac{\\partial J(\\mathbf{w},b)}{\\partial w}$ 和 $\\dfrac{\\partial J(\\mathbf{w},b)}{\\partial b}$。\n",
    "\n",
    "$$\n",
    "\\frac{\\partial J(\\mathbf{w},b)}{\\partial b}\n",
    "  = \\frac{1}{m}\\sum_{i=0}^{m-1}\n",
    "    \\Bigl(f_{\\mathbf{w},b}(\\mathbf{x}^{(i)}) - y^{(i)}\\Bigr) \\tag{2}\n",
    "$$\n",
    "\n",
    "$$\n",
    "\\frac{\\partial J(\\mathbf{w},b)}{\\partial w_j}\n",
    "  = \\frac{1}{m}\\sum_{i=0}^{m-1}\n",
    "    \\Bigl(f_{\\mathbf{w},b}(\\mathbf{x}^{(i)}) - y^{(i)}\\Bigr)\\,x^{(i)}_{j}\n",
    "  \\tag{3}\n",
    "$$\n",
    "\n",
    "* $m$ 为训练集中样本的数量\n",
    "* $f_{\\mathbf{w},b}(\\mathbf{x}^{(i)})$ 是模型对第 $i$ 个样本的预测值，\n",
    "  $y^{(i)}$ 是该样本的真实标签。\n"
   ],
   "id": "e3a74bc6cb34cf57"
  },
  {
   "metadata": {
    "ExecuteTime": {
     "end_time": "2025-07-16T17:10:31.847405Z",
     "start_time": "2025-07-16T17:10:31.831767Z"
    }
   },
   "cell_type": "code",
   "source": [
    "# TODO 5 实现compute_gradient函数\n",
    "def compute_gradient(X, y, w, b, *argv):\n",
    "    \"\"\"\n",
    "    计算逻辑回归的梯度\n",
    "    参数\n",
    "    ------\n",
    "    X : ndarray, 形状 (m, n)\n",
    "        输入特征矩阵，m 行 n 列（m 个样本，每样本 n 个特征）\n",
    "    y : ndarray, 形状 (m,)\n",
    "        目标值（标签）向量\n",
    "    w : ndarray, 形状 (n,)\n",
    "        模型权重参数\n",
    "    b : float\n",
    "        模型偏置参数\n",
    "    *argv :\n",
    "        预留参数，当前未使用，仅为与后续含正则化版本接口保持一致\n",
    "\n",
    "    返回\n",
    "    ------\n",
    "    dj_db : float\n",
    "        成本函数对偏置 b 的梯度\n",
    "\n",
    "    dj_dw : ndarray, 形状 (n,)\n",
    "        成本函数对权重 w 的梯度\n",
    "    \"\"\"\n",
    "\n",
    "    # 注意：按 dj_db, dj_dw的顺序返回！\n",
    "    pass"
   ],
   "id": "52d19f34bc7b01de",
   "outputs": [],
   "execution_count": 18
  },
  {
   "metadata": {
    "ExecuteTime": {
     "end_time": "2025-07-16T17:10:32.248663Z",
     "start_time": "2025-07-16T17:10:32.233006Z"
    }
   },
   "cell_type": "code",
   "source": [
    "#  单个例子调用\n",
    "test_w = np.array([ 0.2, -0.5])\n",
    "test_b = -24\n",
    "dj_db, dj_dw  = compute_gradient(X_train, y_train, test_w, test_b)\n",
    "\n",
    "print('dj_db:', dj_db)\n",
    "print('dj_dw:', dj_dw.tolist())\n",
    "\n",
    "#  运行此代码测试实现是否通过所有测试, 正常会显示All tests passed!\n",
    "compute_gradient_test(compute_gradient)"
   ],
   "id": "5c1717fb4fb2a506",
   "outputs": [
    {
     "name": "stdout",
     "output_type": "stream",
     "text": [
      "dj_db: -0.5999999999991071\n",
      "dj_dw: [-44.831353617873795, -44.37384124953978]\n",
      "\u001B[92mAll tests passed!\n"
     ]
    }
   ],
   "execution_count": 19
  },
  {
   "metadata": {},
   "cell_type": "markdown",
   "source": [
    "### 1.6 使用梯度下降学习参数\n",
    "* 检查梯度下降是否正常工作的一个好方法，是观察 $J(\\mathbf{w},b)$ 的数值是否在每一步都在下降。"
   ],
   "id": "ac7b6d1c5ceefefe"
  },
  {
   "metadata": {
    "ExecuteTime": {
     "end_time": "2025-07-16T17:16:42.301645Z",
     "start_time": "2025-07-16T17:16:42.286018Z"
    }
   },
   "cell_type": "code",
   "source": [
    "# TODO： 6. 执行梯度下降关键步骤：参数更新，在函数内补充代码\n",
    "\n",
    "def gradient_descent(X, y, w_in, b_in, cost_function, gradient_function, alpha, num_iters, lambda_):\n",
    "    \"\"\"\n",
    "    执行 **批量梯度下降** 来学习模型参数。\n",
    "    通过学习率 alpha 进行 num_iters 次梯度更新以优化 θ (w, b)。\n",
    "\n",
    "    参数\n",
    "    ------\n",
    "    X : ndarray, 形状 (m, n)\n",
    "        训练特征矩阵，m 个样本，n 个特征\n",
    "    y : ndarray, 形状 (m,)\n",
    "        目标值 / 标签向量\n",
    "    w_in : ndarray, 形状 (n,)\n",
    "        模型权重参数的初始值\n",
    "    b_in : float\n",
    "        模型偏置参数的初始值\n",
    "    cost_function : callable\n",
    "        计算代价 J 的函数\n",
    "    gradient_function : callable\n",
    "        计算梯度 (dj_dw, dj_db) 的函数\n",
    "    alpha : float\n",
    "        学习率\n",
    "    num_iters : int\n",
    "        梯度下降的迭代次数\n",
    "    lambda_ : float\n",
    "        正则化常数 λ\n",
    "\n",
    "    返回\n",
    "    ------\n",
    "    w_in : ndarray, 形状 (n,)\n",
    "        迭代结束后的权重参数\n",
    "    b_in : float\n",
    "        迭代结束后的偏置参数\n",
    "    J_history : list[float]\n",
    "        每次迭代记录的代价 J（便于绘图）\n",
    "    w_history : list[ndarray]\n",
    "        部分迭代记录下来的 w（便于可视化收敛过程）\n",
    "    \"\"\"\n",
    "\n",
    "    # 训练样本数量\n",
    "    m = len(X)\n",
    "\n",
    "    # 用于保存每次迭代的代价 J 和 w（主要用于后续绘图）\n",
    "    J_history = []\n",
    "    w_history = []\n",
    "\n",
    "    for i in range(num_iters):\n",
    "\n",
    "        # TODO: 计算梯度并更新参数\n",
    "\n",
    "\n",
    "        # TODO：使用学习率 alpha 按梯度更新参数 w 和 b\n",
    "\n",
    "        # 记录每次迭代的代价 J\n",
    "        if i < 100000:      # 防止资源耗尽\n",
    "            cost = cost_function(X, y, w_in, b_in, lambda_)\n",
    "            J_history.append(cost)\n",
    "\n",
    "        # 每进行总迭代数的 1/10 输出一次代价（若迭代次数 < 10，则每次都输出）\n",
    "        if i % math.ceil(num_iters/10) == 0 or i == (num_iters-1):\n",
    "            w_history.append(w_in)\n",
    "            print(f\"Iteration {i:4}: Cost {float(J_history[-1]):8.2f}   \")\n",
    "\n",
    "    # 返回最终 w、b 以及 J、w 的历史记录，便于绘图\n",
    "    return w_in, b_in, J_history, w_history\n"
   ],
   "id": "cbf9591b3c24d541",
   "outputs": [],
   "execution_count": 20
  },
  {
   "metadata": {
    "ExecuteTime": {
     "end_time": "2025-07-16T17:17:45.971391Z",
     "start_time": "2025-07-16T17:17:45.729211Z"
    }
   },
   "cell_type": "code",
   "source": [
    "# 运行梯度下降\n",
    "\n",
    "# 初始参数设置\n",
    "initial_w = 0.01 * (np.random.rand(2) - 0.5)\n",
    "initial_b = -8\n",
    "\n",
    "# 迭代次数和学习率设置\n",
    "iterations = 10000\n",
    "alpha = 0.001\n",
    "\n",
    "w,b, J_history,_ = gradient_descent(X_train ,y_train, initial_w, initial_b,\n",
    "                                   compute_cost, compute_gradient, alpha, iterations, 0)"
   ],
   "id": "e29ef2d0cf4bc0be",
   "outputs": [
    {
     "name": "stdout",
     "output_type": "stream",
     "text": [
      "Iteration    0: Cost     0.85   \n",
      "Iteration 1000: Cost     0.31   \n",
      "Iteration 2000: Cost     0.30   \n",
      "Iteration 3000: Cost     0.30   \n",
      "Iteration 4000: Cost     0.30   \n",
      "Iteration 5000: Cost     0.30   \n",
      "Iteration 6000: Cost     0.30   \n",
      "Iteration 7000: Cost     0.30   \n",
      "Iteration 8000: Cost     0.30   \n",
      "Iteration 9000: Cost     0.30   \n",
      "Iteration 9999: Cost     0.30   \n"
     ]
    }
   ],
   "execution_count": 21
  },
  {
   "metadata": {},
   "cell_type": "markdown",
   "source": [
    "### 1.7 绘制决策边界\n",
    "\n",
    "现在，我们将使用梯度下降所得的最终参数来绘制线性决策边界。如果你之前的实现都正确，应该会看到下个单元格所示的类似结果。\n"
   ],
   "id": "e59d52655e7c381"
  },
  {
   "metadata": {
    "ExecuteTime": {
     "end_time": "2025-07-16T17:29:41.858269Z",
     "start_time": "2025-07-16T17:29:41.673584Z"
    }
   },
   "cell_type": "code",
   "source": "# TODO 7. 画决策边界",
   "id": "b4dcb892cc0a59f2",
   "outputs": [
    {
     "data": {
      "text/plain": [
       "<Figure size 640x480 with 1 Axes>"
      ],
      "image/png": "[encoded data removed]"
     },
     "metadata": {},
     "output_type": "display_data"
    }
   ],
   "execution_count": 25
  },
  {
   "metadata": {},
   "cell_type": "markdown",
   "source": [
    "### 1.8 评估逻辑回归模型\n",
    "\n",
    "我们可以通过查看训练集中模型的预测效果来评估已学习参数的质量。\n",
    "\n",
    "接下来请你完成下面的 `predict` 函数，实现模型预测。\n"
   ],
   "id": "6dd2ba8b5db6e9e1"
  },
  {
   "metadata": {},
   "cell_type": "markdown",
   "source": [
    "请完成 `predict` 函数，使其在给定数据集以及已学习到的参数向量 $w$ 和 $b$ 时，输出预测结果 `1` 或 `0`。\n",
    "\n",
    "步骤说明：\n",
    "\n",
    "1. **计算模型预测值**\n",
    "\n",
    "   * 对每个样本 $x^{(i)}$，先计算\n",
    "\n",
    "     $$\n",
    "       f(x^{(i)}) = g\\bigl(w \\cdot x^{(i)} + b\\bigr)\n",
    "     $$\n",
    "\n",
    "     其中 $g$ 为 Sigmoid 函数。这部分你在前面已经实现过。\n",
    "\n",
    "2. **将预测值解释为概率**\n",
    "\n",
    "   * $f(x^{(i)})$ 被视为在参数 $w,b$ 下，给定输入 $x^{(i)}$ 时 $y^{(i)}=1$ 的概率。\n",
    "\n",
    "3. **根据概率给出最终分类**\n",
    "\n",
    "   * 如果 $f(x^{(i)}) \\ge 0.5$，则预测 $y^{(i)}=1$\n",
    "   * 如果 $f(x^{(i)}) < 0.5$，则预测 $y^{(i)}=0$\n",
    "\n",
    "按照此逻辑实现 `predict` 即可。"
   ],
   "id": "426bb39e1aec1dd9"
  },
  {
   "metadata": {
    "ExecuteTime": {
     "end_time": "2025-07-16T17:33:56.894365Z",
     "start_time": "2025-07-16T17:33:56.878682Z"
    }
   },
   "cell_type": "code",
   "source": [
    "# TODO: 8 实现预测\n",
    "def predict(X, w, b):\n",
    "    \"\"\"\n",
    "    使用学习到的逻辑回归参数 w、b 预测样本标签（0 或 1）\n",
    "\n",
    "    参数\n",
    "    ------\n",
    "    X : ndarray, 形状 (m, n)\n",
    "        特征矩阵，m 个样本，每个样本 n 个特征\n",
    "    w : ndarray, 形状 (n,)\n",
    "        模型权重参数\n",
    "    b : float\n",
    "        模型偏置参数\n",
    "\n",
    "    返回\n",
    "    ------\n",
    "    p : ndarray, 形状 (m,)\n",
    "        对 X 的预测结果，使用 0.5 作为分类阈值\n",
    "    \"\"\"\n",
    "    # ...\n",
    "    pass"
   ],
   "id": "cb86517e3adc5d74",
   "outputs": [],
   "execution_count": 26
  },
  {
   "metadata": {
    "ExecuteTime": {
     "end_time": "2025-07-16T17:35:55.136552Z",
     "start_time": "2025-07-16T17:35:55.120964Z"
    }
   },
   "cell_type": "code",
   "source": [
    "# 测试预测的代码\n",
    "np.random.seed(1)\n",
    "tmp_w = np.random.randn(2)\n",
    "tmp_b = 0.3\n",
    "tmp_X = np.random.randn(4, 2) - 0.5\n",
    "\n",
    "tmp_p = predict(tmp_X, tmp_w, tmp_b)\n",
    "print(f'Output of predict: shape {tmp_p.shape}, value {tmp_p}')\n",
    "\n",
    "#  运行此代码测试实现是否通过所有测试, 正常会显示All tests passed!\n",
    "predict_test(predict)"
   ],
   "id": "d666d2a05f265f22",
   "outputs": [
    {
     "name": "stdout",
     "output_type": "stream",
     "text": [
      "Output of predict: shape (4,), value [0 1 1 1]\n",
      "\u001B[92mAll tests passed!\n"
     ]
    }
   ],
   "execution_count": 27
  },
  {
   "metadata": {
    "ExecuteTime": {
     "end_time": "2025-07-16T17:36:45.275421Z",
     "start_time": "2025-07-16T17:36:45.259793Z"
    }
   },
   "cell_type": "code",
   "source": [
    "# 计算在训练集上 预测分类的准确率，正常实现应该是92%\n",
    "p = predict(X_train, w,b)\n",
    "print('Train Accuracy: %f'%(np.mean(p == y_train) * 100))"
   ],
   "id": "e34486aab6743c39",
   "outputs": [
    {
     "name": "stdout",
     "output_type": "stream",
     "text": [
      "Train Accuracy: 92.000000\n"
     ]
    }
   ],
   "execution_count": 29
  },
  {
   "metadata": {},
   "cell_type": "markdown",
   "source": [
    "## 2 - 正则化逻辑回归\n",
    "\n",
    "在本部分练习中，你将实现**正则化逻辑回归**，用来预测一家芯片制造厂生产的微芯片能否通过质量检验（QA）。在 QA 过程中，每块芯片都会经过多项测试，以确保其工作正常。\n",
    "\n",
    "<a name=\"3.1\"></a>\n",
    "\n",
    "### 2.1 问题陈述\n",
    "\n",
    "假设你是这家工厂的产品经理，手头有一些微芯片在两项不同测试中的测量结果。\n",
    "\n",
    "* 你希望根据这两项测试来决定芯片应被**接受**还是**拒收**。\n",
    "* 为了做出决策，你拥有过往芯片的历史测试数据，可用来训练一个逻辑回归模型。\n",
    "\n",
    "\n",
    "### 2.2 载入并可视化数据\n",
    "\n",
    "与前面练习类似，我们先加载本任务的数据集并进行可视化。\n",
    "\n",
    "* 数据集的路径：./data/hw2data2.txt\n",
    "\n",
    "  * `X_train`：两项测试的结果（特征）\n",
    "  * `y_train`：QA 检验结果\n",
    "\n",
    "    * 若芯片通过检验，则 `y_train = 1`\n",
    "    * 若芯片未通过检验，则 `y_train = 0`\n",
    "  * `X_train` 与 `y_train` 都是 NumPy 数组。\n"
   ],
   "id": "30ca2698a605ec50"
  },
  {
   "metadata": {
    "ExecuteTime": {
     "end_time": "2025-07-16T17:42:25.238346Z",
     "start_time": "2025-07-16T17:42:25.222777Z"
    }
   },
   "cell_type": "code",
   "source": [
    "# TODO: 9 加载数据\n",
    "X_train = ...\n",
    "y_train = ...\n",
    "\n",
    "assert X_train.shape==(118,2) and y_train.shape==(118,)"
   ],
   "id": "21782fd1b9480a6b",
   "outputs": [],
   "execution_count": 36
  },
  {
   "metadata": {
    "ExecuteTime": {
     "end_time": "2025-07-16T17:43:23.222447Z",
     "start_time": "2025-07-16T17:43:23.097328Z"
    }
   },
   "cell_type": "code",
   "source": "# TODO:10 数据可视化，得到如下图形\n",
   "id": "dbb05f2f8d09069b",
   "outputs": [
    {
     "data": {
      "text/plain": [
       "<Figure size 640x480 with 1 Axes>"
      ],
      "image/png": "[encoded data removed]"
     },
     "metadata": {},
     "output_type": "display_data"
    }
   ],
   "execution_count": 37
  },
  {
   "metadata": {},
   "cell_type": "markdown",
   "source": "如上图所示，无法用一条直线将数据集中的正、负样本分开。因此，直接应用普通逻辑回归在该数据集上表现不会理想，因为逻辑回归只能找到线性的决策边界。",
   "id": "4c034a3eb7b8d155"
  },
  {
   "metadata": {},
   "cell_type": "markdown",
   "source": [
    "### 2.3 特征映射\n",
    "\n",
    "为了更好地拟合数据，可以为每个样本生成更多的特征。在给定的 `map_feature` 函数中，我们把原始特征 $x_1, x_2$ 映射成包含所有不超过 6 次的多项式项：\n",
    "\n",
    "$$\n",
    "\\mathrm{map\\_feature}(x)=\n",
    "\\begin{bmatrix}\n",
    "x_1\\\\\n",
    "x_2\\\\\n",
    "x_1^2\\\\\n",
    "x_1x_2\\\\\n",
    "x_2^2\\\\\n",
    "x_1^3\\\\\n",
    "\\vdots\\\\\n",
    "x_1x_2^5\\\\\n",
    "x_2^6\n",
    "\\end{bmatrix}\n",
    "$$\n",
    "\n",
    "如此映射后，原本只有两维（两项 QA 测试分数）的特征向量被扩展成了 27 维。\n",
    "\n",
    "* 用这个高维特征训练的逻辑回归分类器能够学习到更复杂的决策边界，在二维平面中表现为非线性曲线。\n",
    "* `map_feature` 函数已在下个单元格内实现，可直接调用。\n"
   ],
   "id": "426595bfe7f41e0f"
  },
  {
   "metadata": {
    "ExecuteTime": {
     "end_time": "2025-07-16T17:56:41.526431Z",
     "start_time": "2025-07-16T17:56:41.510971Z"
    }
   },
   "cell_type": "code",
   "source": [
    "def map_feature(X1, X2):\n",
    "    \"\"\"\n",
    "    多项式特征组合\n",
    "    \"\"\"\n",
    "    X1 = np.atleast_1d(X1)\n",
    "    X2 = np.atleast_1d(X2)\n",
    "    degree = 6\n",
    "    out = []\n",
    "    for i in range(1, degree+1):\n",
    "        for j in range(i + 1):\n",
    "            out.append((X1**(i-j) * (X2**j)))\n",
    "    return np.column_stack(out)"
   ],
   "id": "625879be02f33af4",
   "outputs": [],
   "execution_count": 39
  },
  {
   "metadata": {
    "ExecuteTime": {
     "end_time": "2025-07-16T17:57:27.606730Z",
     "start_time": "2025-07-16T17:57:27.591182Z"
    }
   },
   "cell_type": "code",
   "source": [
    "print(\"data的原始形状:\", X_train.shape)\n",
    "\n",
    "mapped_X =  map_feature(X_train[:, 0], X_train[:, 1])\n",
    "print(\"特征映射后的data的形状:\", mapped_X.shape)"
   ],
   "id": "d0e4fd94ff47af1c",
   "outputs": [
    {
     "name": "stdout",
     "output_type": "stream",
     "text": [
      "data的原始形状: (118, 2)\n",
      "特征映射后的data的形状: (118, 27)\n"
     ]
    }
   ],
   "execution_count": 40
  },
  {
   "metadata": {
    "ExecuteTime": {
     "end_time": "2025-07-16T17:58:26.891730Z",
     "start_time": "2025-07-16T17:58:26.876723Z"
    }
   },
   "cell_type": "code",
   "source": [
    "# 看看原始数据 和 特征映射后的数据\n",
    "print(\"X_train[0]:\", X_train[0])\n",
    "print(\"mapped X_train[0]:\", mapped_X[0])"
   ],
   "id": "bd73dd82bc2e7cd1",
   "outputs": [
    {
     "name": "stdout",
     "output_type": "stream",
     "text": [
      "X_train[0]: [0.051267 0.69956 ]\n",
      "mapped X_train[0]: [5.12670000e-02 6.99560000e-01 2.62830529e-03 3.58643425e-02\n",
      " 4.89384194e-01 1.34745327e-04 1.83865725e-03 2.50892595e-02\n",
      " 3.42353606e-01 6.90798869e-06 9.42624411e-05 1.28625106e-03\n",
      " 1.75514423e-02 2.39496889e-01 3.54151856e-07 4.83255257e-06\n",
      " 6.59422333e-05 8.99809795e-04 1.22782870e-02 1.67542444e-01\n",
      " 1.81563032e-08 2.47750473e-07 3.38066048e-06 4.61305487e-05\n",
      " 6.29470940e-04 8.58939846e-03 1.17205992e-01]\n"
     ]
    }
   ],
   "execution_count": 41
  },
  {
   "metadata": {},
   "cell_type": "markdown",
   "source": [
    "虽然特征映射能让分类器更灵活，但也更容易 **过拟合**。接下来你将实现**正则化逻辑回归**来拟合数据，并亲自体会正则化如何缓解过拟合问题。\n",
    "\n",
    "\n",
    "### 2.4 正则化逻辑回归的代价函数\n",
    "\n",
    "在本节中，你将实现 **正则化逻辑回归** 的代价函数。\n",
    "\n",
    "对于正则化逻辑回归，代价函数形式为\n",
    "\n",
    "$$\n",
    "J(\\mathbf{w},b)=\n",
    "\\frac{1}{m}\\sum_{i=0}^{m-1}\n",
    "\\Bigl[\n",
    "-y^{(i)}\\log f_{\\mathbf{w},b}(\\mathbf{x}^{(i)})\n",
    "-\\bigl(1-y^{(i)}\\bigr)\\log\\!\\bigl(1-f_{\\mathbf{w},b}(\\mathbf{x}^{(i)})\\bigr)\n",
    "\\Bigr]\n",
    "\\;+\\;\n",
    "\\frac{\\lambda}{2m}\\sum_{j=0}^{n-1} w_j^{2}\n",
    "$$\n",
    "\n",
    "与前面未加正则化时的代价函数相比\n",
    "\n",
    "$$\n",
    "J(\\mathbf{w},b)=\n",
    "\\frac{1}{m}\\sum_{i=0}^{m-1}\n",
    "\\Bigl[\n",
    "-y^{(i)}\\log f_{\\mathbf{w},b}(\\mathbf{x}^{(i)})\n",
    "-\\bigl(1-y^{(i)}\\bigr)\\log\\!\\bigl(1-f_{\\mathbf{w},b}(\\mathbf{x}^{(i)})\\bigr)\n",
    "\\Bigr]\n",
    "$$\n",
    "\n",
    "两者的区别在于额外的 **正则化项**\n",
    "\n",
    "$$\n",
    "\\frac{\\lambda}{2m}\\sum_{j=0}^{n-1} w_j^{2}\n",
    "$$\n",
    "\n",
    "请注意，**偏置项 $b$ 不进行正则化**。\n"
   ],
   "id": "797da5a864469c8"
  },
  {
   "metadata": {},
   "cell_type": "markdown",
   "source": [
    "请完成下面的 `compute_cost_reg` 函数，实现对参数向量 $w$ 计算并加入以下正则化项：\n",
    "\n",
    "$$\n",
    "\\frac{\\lambda}{2m} \\sum_{j=0}^{n-1} w_j^{2}\n",
    "$$"
   ],
   "id": "aba1595c18bac93e"
  },
  {
   "metadata": {
    "ExecuteTime": {
     "end_time": "2025-07-16T18:04:04.836406Z",
     "start_time": "2025-07-16T18:04:04.820773Z"
    }
   },
   "cell_type": "code",
   "source": [
    "# TODO 11： 完成正则化的损失计算\n",
    "def compute_cost_reg(X, y, w, b, lambda_ = 1):\n",
    "    \"\"\"\n",
    "    计算带正则化项的总体代价\n",
    "\n",
    "    参数\n",
    "    ------\n",
    "    X : ndarray, 形状 (m, n)\n",
    "        输入特征矩阵，m 个样本，n 个特征\n",
    "    y : ndarray, 形状 (m,)\n",
    "        目标值 / 标签向量\n",
    "    w : ndarray, 形状 (n,)\n",
    "        模型权重参数\n",
    "    b : float\n",
    "        模型偏置参数\n",
    "    lambda_ : float\n",
    "        正则化强度 λ\n",
    "\n",
    "    返回\n",
    "    ------\n",
    "    total_cost : float\n",
    "        含正则化项的总代价\n",
    "    \"\"\"\n",
    "    pass"
   ],
   "id": "4147a7cc18669955",
   "outputs": [],
   "execution_count": 44
  },
  {
   "metadata": {
    "ExecuteTime": {
     "end_time": "2025-07-16T18:04:32.735369Z",
     "start_time": "2025-07-16T18:04:32.719740Z"
    }
   },
   "cell_type": "code",
   "source": [
    "# 运行下面代码 测试实现是否正确\n",
    "X_mapped = map_feature(X_train[:, 0], X_train[:, 1])\n",
    "np.random.seed(1)\n",
    "initial_w = np.random.rand(X_mapped.shape[1]) - 0.5\n",
    "initial_b = 0.5\n",
    "lambda_ = 0.5\n",
    "cost = compute_cost_reg(X_mapped, y_train, initial_w, initial_b, lambda_)\n",
    "\n",
    "print(\"Regularized cost :\", cost)\n",
    "\n",
    "# 测试\n",
    "compute_cost_reg_test(compute_cost_reg)"
   ],
   "id": "3bd33f1975644945",
   "outputs": [
    {
     "name": "stdout",
     "output_type": "stream",
     "text": [
      "Regularized cost : 0.6618252552483951\n",
      "\u001B[92mAll tests passed!\n"
     ]
    }
   ],
   "execution_count": 45
  },
  {
   "metadata": {},
   "cell_type": "markdown",
   "source": [
    "### 2.5 正则化逻辑回归的梯度\n",
    "\n",
    "在本节中，你将实现**正则化逻辑回归**的梯度计算。\n",
    "\n",
    "正则化后代价函数 $J(\\mathbf{w},b)$ 的梯度分为两部分：\n",
    "\n",
    "* 对偏置项 $b$ 的偏导数是一个标量\n",
    "* 对权重向量 $\\mathbf w$ 的偏导数仍是与 $\\mathbf w$ 同形状的向量，其第 $j$ 个分量如下\n",
    "\n",
    "$$\n",
    "\\frac{\\partial J(\\mathbf{w},b)}{\\partial b}\n",
    "  =\\frac{1}{m}\\sum_{i=0}^{m-1}\\bigl(f_{\\mathbf{w},b}(\\mathbf{x}^{(i)})-y^{(i)}\\bigr)\n",
    "$$\n",
    "\n",
    "$$\n",
    "\\frac{\\partial J(\\mathbf{w},b)}{\\partial w_j}\n",
    "   =\\Bigl[\\frac{1}{m}\\sum_{i=0}^{m-1}\n",
    "          \\bigl(f_{\\mathbf{w},b}(\\mathbf{x}^{(i)})-y^{(i)}\\bigr)\n",
    "          x_j^{(i)}\\Bigr]\n",
    "    +\\frac{\\lambda}{m}\\,w_j,\n",
    "    \\quad j=0,\\dots ,n-1\n",
    "$$\n",
    "\n",
    "\n",
    "\n",
    "#### 与**无正则化**情形的比较\n",
    "\n",
    "未加正则化时，你已经实现过的梯度为\n",
    "\n",
    "$$\n",
    "\\frac{\\partial J(\\mathbf{w},b)}{\\partial b}\n",
    "  =\\frac{1}{m}\\sum_{i=0}^{m-1}\\bigl(f_{\\mathbf{w},b}(\\mathbf{x}^{(i)})-y^{(i)}\\bigr)\n",
    "\\tag{2}\n",
    "$$\n",
    "\n",
    "$$\n",
    "\\frac{\\partial J(\\mathbf{w},b)}{\\partial w_j}\n",
    "  =\\frac{1}{m}\\sum_{i=0}^{m-1}\n",
    "   \\bigl(f_{\\mathbf{w},b}(\\mathbf{x}^{(i)})-y^{(i)}\\bigr)\\,x_j^{(i)}\n",
    "\\tag{3}\n",
    "$$\n",
    "\n",
    "可以看到：\n",
    "\n",
    "* **对 $b$ 的梯度两种情况完全相同**。\n",
    "* 差异在于 $\\displaystyle\\frac{\\partial J}{\\partial w_j}$ 的最后一项\n",
    "\n",
    "  $$\n",
    "    \\frac{\\lambda}{m}\\,w_j,\\quad j=0,\\dots ,n-1\n",
    "  $$\n",
    "\n",
    "  这正是正则化带来的额外“收缩”项，用来抑制权重过大、防止过拟合。\n"
   ],
   "id": "8d302e7bb3d391e1"
  },
  {
   "metadata": {
    "ExecuteTime": {
     "end_time": "2025-07-16T18:09:49.049745Z",
     "start_time": "2025-07-16T18:09:49.034114Z"
    }
   },
   "cell_type": "code",
   "source": [
    "# TODO 12: 实现梯度计算\n",
    "def compute_gradient_reg(X, y, w, b, lambda_ = 1):\n",
    "    \"\"\"\n",
    "    计算带正则化项的逻辑回归梯度\n",
    "\n",
    "    参数\n",
    "    ------\n",
    "    X : ndarray, 形状 (m, n)\n",
    "        输入特征矩阵，m 个样本，n 个特征\n",
    "    y : ndarray, 形状 (m,)\n",
    "        目标值（标签）向量\n",
    "    w : ndarray, 形状 (n,)\n",
    "        模型权重参数\n",
    "    b : float\n",
    "        模型偏置参数\n",
    "    lambda_ : float\n",
    "        正则化常数 λ\n",
    "\n",
    "    返回\n",
    "    ------\n",
    "    dj_db : float\n",
    "        代价函数对偏置 b 的梯度\n",
    "    dj_dw : ndarray, 形状 (n,)\n",
    "        代价函数对权重 w 的梯度\n",
    "    \"\"\"\n",
    "    pass"
   ],
   "id": "aaae8130de27040e",
   "outputs": [],
   "execution_count": 48
  },
  {
   "metadata": {
    "ExecuteTime": {
     "end_time": "2025-07-16T18:09:49.561582Z",
     "start_time": "2025-07-16T18:09:49.545958Z"
    }
   },
   "cell_type": "code",
   "source": [
    "# 运行下面代码，测试实现是否正确\n",
    "X_mapped = map_feature(X_train[:, 0], X_train[:, 1])\n",
    "np.random.seed(1)\n",
    "initial_w  = np.random.rand(X_mapped.shape[1]) - 0.5\n",
    "initial_b = 0.5\n",
    "\n",
    "lambda_ = 0.5\n",
    "dj_db, dj_dw = compute_gradient_reg(X_mapped, y_train, initial_w, initial_b, lambda_)\n",
    "\n",
    "print(f\"dj_db: {dj_db}\", )\n",
    "print(f\"dj_dw前4个:\\n {dj_dw[:4].tolist()}\", )\n",
    "\n",
    "# 测试\n",
    "compute_gradient_reg_test(compute_gradient_reg)"
   ],
   "id": "483e4e8d782afb49",
   "outputs": [
    {
     "name": "stdout",
     "output_type": "stream",
     "text": [
      "dj_db: 0.07138288792343654\n",
      "dj_dw前4个:\n",
      " [-0.010386028450548698, 0.011409852883280128, 0.0536273463274574, 0.003140278267313463]\n",
      "\u001B[92mAll tests passed!\n"
     ]
    }
   ],
   "execution_count": 49
  },
  {
   "metadata": {
    "ExecuteTime": {
     "end_time": "2025-07-16T18:11:27.785991Z",
     "start_time": "2025-07-16T18:11:27.499942Z"
    }
   },
   "cell_type": "code",
   "source": [
    "# 运行梯度下降，现在有3个可以调整的训练参数：正则化的lambda，迭代次数和学习率\n",
    "\n",
    "# 初始化参数\n",
    "np.random.seed(1)\n",
    "initial_w = np.random.rand(X_mapped.shape[1])-0.5\n",
    "initial_b = 1.\n",
    "\n",
    "# 设置正则化强度 lambda，可以自己调整\n",
    "lambda_ = 0.01\n",
    "\n",
    "# 设置迭代次数和学习率\n",
    "iterations = 10000\n",
    "alpha = 0.01\n",
    "\n",
    "w,b, J_history,_ = gradient_descent(X_mapped, y_train, initial_w, initial_b,\n",
    "                                    compute_cost_reg, compute_gradient_reg,\n",
    "                                    alpha, iterations, lambda_)"
   ],
   "id": "cd09b293cb27daa",
   "outputs": [
    {
     "name": "stdout",
     "output_type": "stream",
     "text": [
      "Iteration    0: Cost     0.72   \n",
      "Iteration 1000: Cost     0.59   \n",
      "Iteration 2000: Cost     0.56   \n",
      "Iteration 3000: Cost     0.53   \n",
      "Iteration 4000: Cost     0.51   \n",
      "Iteration 5000: Cost     0.50   \n",
      "Iteration 6000: Cost     0.48   \n",
      "Iteration 7000: Cost     0.47   \n",
      "Iteration 8000: Cost     0.46   \n",
      "Iteration 9000: Cost     0.45   \n",
      "Iteration 9999: Cost     0.45   \n"
     ]
    }
   ],
   "execution_count": 50
  },
  {
   "metadata": {},
   "cell_type": "markdown",
   "source": [
    "### 2.6 绘制决策边界\n",
    "\n",
    "为了直观展示分类器学到的模型，我们将使用 `plot_decision_boundary` 函数，绘制**非线性**决策边界，它把正、负样本分隔开。\n",
    "\n",
    "* 在该函数中，我们先在一张均匀网格上计算分类器对每个点的预测，然后用等高线图（contour）画出预测从 0 变为 1 的分界线，从而呈现非线性决策边界。\n",
    "* 当你完成参数 $w$、$b$ 的学习后，下一步就是绘制决策边界图。\n"
   ],
   "id": "fcd119ce8f956892"
  },
  {
   "metadata": {
    "ExecuteTime": {
     "end_time": "2025-07-16T18:34:23.696590Z",
     "start_time": "2025-07-16T18:34:23.680976Z"
    }
   },
   "cell_type": "code",
   "source": [
    "def plotData(X_train, y_train, pos_label=\"y=1\", neg_label=\"y=0\"):\n",
    "    plt.scatter(X_train[y_train==0,0], X_train[y_train==0,1], marker='o', c=\"yellow\", label=neg_label)\n",
    "    plt.scatter(X_train[y_train==1,0], X_train[y_train==1,1], marker='+', c=\"black\", label=pos_label)\n",
    "    plt.legend()\n",
    "\n",
    "def plot_decision_boundary(w, b, X, y):\n",
    "    plotData(X[:, 0:2], y)   # 这里换成自己定义的绘图函数\n",
    "\n",
    "    if X.shape[1] <= 2:\n",
    "        plot_x = np.array([min(X[:, 0]), max(X[:, 0])])\n",
    "        plot_y = (-1. / w[1]) * (w[0] * plot_x + b)\n",
    "\n",
    "        plt.plot(plot_x, plot_y, c=\"b\")\n",
    "\n",
    "    else:\n",
    "        u = np.linspace(-1, 1.5, 50)\n",
    "        v = np.linspace(-1, 1.5, 50)\n",
    "\n",
    "        z = np.zeros((len(u), len(v)))\n",
    "\n",
    "        # 在uv网格里计算 z = theta*x\n",
    "        for i in range(len(u)):\n",
    "            for j in range(len(v)):\n",
    "                print(type(np.dot(map_feature(u[i], v[j]), w)))\n",
    "                z[i,j] = np.dot(map_feature(u[i], v[j]), w)+ b\n",
    "\n",
    "        # important to transpose z before calling contour\n",
    "        z = z.T\n",
    "\n",
    "        # Plot z = 0\n",
    "        plt.contour(u,v,z, levels = [0], colors=\"g\")"
   ],
   "id": "17cbe5d1ff1285d5",
   "outputs": [],
   "execution_count": 78
  },
  {
   "metadata": {
    "ExecuteTime": {
     "end_time": "2025-07-16T18:34:54.677939Z",
     "start_time": "2025-07-16T18:34:54.666394Z"
    }
   },
   "cell_type": "code",
   "source": [
    "plot_decision_boundary(w, b, X_mapped, y_train)\n",
    "\n",
    "plt.ylabel('Microchip Test 2')\n",
    "\n",
    "plt.xlabel('Microchip Test 1')\n",
    "plt.legend(loc=\"upper right\")\n",
    "plt.show()"
   ],
   "id": "969ebca784471004",
   "outputs": [],
   "execution_count": 81
  },
  {
   "metadata": {
    "ExecuteTime": {
     "end_time": "2025-07-16T18:34:58.800302Z",
     "start_time": "2025-07-16T18:34:58.784668Z"
    }
   },
   "cell_type": "code",
   "source": [
    "# 使用predict函数在训练集上计算准确率\n",
    "p = predict(X_mapped, w, b)\n",
    "\n",
    "print(f\"Train Accuracy: {np.mean(p == y_train) * 100}\")  #  大概是 82%"
   ],
   "id": "4b9a6dc9ff480156",
   "outputs": [],
   "execution_count": 82
  },
  {
   "metadata": {},
   "cell_type": "code",
   "outputs": [],
   "execution_count": null,
   "source": "",
   "id": "5167c9a4d2a215b8"
  }
 ],
 "metadata": {
  "kernelspec": {
   "display_name": "Python 3",
   "language": "python",
   "name": "python3"
  },
  "language_info": {
   "codemirror_mode": {
    "name": "ipython",
    "version": 2
   },
   "file_extension": ".py",
   "mimetype": "text/x-python",
   "name": "python",
   "nbconvert_exporter": "python",
   "pygments_lexer": "ipython2",
   "version": "2.7.6"
  }
 },
 "nbformat": 4,
 "nbformat_minor": 5
}
