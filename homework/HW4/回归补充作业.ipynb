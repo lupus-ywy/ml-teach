{
 "cells": [
  {
   "metadata": {},
   "cell_type": "markdown",
   "source": [
    "简答题：\n",
    "1. 如果你的训练集具有数百万个特征，那么可以使用哪种线性回归训练算法？\n",
    "\n",
    "使用随机梯度下降或小批量梯度下降\n",
    "\n",
    "2. 如果你的训练集里特征的数值大小迥异，那么哪些算法可能会受到影响？受影响程度如何？你应该怎么做？\n",
    "\n",
    "梯度下降算法需要很长时间才能收敛。在训练模型之前缩放数据\n",
    "\n",
    "\n",
    "3. 训练逻辑回归模型时，梯度下降可能会卡在局部最小值中吗？\n",
    "\n",
    "梯度下降不会陷入局部最小值\n",
    "\n",
    "\n",
    "4. 如果你让它们运行足够长的时间，是否所有的梯度下降算法都能得出相同的模型？\n",
    "\n",
    "梯度下降算法可能会收敛，但结果可能会有差异\n",
    "\n",
    "\n",
    "5. 假设你使用批量梯度下降，并在每个轮次绘制验证误差。如果你发现验证错误持续上升，那么可能是什么情况？你该如何解决？\n",
    "\n",
    "如果验证错误在每个轮次后持续上升，则一种可能性是学习率过高并且算法在发散。如果训练错误也增加了，应该降低学习率。但是，如果训练错误没有增加，则模型已经过拟合训练集，则应该停止训练\n",
    "\n",
    "\n",
    "6. 当验证误差上升时立即停止小批量梯度下降是个好主意吗？\n",
    "\n",
    "停止训练是一个好主意，因为这可以防止模型过拟合\n",
    "\n",
    "\n",
    "7. 哪种梯度下降算法（在我们讨论过的算法中）将最快地到达最佳解附近？哪个实际上会收敛？如何使其他的也收敛\n",
    "\n",
    "随机梯度下降法具有最快的训练迭代速度。实际上只有批量梯度下降会收敛。适当调整学习率可以使其他的也收敛\n",
    "\n",
    "\n",
    "8. 假设你正在使用多项式回归。绘制学习曲线后，你会发现训练误差和验证误差之间存在很大的差距。发生了什么？解决此问题的三种方法是什么？\n",
    "\n",
    "发生了过拟合。增加训练数据、正则化、简化模型\n",
    "\n",
    "\n",
    "9. 假设你正在使用岭回归，并且你注意到训练误差和验证误差几乎相等且相当高。你是否会说模型存在高偏差或高方差？你应该增加正则化超参数α还是减小它呢？\n",
    "\n",
    "该模型很可能欠拟合训练集，它具有很高的偏差。减少正则化超参数α\n",
    "\n",
    "\n",
    "10. 为什么要使用：a.岭回归而不是简单的线性回归（即没有任何正则化）？b.Lasso而不是岭回归？c.弹性网络而不是Lasso回归？\n",
    "\n",
    "a.防止过拟合、在大量特征的情况下，仍然可以工作。b.Lasso回归自动执行特征选择并输出具有很少非零特征权重的系数模型。c.当特征数量超过训练实例数量，又或者是几个特征强相关时，Lasso回归的表现可能非常不稳定。\n",
    "\n",
    "\n",
    "11. 假设你要将图片分类为室外/室内和白天/夜间。你应该实现两个逻辑回归分类器还是一个softmax回归分类器？\n",
    "\n",
    "训练两个逻辑回归分类器\n"
   ],
   "id": "6af774aa03256f6f"
  },
  {
   "metadata": {},
   "cell_type": "markdown",
   "source": "编程题：",
   "id": "10695eaf8992f30e"
  },
  {
   "cell_type": "code",
   "id": "initial_id",
   "metadata": {
    "collapsed": true,
    "ExecuteTime": {
     "end_time": "2025-08-04T14:26:42.529550Z",
     "start_time": "2025-08-04T14:26:42.513938Z"
    }
   },
   "source": [
    "# todo 编程题: 在不使用sklearn的情况下，仅使用Numpy，为softmax回归实现带早停的批量梯度下降，将它用于分类任务，\n",
    "#  例如鸢尾花数据集  load_iris, 只用两个特征就可以：\"petal width (cm)\", \"petal length (cm)\"\n",
    "#  强调：除了读数据，其他全用numpy （包括分离测试+验证），不用sklearn\n",
    "\n",
    "#  注意：\n",
    "#  1. 要实现l2正则化\n",
    "#  2. 除了数据读取，其他仅使用numpy，包括训练集+验证集分离，以及softmax预测 和 损失计算"
   ],
   "outputs": [],
   "execution_count": 183
  },
  {
   "metadata": {
    "ExecuteTime": {
     "end_time": "2025-08-07T14:03:05.444989Z",
     "start_time": "2025-08-07T14:03:05.437389Z"
    }
   },
   "cell_type": "code",
   "source": [
    "import numpy as np\n",
    "import matplotlib.pyplot as plt\n",
    "from sklearn.datasets import load_iris\n",
    "\n",
    "iris = load_iris(as_frame=True)\n",
    "\n",
    "X = iris.data[[\"petal width (cm)\", \"petal length (cm)\"]].values\n",
    "y = iris.target\n",
    "\n",
    "X = (X - np.mean(X, axis=0)) / np.std(X, axis=0)\n",
    "\n",
    "np.random.seed(42)\n",
    "indices = np.random.permutation(len(X))\n",
    "train_size = int(0.8 * len(X))\n",
    "test_size = int(0.2 * len(X))\n",
    "\n",
    "train_indices = indices[:train_size]\n",
    "test_indices = indices[train_size:]\n",
    "\n",
    "X_train, y_train = X[train_indices], y[train_indices]\n",
    "X_test, y_test = X[test_indices], y[test_indices]"
   ],
   "id": "f34f6eddfa8ce95f",
   "outputs": [],
   "execution_count": 73
  },
  {
   "metadata": {
    "ExecuteTime": {
     "end_time": "2025-08-07T14:03:05.879700Z",
     "start_time": "2025-08-07T14:03:05.871359Z"
    }
   },
   "cell_type": "code",
   "source": [
    "class SoftmaxRegression:\n",
    "    def __init__(self, learning_rate=0.1, max_iterations=1000, tolerance=1e-6, \n",
    "                 regularization_strength=0.01, patience=10):\n",
    "        self.learning_rate = learning_rate\n",
    "        self.max_iterations = max_iterations\n",
    "        self.tolerance = tolerance\n",
    "        self.regularization_strength = regularization_strength\n",
    "        self.patience = patience\n",
    "        self.weights = None\n",
    "        self.bias = None\n",
    "        self.costs = []\n",
    "        self.val_costs = []\n",
    "        \n",
    "    def softmax(self, z):\n",
    "        # 为了数值稳定性，减去最大值\n",
    "        exp_z = np.exp(z - np.max(z, axis=1, keepdims=True))\n",
    "        return exp_z / np.sum(exp_z, axis=1, keepdims=True)\n",
    "    \n",
    "    def one_hot_encode(self, y, num_classes):\n",
    "        one_hot = np.zeros((len(y), num_classes))\n",
    "        one_hot[np.arange(len(y)), y] = 1\n",
    "        return one_hot\n",
    "    \n",
    "    def compute_cost(self, y_pred, y_true):\n",
    "        m = y_true.shape[0]\n",
    "        cross_entropy_loss = -np.sum(y_true * np.log(y_pred + 1e-15)) / m\n",
    "        l2_regularization = (self.regularization_strength / (2 * m)) * np.sum(self.weights ** 2)\n",
    "        return cross_entropy_loss + l2_regularization\n",
    "    \n",
    "    def fit(self, X, y, X_val=None, y_val=None):\n",
    "        m, n = X.shape\n",
    "        num_classes = len(np.unique(y))\n",
    "        self.weights = np.random.normal(0, 0.01, (n, num_classes))\n",
    "        self.bias = np.zeros((1, num_classes))\n",
    "        \n",
    "        y_train_one_hot = self.one_hot_encode(y, num_classes)\n",
    "        if X_val is not None:\n",
    "            y_val_one_hot = self.one_hot_encode(y_val, num_classes)\n",
    "\n",
    "        best_val_cost = np.inf\n",
    "        patience_counter = 0\n",
    "        best_weights = self.weights.copy()\n",
    "        best_bias = self.bias.copy()\n",
    "        \n",
    "        for i in range(self.max_iterations):\n",
    "            z = np.dot(X, self.weights) + self.bias\n",
    "            y_pred = self.softmax(z)\n",
    "            \n",
    "            train_cost = self.compute_cost(y_pred, y_train_one_hot)\n",
    "            self.costs.append(train_cost)\n",
    "            \n",
    "            if X_val is not None:\n",
    "                z_val = np.dot(X_val, self.weights) + self.bias\n",
    "                y_val_pred = self.softmax(z_val)\n",
    "                val_cost = self.compute_cost(y_val_pred, y_val_one_hot)\n",
    "                self.val_costs.append(val_cost)\n",
    "                \n",
    "                if val_cost < best_val_cost:\n",
    "                    best_val_cost = val_cost\n",
    "                    patience_counter = 0\n",
    "                    best_weights = self.weights.copy()\n",
    "                    best_bias = self.bias.copy()\n",
    "                else:\n",
    "                    patience_counter += 1\n",
    "                    \n",
    "                if patience_counter >= self.patience:\n",
    "                    self.weights = best_weights\n",
    "                    self.bias = best_bias\n",
    "                    break\n",
    "            \n",
    "            dw = (1/m) * np.dot(X.T, (y_pred - y_train_one_hot)) + \\\n",
    "                 (self.regularization_strength/m) * self.weights\n",
    "            db = (1/m) * np.sum(y_pred - y_train_one_hot, axis=0, keepdims=True)\n",
    "            \n",
    "            self.weights -= self.learning_rate * dw\n",
    "            self.bias -= self.learning_rate * db\n",
    "            \n",
    "            if i > 0 and abs(self.costs[-2] - self.costs[-1]) < self.tolerance:\n",
    "                break\n",
    "    \n",
    "    def predict_proba(self, X):\n",
    "        z = np.dot(X, self.weights) + self.bias\n",
    "        return self.softmax(z)\n",
    "    \n",
    "    def predict(self, X):\n",
    "        probabilities = self.predict_proba(X)\n",
    "        return np.argmax(probabilities, axis=1)\n"
   ],
   "id": "67f22d4d1c89f7c3",
   "outputs": [],
   "execution_count": 74
  },
  {
   "metadata": {
    "ExecuteTime": {
     "end_time": "2025-08-07T14:03:34.385326Z",
     "start_time": "2025-08-07T14:03:34.326039Z"
    }
   },
   "cell_type": "code",
   "source": [
    "model = SoftmaxRegression(\n",
    "    learning_rate=0.1,\n",
    "    max_iterations=1000,\n",
    "    regularization_strength=0.01,\n",
    "    patience=20\n",
    ")\n",
    "\n",
    "model.fit(X_train, y_train, X_test, y_test)\n",
    "\n",
    "y_train_pred = model.predict(X_train)\n",
    "train_accuracy = np.mean(y_train_pred == y_train)"
   ],
   "id": "772ac2434737987e",
   "outputs": [],
   "execution_count": 75
  },
  {
   "metadata": {
    "ExecuteTime": {
     "end_time": "2025-08-07T14:03:34.726916Z",
     "start_time": "2025-08-07T14:03:34.722801Z"
    }
   },
   "cell_type": "code",
   "source": "train_accuracy",
   "id": "ed67e11a58fc524",
   "outputs": [
    {
     "data": {
      "text/plain": [
       "0.9583333333333334"
      ]
     },
     "execution_count": 76,
     "metadata": {},
     "output_type": "execute_result"
    }
   ],
   "execution_count": 76
  },
  {
   "metadata": {
    "ExecuteTime": {
     "end_time": "2025-08-07T14:04:00.534581Z",
     "start_time": "2025-08-07T14:04:00.530269Z"
    }
   },
   "cell_type": "code",
   "source": [
    "y_val_pred = model.predict(X_test)\n",
    "val_accuracy = np.mean(y_val_pred == y_test)"
   ],
   "id": "16f82824d5572182",
   "outputs": [],
   "execution_count": 77
  },
  {
   "metadata": {
    "ExecuteTime": {
     "end_time": "2025-08-07T14:04:03.375455Z",
     "start_time": "2025-08-07T14:04:03.372098Z"
    }
   },
   "cell_type": "code",
   "source": "val_accuracy",
   "id": "5a4f5c088338ef7a",
   "outputs": [
    {
     "data": {
      "text/plain": [
       "0.9666666666666667"
      ]
     },
     "execution_count": 78,
     "metadata": {},
     "output_type": "execute_result"
    }
   ],
   "execution_count": 78
  },
  {
   "metadata": {
    "ExecuteTime": {
     "end_time": "2025-08-07T14:04:26.206798Z",
     "start_time": "2025-08-07T14:04:26.201924Z"
    }
   },
   "cell_type": "code",
   "source": [
    "y_train_one_hot = model.one_hot_encode(y_train, len(np.unique(y)))\n",
    "train_pred_proba = model.predict_proba(X_train)\n",
    "final_train_loss = model.compute_cost(train_pred_proba, y_train_one_hot)"
   ],
   "id": "41d047b77d744474",
   "outputs": [],
   "execution_count": 79
  },
  {
   "metadata": {
    "ExecuteTime": {
     "end_time": "2025-08-07T14:04:31.919875Z",
     "start_time": "2025-08-07T14:04:31.915801Z"
    }
   },
   "cell_type": "code",
   "source": "final_train_loss",
   "id": "ca945ea4633b473a",
   "outputs": [
    {
     "data": {
      "text/plain": [
       "0.14290712103145076"
      ]
     },
     "execution_count": 80,
     "metadata": {},
     "output_type": "execute_result"
    }
   ],
   "execution_count": 80
  },
  {
   "metadata": {
    "ExecuteTime": {
     "end_time": "2025-08-07T14:08:01.303728Z",
     "start_time": "2025-08-07T14:08:01.167758Z"
    }
   },
   "cell_type": "code",
   "source": [
    "if len(model.val_costs) > 0:\n",
    "    print(f\"最终验证损失: {model.val_costs[-1]:.4f}\")\n",
    "\n",
    "plt.figure(figsize=(12, 4))\n",
    "\n",
    "plt.subplot(1, 2, 1)\n",
    "plt.plot(model.costs)\n",
    "if model.val_costs:\n",
    "    plt.plot(model.val_costs)\n",
    "plt.grid(True)\n",
    "\n",
    "plt.subplot(1, 2, 2)\n",
    "h = 0.02\n",
    "x_min, x_max = X[:, 0].min() - 1, X[:, 0].max() + 1\n",
    "y_min, y_max = X[:, 1].min() - 1, X[:, 1].max() + 1\n",
    "xx, yy = np.meshgrid(np.arange(x_min, x_max, h),\n",
    "                     np.arange(y_min, y_max, h))\n",
    "\n",
    "grid_points = np.c_[xx.ravel(), yy.ravel()]\n",
    "Z = model.predict(grid_points)\n",
    "Z = Z.reshape(xx.shape)\n",
    "\n",
    "plt.contourf(xx, yy, Z, alpha=0.3, cmap=plt.cm.Set1)\n",
    "\n",
    "colors = ['red', 'green', 'blue']\n",
    "for i, color in enumerate(colors):\n",
    "    idx = np.where(y == i)\n",
    "    plt.scatter(X[idx, 0], X[idx, 1], c=color, label=iris.target_names[i], edgecolors='black')\n",
    "\n",
    "plt.tight_layout()\n",
    "plt.show()"
   ],
   "id": "d63363086737ee2c",
   "outputs": [
    {
     "name": "stdout",
     "output_type": "stream",
     "text": [
      "最终验证损失: 0.1401\n"
     ]
    },
    {
     "data": {
      "text/plain": [
       "<Figure size 1200x400 with 2 Axes>"
      ],
      "image/png": "[encoded data removed]"
     },
     "metadata": {},
     "output_type": "display_data"
    }
   ],
   "execution_count": 84
  },
  {
   "metadata": {},
   "cell_type": "code",
   "outputs": [],
   "execution_count": null,
   "source": "",
   "id": "e198941e0de480bb"
  }
 ],
 "metadata": {
  "kernelspec": {
   "display_name": "Python 3",
   "language": "python",
   "name": "python3"
  },
  "language_info": {
   "codemirror_mode": {
    "name": "ipython",
    "version": 2
   },
   "file_extension": ".py",
   "mimetype": "text/x-python",
   "name": "python",
   "nbconvert_exporter": "python",
   "pygments_lexer": "ipython2",
   "version": "2.7.6"
  }
 },
 "nbformat": 4,
 "nbformat_minor": 5
}
