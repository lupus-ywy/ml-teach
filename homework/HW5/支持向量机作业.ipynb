{
 "cells": [
  {
   "metadata": {},
   "cell_type": "markdown",
   "source": [
    "## 问答题\n",
    "1. 支持向量机的基本思想是什么？\n",
    "\n",
    "在类之间拟合可能的最宽的街道\n",
    "\n",
    "2. 什么是支持向量？\n",
    "\n",
    "SVM训练后，在“街道以外”的地方增加更多的训练实例根本不会对决策边界产生影响，也就是说，它完全由位于街道边缘的实例所决定（或者“支持”）。这些实例被称为支持向量\n",
    "\n",
    "3. 在使用 SVM 时，缩放输入值为什么很重要？\n",
    "\n",
    "SVM的拟合类别之间可能的、最宽的街道，所以如果训练集不经缩放，SVM将趋于忽略值较小的特征\n",
    "\n",
    "4. SVM 分类器在对实例进行分类时能输出置信度分数吗？概率呢？\n",
    "\n",
    "SVM分类器可以输出测试实例与决策边界之间的距离，可以将其用作信心分数。如果创建SVM时，设置probability=True，可以得到概率值\n",
    "\n",
    "5. 你如何在 LinearSVC、SVC 和 SGDClassifier 之间进行选择？\n",
    "\n",
    "如果数据可分，可以用LinearSVC，如果数据不可分，可以用SVC，如果数据量非常大，可以用SGDClassifier，如果想输出概率值，应该使用SVC\n",
    "\n",
    "6. 假设你已经使用 RBF 核训练了一个 SVM 分类器，但它似乎欠拟合训练集。\n",
    "   你应该增大还是减小 γ（gamma）？C 呢？\n",
    "\n",
    "增大gamma或C来降低正则化\n",
    "\n",
    "7. ε 不敏感模型是什么意思？\n",
    "\n",
    "如果在间隔区域内添加更多的训练实例，它不会影响模型的预测。因此，该模型被称为∈不敏感。\n",
    "\n",
    "8. 使用核技巧有什么意义？\n",
    "\n",
    "使用核技巧，特征数量不会出现组合爆炸式增长"
   ],
   "id": "a0b8b340a137572d"
  },
  {
   "metadata": {},
   "cell_type": "markdown",
   "source": [
    "## 编程题\n",
    "1. 在葡萄酒数据集上训练SVM分类器，可以使用sklearn.datasets.load_wine()加载它。该数据集包含3个不同种植者生产的178个葡萄酒样本的化学分析：目标是训练一个分类模型，该模型能够根据葡萄酒的化学分析预测种植者。由于SVM分类器是二元分类器，将需要使用“一对全部”对所有三个类进行分类。能达到的精度是多少？\n",
    "\n",
    "   \"一对全部\"可以复习 **8_sklearn做分类.ipynb**里的笔记，里面提到了用二元分类器做多分类问题\n",
    "\n",
    "---\n",
    "\n",
    "2. 提前预习 **10_支持向量机.ipynb** 最新更新的笔记 （把SVM分类用梯度下降实现）； 大概理解笔记后，尝试自己对照笔记 实现用梯度下降实现SVM分类\n",
    "\n",
    "   并把自定义的SVM分类用于 iris data(鸢尾花数据)； 取花瓣长度 和 花瓣宽度特征， 分类 看是不是 分类2的花 （(iris.target == 2)\n",
    "\n",
    "   对比下sklearn自带的SVM分类 和 自定义SVM分类 实现的分类效果\n",
    "\n"
   ],
   "id": "f5a1dfdea31badc1"
  },
  {
   "metadata": {
    "ExecuteTime": {
     "end_time": "2025-08-10T09:47:44.569687Z",
     "start_time": "2025-08-10T09:47:44.562211Z"
    }
   },
   "cell_type": "code",
   "source": [
    "from sklearn.datasets import load_wine\n",
    "import numpy as np\n",
    "\n",
    "wine = load_wine(as_frame=True)"
   ],
   "id": "44d0554ed61dc89e",
   "outputs": [],
   "execution_count": 20
  },
  {
   "metadata": {
    "ExecuteTime": {
     "end_time": "2025-08-10T09:47:45.524944Z",
     "start_time": "2025-08-10T09:47:45.522410Z"
    }
   },
   "cell_type": "code",
   "source": [
    "X = wine.data\n",
    "y = wine.target"
   ],
   "id": "4ca4ef6a88beabf4",
   "outputs": [],
   "execution_count": 21
  },
  {
   "metadata": {
    "ExecuteTime": {
     "end_time": "2025-08-10T09:47:45.694303Z",
     "start_time": "2025-08-10T09:47:45.690076Z"
    }
   },
   "cell_type": "code",
   "source": [
    "from sklearn.model_selection import train_test_split\n",
    "X_train, X_test, y_train, y_test = train_test_split(X, y, test_size=0.2, random_state=42)"
   ],
   "id": "822805db16090b17",
   "outputs": [],
   "execution_count": 22
  },
  {
   "metadata": {
    "ExecuteTime": {
     "end_time": "2025-08-10T09:47:45.865486Z",
     "start_time": "2025-08-10T09:47:45.859394Z"
    }
   },
   "cell_type": "code",
   "source": [
    "from sklearn.pipeline import make_pipeline\n",
    "from sklearn.preprocessing import StandardScaler\n",
    "from sklearn.svm import SVC\n",
    "\n",
    "svm_clf = make_pipeline(StandardScaler(), SVC(kernel='rbf', random_state=42))\n",
    "svm_clf.fit(X_train, y_train)\n",
    "y_pred = svm_clf.predict(X_test)"
   ],
   "id": "229614a2bf620f76",
   "outputs": [],
   "execution_count": 23
  },
  {
   "metadata": {
    "ExecuteTime": {
     "end_time": "2025-08-10T09:47:37.367801Z",
     "start_time": "2025-08-10T09:47:37.363061Z"
    }
   },
   "cell_type": "code",
   "source": [
    "from sklearn.metrics import accuracy_score\n",
    "\n",
    "accuracy = accuracy_score(y_test, y_pred)\n",
    "accuracy"
   ],
   "id": "4210292c3c2ffc48",
   "outputs": [
    {
     "data": {
      "text/plain": [
       "1.0"
      ]
     },
     "execution_count": 19,
     "metadata": {},
     "output_type": "execute_result"
    }
   ],
   "execution_count": 19
  },
  {
   "metadata": {},
   "cell_type": "code",
   "outputs": [],
   "execution_count": null,
   "source": "",
   "id": "378426093e38e177"
  },
  {
   "metadata": {
    "ExecuteTime": {
     "end_time": "2025-08-10T14:06:12.865304Z",
     "start_time": "2025-08-10T14:06:12.858814Z"
    }
   },
   "cell_type": "code",
   "source": [
    "from sklearn.base import BaseEstimator\n",
    "\n",
    "class MyLinearSVC(BaseEstimator):\n",
    "    def __init__(self, C, eta0, n_epochs, random_state=None):\n",
    "        self.C = C\n",
    "        self.eta0 = eta0\n",
    "        self.n_epochs = n_epochs\n",
    "        self.random_state = random_state\n",
    "        self._alpha = 1 / (2 * C)\n",
    "        \n",
    "    def eta(self):\n",
    "        return self.eta0\n",
    "    \n",
    "    def fit(self, X, y):\n",
    "        if self.random_state:\n",
    "            np.random.seed(self.random_state)\n",
    "        w = np.random.randn(X.shape[1], 1)\n",
    "        b = 0\n",
    "        t = np.array(y, dtype=np.float64).reshape(-1, 1) * 2 - 1\n",
    "        m = X.shape[0]\n",
    "        self.Js = []\n",
    "        \n",
    "        for epoch in range(self.n_epochs):\n",
    "            support_vectors_idx = ((X@w + b)*t < 1).ravel()\n",
    "            X_sv = X[support_vectors_idx]\n",
    "            t_sv = t[support_vectors_idx]\n",
    "\n",
    "            J = (np.sum(w * w) * self._alpha +  np.sum(1- t_sv * (X_sv@w + b))) / m\n",
    "            self.Js.append(J)\n",
    "\n",
    "            w_gradient_vector = (2*self._alpha*w  - X_sv.T @ t_sv) / m\n",
    "            b_derivative = - np.sum(t_sv) / m\n",
    "\n",
    "            w = w - self.eta() * w_gradient_vector\n",
    "            b = b - self.eta() * b_derivative\n",
    "            \n",
    "        self.intercept_ = b\n",
    "        self.coef_ = w\n",
    "        support_vectors_idx = ((X@w + b)*t < 1).ravel()\n",
    "        self.support_vectors_ = X[support_vectors_idx]\n",
    "        return self\n",
    "    \n",
    "    def decision_function(self, X):\n",
    "        return X.dot(self.coef_) + self.intercept_\n",
    "    \n",
    "    def predict(self, X):\n",
    "        return self.decision_function(X) >= 0"
   ],
   "id": "95f696c57f9acbdc",
   "outputs": [],
   "execution_count": 26
  },
  {
   "metadata": {
    "ExecuteTime": {
     "end_time": "2025-08-10T14:06:13.958089Z",
     "start_time": "2025-08-10T14:06:13.913797Z"
    }
   },
   "cell_type": "code",
   "source": [
    "from sklearn.datasets import load_iris\n",
    "\n",
    "iris = load_iris()\n",
    "X = iris.data[:, [2, 3]] \n",
    "y = iris.target == 2\n",
    "\n",
    "X_test, X_train, y_test, y_train = train_test_split(X, y, test_size=0.2, random_state=42)\n",
    "\n",
    "my_svm = make_pipeline(StandardScaler(), MyLinearSVC(C=1, eta0=0.1, n_epochs=1000, random_state=42))\n",
    "my_svm.fit(X_train, y_train)\n",
    "y_pred = my_svm.predict(X_test)\n",
    "accuracy = accuracy_score(y_test, y_pred)\n",
    "\n",
    "sklearn_svm = make_pipeline(StandardScaler(), SVC(kernel='linear', C=1, random_state=42))\n",
    "sklearn_svm.fit(X_train, y_train)\n",
    "y_pred = sklearn_svm.predict(X_test)\n",
    "sklearn_accuracy = accuracy_score(y_test, y_pred)\n",
    "\n",
    "accuracy, sklearn_accuracy"
   ],
   "id": "6b7115a2db62f506",
   "outputs": [
    {
     "data": {
      "text/plain": [
       "(0.9416666666666667, 0.9416666666666667)"
      ]
     },
     "execution_count": 27,
     "metadata": {},
     "output_type": "execute_result"
    }
   ],
   "execution_count": 27
  },
  {
   "metadata": {},
   "cell_type": "code",
   "outputs": [],
   "execution_count": null,
   "source": "",
   "id": "ab59412003149f85"
  }
 ],
 "metadata": {
  "kernelspec": {
   "display_name": "Python 3",
   "language": "python",
   "name": "python3"
  },
  "language_info": {
   "codemirror_mode": {
    "name": "ipython",
    "version": 2
   },
   "file_extension": ".py",
   "mimetype": "text/x-python",
   "name": "python",
   "nbconvert_exporter": "python",
   "pygments_lexer": "ipython2",
   "version": "2.7.6"
  }
 },
 "nbformat": 4,
 "nbformat_minor": 5
}
