{
 "cells": [
  {
   "metadata": {},
   "cell_type": "markdown",
   "source": [
    "## 回归模型\n",
    "![线性回归示意图](./images/监督学习-回归-1.png)\n",
    "- 回归模型预测数值，线性回归是回归模型的一种\n",
    "\n",
    "| 特征   | 标签  |\n",
    "|------|-----|\n",
    "| 2104 | 400 |\n",
    "| 1416 | 232 |\n",
    "| 1534 | 315 |\n",
    "| ...  | ... |\n",
    "| 3210 | 870 |"
   ],
   "id": "8b2dc73316fc21e7"
  },
  {
   "metadata": {},
   "cell_type": "markdown",
   "source": [
    "### 机器学习术语\n",
    "- 训练集（training set): 用来训练模型的数据\n",
    "- x：特征（feature）/输入变量\n",
    "- y：输出变量/目标变量\n",
    "- m：训练集的数量\n",
    "- (x,y): 单个训练数据\n",
    "- $x^{(i)}$, $y^{(i)}$： 第i个训练数据"
   ],
   "id": "af0a81bb4f1e145d"
  },
  {
   "metadata": {},
   "cell_type": "markdown",
   "source": [
    "监督学习：\n",
    "\n",
    "训练集 -- 学习算法 -- 得到一个 f（数学模型， 函数）\n",
    "\n",
    "x（特征）-- f（模型，函数） -- 预测（预测的y）\n",
    "\n",
    "问题：这个f怎么表示？\n",
    "\n",
    "f(x) = wx + b,  这是一个最简单的回归模型：线性回归。 但它可以作为其他回归模型的理解基础\n",
    "在示例的数据中，它是单变量的线性回归，特征只有一个变量"
   ],
   "id": "9bdb6d25449414"
  },
  {
   "metadata": {
    "ExecuteTime": {
     "end_time": "2025-07-10T03:41:01.608922Z",
     "start_time": "2025-07-10T03:40:59.908606Z"
    }
   },
   "cell_type": "code",
   "source": [
    "import numpy as np\n",
    "import matplotlib.pyplot as plt"
   ],
   "id": "d694cedea6905a77",
   "outputs": [],
   "execution_count": 1
  },
  {
   "metadata": {
    "ExecuteTime": {
     "end_time": "2025-07-10T03:41:17.223969Z",
     "start_time": "2025-07-10T03:41:17.118253Z"
    }
   },
   "cell_type": "code",
   "source": [
    "# x_train 输入变量\n",
    "# y_train 目标变量\n",
    "x_train = np.array([1.0, 2.0])\n",
    "y_train = np.array([300.0, 500.0])\n",
    "print(f\"x_train = {x_train}\")\n",
    "print(f\"y_train = {y_train}\")"
   ],
   "id": "874c8f3a48f96259",
   "outputs": [
    {
     "name": "stdout",
     "output_type": "stream",
     "text": [
      "x_train = [1. 2.]\n",
      "y_train = [300. 500.]\n"
     ]
    }
   ],
   "execution_count": 2
  },
  {
   "metadata": {
    "ExecuteTime": {
     "end_time": "2025-07-10T03:42:09.125842Z",
     "start_time": "2025-07-10T03:42:09.116574Z"
    }
   },
   "cell_type": "code",
   "source": [
    "# 使用m 表示训练数据的数量\n",
    "print(f\"x_train.shape: {x_train.shape}\")\n",
    "m = x_train.shape[0]\n",
    "# m = len(x_train)\n",
    "print(f\"训练数据的数量: {m}\")"
   ],
   "id": "40fa0ceb30ea512e",
   "outputs": [
    {
     "name": "stdout",
     "output_type": "stream",
     "text": [
      "x_train.shape: (2,)\n",
      "训练数据的数量: 2\n"
     ]
    }
   ],
   "execution_count": 4
  },
  {
   "metadata": {
    "ExecuteTime": {
     "end_time": "2025-07-10T03:43:35.992785Z",
     "start_time": "2025-07-10T03:43:35.834642Z"
    }
   },
   "cell_type": "code",
   "source": [
    "# 画数据的散点图\n",
    "# Plot the data points\n",
    "plt.scatter(x_train, y_train, marker='x', c='r')\n",
    "# Set the title\n",
    "plt.title(\"Data may be anything\")\n",
    "# Set the y-axis label\n",
    "plt.ylabel('Income ')\n",
    "# Set the x-axis label\n",
    "plt.xlabel('level ')\n",
    "plt.show()"
   ],
   "id": "c74de22326fcf719",
   "outputs": [
    {
     "data": {
      "text/plain": [
       "<Figure size 640x480 with 1 Axes>"
      ],
      "image/png": "[encoded data removed]"
     },
     "metadata": {},
     "output_type": "display_data"
    }
   ],
   "execution_count": 6
  },
  {
   "metadata": {
    "ExecuteTime": {
     "end_time": "2025-07-10T03:57:11.572177Z",
     "start_time": "2025-07-10T03:57:11.561207Z"
    }
   },
   "cell_type": "code",
   "source": [
    "# 用直线（线性模型）去匹配训练数据，定义线性模型本身的参数 w，b （f(x)=wx+b)\n",
    "w = 200\n",
    "b = 100\n",
    "print(f\"w: {w}\")\n",
    "print(f\"b: {b}\")"
   ],
   "id": "797d3f1223d4cbb",
   "outputs": [
    {
     "name": "stdout",
     "output_type": "stream",
     "text": [
      "w: 200\n",
      "b: 100\n"
     ]
    }
   ],
   "execution_count": 14
  },
  {
   "metadata": {},
   "cell_type": "code",
   "outputs": [],
   "execution_count": null,
   "source": [
    "# 可以对每个训练数据的输入变量，计算 f 预测的输出\n",
    "def compute_model_output(x, w, b):\n",
    "    \"\"\"\n",
    "    计算线性模型的预测\n",
    "    Args:\n",
    "      x (ndarray (m,)): Data, m 个训练数据的输入变量\n",
    "      w,b (scalar)    : 模型参数\n",
    "    Returns\n",
    "      f_wb (ndarray (m,)): 模型对输入的预测\n",
    "    \"\"\"\n",
    "    return w*x + b\n"
   ],
   "id": "859d25921a7eb5f3"
  },
  {
   "metadata": {
    "ExecuteTime": {
     "end_time": "2025-07-10T03:57:14.574089Z",
     "start_time": "2025-07-10T03:57:14.409563Z"
    }
   },
   "cell_type": "code",
   "source": [
    "# 调用compute_model_output, 画出输出\n",
    "\n",
    "tmp_f_wb = compute_model_output(x_train, w, b)\n",
    "tmp_f_wb\n",
    "# 画预测的线\n",
    "plt.plot(x_train, tmp_f_wb, c='b',label='Our Prediction')\n",
    "#\n",
    "# 画训练数据\n",
    "plt.scatter(x_train, y_train, marker='x', c='r',label='Actual Values')\n",
    "#\n",
    "# 设置标题\n",
    "plt.title(\"Data may be anything\")\n",
    "#\n",
    "# 设置y轴标签\n",
    "plt.ylabel('Income ')\n",
    "#\n",
    "# 设置x轴标签\n",
    "plt.xlabel('Level ')\n",
    "plt.legend()  # 显示图例\n",
    "plt.show()"
   ],
   "id": "1d2c146dbf42e872",
   "outputs": [
    {
     "data": {
      "text/plain": [
       "<Figure size 640x480 with 1 Axes>"
      ],
      "image/png": "[encoded data removed]"
     },
     "metadata": {},
     "output_type": "display_data"
    }
   ],
   "execution_count": 15
  },
  {
   "metadata": {},
   "cell_type": "code",
   "outputs": [],
   "execution_count": null,
   "source": [
    "# 随堂练习：\n",
    "# 尝试去为线性模型设置不同w和b， w，b是多少的时候可以最好地拟合训练数据\n"
   ],
   "id": "25a141bcc04abcf9"
  },
  {
   "metadata": {
    "ExecuteTime": {
     "end_time": "2025-07-10T03:58:27.295567Z",
     "start_time": "2025-07-10T03:58:27.280581Z"
    }
   },
   "cell_type": "code",
   "source": [
    "# 预测：现在有了具体的模型（得出了模型的参数，在线性模型里是w和b），可以拿它用来预测没有见过的输入\n",
    "x_new = 1.2\n",
    "income_pred = w * x_new + b\n",
    "print(f\"对x=1.2预测的数据: {income_pred:.2f}\")"
   ],
   "id": "720dc0572051fdff",
   "outputs": [
    {
     "name": "stdout",
     "output_type": "stream",
     "text": [
      "对x=1.2预测的数据: 340.00\n"
     ]
    }
   ],
   "execution_count": 16
  },
  {
   "metadata": {},
   "cell_type": "markdown",
   "source": [
    "### 损失函数\n",
    "![单个损失](./images/监督学习-回归-2.png)\n",
    "- 衡量模型的表现，损失函数的值越小说明模型表现越好\n",
    "- 最小化损失函数的值也被称作训练目标\n",
    "- f(x) = wx+b, x是固定的，由输入的数据决定，w和b是可以调整的，w，b也被称作模型的权重\n",
    "- 训练数据的实际的y和f(x)预测的y有差距，因此可以将把每个训练数据的误差都考虑到，定义如下损失函数：均方误差损失（MSE）：\n",
    "<!-- 预测值定义 -->\n",
    "$$\n",
    "\\hat y^{(i)} \\;=\\; w^{\\top}x^{(i)} + b\n",
    "$$\n",
    "\n",
    "<!-- 损失函数 -->\n",
    "$$\n",
    "J(w,b) \\;=\\; \\frac{1}{2m}\\sum_{i=1}^{m}\\!\\bigl(\\,\\hat y^{(i)} - y^{(i)}\\bigr)^2\n",
    "$$\n",
    "- 1/2m为了让这个损失值不会因为训练集变大，使误差变得很大；也为了后续计算方便\n",
    "- 注意：不同的w，b决定了不同的直线模型，不同的直线模型在训练数据上有不同的损失 -> J(w,b)是关于w，b的函数！w，b是自变量。\n",
    "- 找到w，b使得J(w,b)最小化，这样的w，b也能最贴合训练数据，只要J(w,b)的定义合理\n",
    "\n",
    "总结： 模型训练的四要素\n",
    "- 模型的假设： 对模型数学公式的假设，直线模型\n",
    "- 参数：数学公式自己的参数，wx+b， 参数 w和b\n",
    "- 损失函数: 关于参数的函数，输入：模型的参数 返回的数字\n",
    "- 目标： 找到w和b，可以最小化损失函数"
   ],
   "id": "a9b0998132ebeeda"
  },
  {
   "metadata": {},
   "cell_type": "markdown",
   "source": "![损失函数图像](./images/监督学习-回归-3.png)",
   "id": "1792a9126448d0c0"
  },
  {
   "metadata": {},
   "cell_type": "markdown",
   "source": [
    "### 达到目标/最小化损失函数的方式 -- 梯度下降\n",
    "- 一个函数关于每个变量的偏导数，每个变量的偏导数组织在一起是一个向量，这个向量的方向是函数增长最快的方向\n",
    "- 每个具体w，b计算梯度,得到具体的向量，当前w，b验证梯度相反的方向走\n",
    "\n"
   ],
   "id": "983f5d44f0c8ef5"
  },
  {
   "metadata": {},
   "cell_type": "code",
   "outputs": [],
   "execution_count": null,
   "source": "",
   "id": "a63669b4c141580f"
  }
 ],
 "metadata": {
  "kernelspec": {
   "display_name": "Python 3",
   "language": "python",
   "name": "python3"
  },
  "language_info": {
   "codemirror_mode": {
    "name": "ipython",
    "version": 2
   },
   "file_extension": ".py",
   "mimetype": "text/x-python",
   "name": "python",
   "nbconvert_exporter": "python",
   "pygments_lexer": "ipython2",
   "version": "2.7.6"
  }
 },
 "nbformat": 4,
 "nbformat_minor": 5
}
