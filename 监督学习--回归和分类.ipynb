{
 "cells": [
  {
   "metadata": {},
   "cell_type": "markdown",
   "source": [
    "## 回归模型\n",
    "![线性回归示意图](./images/监督学习-回归-1.png)\n",
    "- 回归模型预测数值，线性回归是回归模型的一种\n",
    "\n",
    "| 特征   | 标签  |\n",
    "|------|-----|\n",
    "| 2104 | 400 |\n",
    "| 1416 | 232 |\n",
    "| 1534 | 315 |\n",
    "| ...  | ... |\n",
    "| 3210 | 870 |"
   ],
   "id": "8b2dc73316fc21e7"
  },
  {
   "metadata": {},
   "cell_type": "markdown",
   "source": [
    "### 机器学习术语\n",
    "- 训练集（training set): 用来训练模型的数据\n",
    "- x：特征（feature）/输入变量\n",
    "- y：输出变量/目标变量\n",
    "- m：训练集的数量\n",
    "- (x,y): 单个训练数据\n",
    "- $x^{(i)}$, $y^{(i)}$： 第i个训练数据"
   ],
   "id": "af0a81bb4f1e145d"
  },
  {
   "metadata": {},
   "cell_type": "markdown",
   "source": [
    "监督学习：\n",
    "\n",
    "训练集 -- 学习算法 -- 得到一个 f（数学模型， 函数）\n",
    "\n",
    "x（特征）-- f（模型，函数） -- 预测（预测的y）\n",
    "\n",
    "问题：这个f怎么表示？\n",
    "\n",
    "f(x) = wx + b,  这是一个最简单的回归模型：线性回归。 但它可以作为其他回归模型的理解基础\n",
    "在示例的数据中，它是单变量的线性回归，特征只有一个变量"
   ],
   "id": "9bdb6d25449414"
  },
  {
   "metadata": {
    "ExecuteTime": {
     "end_time": "2025-07-10T03:41:01.608922Z",
     "start_time": "2025-07-10T03:40:59.908606Z"
    }
   },
   "cell_type": "code",
   "source": [
    "import numpy as np\n",
    "import matplotlib.pyplot as plt"
   ],
   "id": "d694cedea6905a77",
   "outputs": [],
   "execution_count": 1
  },
  {
   "metadata": {
    "ExecuteTime": {
     "end_time": "2025-07-10T03:41:17.223969Z",
     "start_time": "2025-07-10T03:41:17.118253Z"
    }
   },
   "cell_type": "code",
   "source": [
    "# x_train 输入变量\n",
    "# y_train 目标变量\n",
    "x_train = np.array([1.0, 2.0])\n",
    "y_train = np.array([300.0, 500.0])\n",
    "print(f\"x_train = {x_train}\")\n",
    "print(f\"y_train = {y_train}\")"
   ],
   "id": "874c8f3a48f96259",
   "outputs": [
    {
     "name": "stdout",
     "output_type": "stream",
     "text": [
      "x_train = [1. 2.]\n",
      "y_train = [300. 500.]\n"
     ]
    }
   ],
   "execution_count": 2
  },
  {
   "metadata": {
    "ExecuteTime": {
     "end_time": "2025-07-10T03:42:09.125842Z",
     "start_time": "2025-07-10T03:42:09.116574Z"
    }
   },
   "cell_type": "code",
   "source": [
    "# 使用m 表示训练数据的数量\n",
    "print(f\"x_train.shape: {x_train.shape}\")\n",
    "m = x_train.shape[0]\n",
    "# m = len(x_train)\n",
    "print(f\"训练数据的数量: {m}\")"
   ],
   "id": "40fa0ceb30ea512e",
   "outputs": [
    {
     "name": "stdout",
     "output_type": "stream",
     "text": [
      "x_train.shape: (2,)\n",
      "训练数据的数量: 2\n"
     ]
    }
   ],
   "execution_count": 4
  },
  {
   "metadata": {
    "ExecuteTime": {
     "end_time": "2025-07-10T03:43:35.992785Z",
     "start_time": "2025-07-10T03:43:35.834642Z"
    }
   },
   "cell_type": "code",
   "source": [
    "# 画数据的散点图\n",
    "# Plot the data points\n",
    "plt.scatter(x_train, y_train, marker='x', c='r')\n",
    "# Set the title\n",
    "plt.title(\"Data may be anything\")\n",
    "# Set the y-axis label\n",
    "plt.ylabel('Income ')\n",
    "# Set the x-axis label\n",
    "plt.xlabel('level ')\n",
    "plt.show()"
   ],
   "id": "c74de22326fcf719",
   "outputs": [
    {
     "data": {
      "text/plain": [
       "<Figure size 640x480 with 1 Axes>"
      ],
      "image/png": "[encoded data removed]"
     },
     "metadata": {},
     "output_type": "display_data"
    }
   ],
   "execution_count": 6
  },
  {
   "metadata": {
    "ExecuteTime": {
     "end_time": "2025-07-10T03:57:11.572177Z",
     "start_time": "2025-07-10T03:57:11.561207Z"
    }
   },
   "cell_type": "code",
   "source": [
    "# 用直线（线性模型）去匹配训练数据，定义线性模型本身的参数 w，b （f(x)=wx+b)\n",
    "w = 200\n",
    "b = 100\n",
    "print(f\"w: {w}\")\n",
    "print(f\"b: {b}\")"
   ],
   "id": "797d3f1223d4cbb",
   "outputs": [
    {
     "name": "stdout",
     "output_type": "stream",
     "text": [
      "w: 200\n",
      "b: 100\n"
     ]
    }
   ],
   "execution_count": 14
  },
  {
   "metadata": {},
   "cell_type": "code",
   "outputs": [],
   "execution_count": null,
   "source": [
    "# 可以对每个训练数据的输入变量，计算 f 预测的输出\n",
    "def compute_model_output(x, w, b):\n",
    "    \"\"\"\n",
    "    计算线性模型的预测\n",
    "    Args:\n",
    "      x (ndarray (m,)): Data, m 个训练数据的输入变量\n",
    "      w,b (scalar)    : 模型参数\n",
    "    Returns\n",
    "      f_wb (ndarray (m,)): 模型对输入的预测\n",
    "    \"\"\"\n",
    "    return w*x + b\n"
   ],
   "id": "859d25921a7eb5f3"
  },
  {
   "metadata": {
    "ExecuteTime": {
     "end_time": "2025-07-10T03:57:14.574089Z",
     "start_time": "2025-07-10T03:57:14.409563Z"
    }
   },
   "cell_type": "code",
   "source": [
    "# 调用compute_model_output, 画出输出\n",
    "\n",
    "tmp_f_wb = compute_model_output(x_train, w, b)\n",
    "tmp_f_wb\n",
    "# 画预测的线\n",
    "plt.plot(x_train, tmp_f_wb, c='b',label='Our Prediction')\n",
    "#\n",
    "# 画训练数据\n",
    "plt.scatter(x_train, y_train, marker='x', c='r',label='Actual Values')\n",
    "#\n",
    "# 设置标题\n",
    "plt.title(\"Data may be anything\")\n",
    "#\n",
    "# 设置y轴标签\n",
    "plt.ylabel('Income ')\n",
    "#\n",
    "# 设置x轴标签\n",
    "plt.xlabel('Level ')\n",
    "plt.legend()  # 显示图例\n",
    "plt.show()"
   ],
   "id": "1d2c146dbf42e872",
   "outputs": [
    {
     "data": {
      "text/plain": [
       "<Figure size 640x480 with 1 Axes>"
      ],
      "image/png": "[encoded data removed]"
     },
     "metadata": {},
     "output_type": "display_data"
    }
   ],
   "execution_count": 15
  },
  {
   "metadata": {},
   "cell_type": "code",
   "outputs": [],
   "execution_count": null,
   "source": [
    "# 随堂练习：\n",
    "# 尝试去为线性模型设置不同w和b， w，b是多少的时候可以最好地拟合训练数据\n"
   ],
   "id": "25a141bcc04abcf9"
  },
  {
   "metadata": {
    "ExecuteTime": {
     "end_time": "2025-07-10T03:58:27.295567Z",
     "start_time": "2025-07-10T03:58:27.280581Z"
    }
   },
   "cell_type": "code",
   "source": [
    "# 预测：现在有了具体的模型（得出了模型的参数，在线性模型里是w和b），可以拿它用来预测没有见过的输入\n",
    "x_new = 1.2\n",
    "income_pred = w * x_new + b\n",
    "print(f\"对x=1.2预测的数据: {income_pred:.2f}\")"
   ],
   "id": "720dc0572051fdff",
   "outputs": [
    {
     "name": "stdout",
     "output_type": "stream",
     "text": [
      "对x=1.2预测的数据: 340.00\n"
     ]
    }
   ],
   "execution_count": 16
  },
  {
   "metadata": {},
   "cell_type": "markdown",
   "source": [
    "### 损失函数\n",
    "![单个损失](./images/监督学习-回归-2.png)\n",
    "- 衡量模型的表现，损失函数的值越小说明模型表现越好\n",
    "- 最小化损失函数的值也被称作训练目标\n",
    "- f(x) = wx+b, x是固定的，由输入的数据决定，w和b是可以调整的，w，b也被称作模型的权重\n",
    "- 训练数据的实际的y和f(x)预测的y有差距，因此可以将把每个训练数据的误差都考虑到，定义如下损失函数：均方误差损失（MSE）：\n",
    "<!-- 预测值定义 -->\n",
    "$$\n",
    "\\hat y^{(i)} \\;=\\; w^{\\top}x^{(i)} + b\n",
    "$$\n",
    "\n",
    "<!-- 损失函数 -->\n",
    "$$\n",
    "J(w,b) \\;=\\; \\frac{1}{2m}\\sum_{i=1}^{m}\\!\\bigl(\\,\\hat y^{(i)} - y^{(i)}\\bigr)^2\n",
    "$$\n",
    "- 1/2m为了让这个损失值不会因为训练集变大，使误差变得很大；也为了后续计算方便\n",
    "- 注意：不同的w，b决定了不同的直线模型，不同的直线模型在训练数据上有不同的损失 -> J(w,b)是关于w，b的函数！w，b是自变量。\n",
    "- 找到w，b使得J(w,b)最小化，这样的w，b也能最贴合训练数据，只要J(w,b)的定义合理\n",
    "\n",
    "总结： 模型训练的四要素\n",
    "- 模型的假设： 对模型数学公式的假设，直线模型\n",
    "- 参数：数学公式自己的参数，wx+b， 参数 w和b\n",
    "- 损失函数: 关于参数的函数，输入：模型的参数 返回的数字\n",
    "- 目标： 找到w和b，可以最小化损失函数"
   ],
   "id": "a9b0998132ebeeda"
  },
  {
   "metadata": {},
   "cell_type": "markdown",
   "source": "![损失函数图像](./images/监督学习-回归-3.png)",
   "id": "1792a9126448d0c0"
  },
  {
   "metadata": {},
   "cell_type": "markdown",
   "source": [
    "### 达到目标/最小化损失函数的方式 -- 梯度下降\n",
    "- 一个函数关于每个变量的偏导数，每个变量的偏导数组织在一起是一个向量，这个向量的方向是函数增长最快的方向\n",
    "- 每个具体w，b计算梯度,得到具体的向量，当前w，b沿着梯度相反的方向走，可以是J(w,b)变小\n",
    "- 梯度下降算法在机器学习中很常用，不只是线性回归\n",
    "- 步骤：\n",
    "-   1. 初始化w和b  2. 不断改变w，b使得J(w,b)变小  3. 直到在最小值附近\n",
    "- 损失函数不一定只有一个最小值，可能有多个最小值, 所以不同的初始w，b可能会走向不同的最小值；但平方差之和的损失函数肯定只有一个最小值："
   ],
   "id": "983f5d44f0c8ef5"
  },
  {
   "metadata": {},
   "cell_type": "markdown",
   "source": "![多个最小值的损失函数](./images/监督学习-回归4.png)",
   "id": "3c02ee5b6d922e25"
  },
  {
   "metadata": {},
   "cell_type": "markdown",
   "source": [
    "### 梯度下降：同步更新 vs. 不同步更新\n",
    "\n",
    "| 步骤           | **同步更新（Simultaneous / Synchronous）**<br>——最常用，保证同一轮梯度基于“旧参数” | **不同步更新（Sequential / Asynchronous）**<br>——概念说明用，实际较少单独使用                                                             |\n",
    "|--------------|------------------------------------------------|----------------------------------------------------------------------------------------------------------------------|\n",
    "| **1 计算梯度**   | \\\\(g_w = \\frac{\\partial J}{\\partial w}(w,b),\\; g_b = \\frac{\\partial J}{\\partial b}(w,b)\\\\) | **先算 \\\\(w\\\\) 梯度**<br>\\\\(g_w = \\frac{\\partial J}{\\partial w}(w,b)\\\\)                                                  |\n",
    "| **2 生成暂存变量** | \\\\(\\tilde w = w - \\alpha g_w\\\\)<br>\\\\(\\tilde b = b - \\alpha g_b\\\\) | （无暂存，直接改）<br>\\\\(w \\leftarrow w - \\alpha g_w\\\\)                                                                       |\n",
    "| **3 赋值**     | \\\\(w \\leftarrow \\tilde w\\\\)<br>\\\\(b \\leftarrow \\tilde b\\\\)<br>**同时生效** | **再用已更新的 \\\\(w\\\\)** 重新计算<br>\\\\(g_b = \\frac{\\partial J}{\\partial b}(w,b)\\\\)<br>然后<br>\\\\(b \\leftarrow b - \\alpha g_b\\\\) |\n",
    "| **4 迭代下一轮**  | 全部参数都基于**上一轮旧值**算梯度，收敛更平稳 | 后计算的参数用到了**前面已更新的新值**；和同步更新的性质不一样                                                                                    |\n",
    "\n",
    "---\n",
    "\n",
    "- 同步更新公式（常用写法）：\n",
    "\\begin{aligned}\n",
    "g_w &= \\frac{1}{m}\\sum_{i=1}^{m}(\\hat y^{(i)}-y^{(i)})\\,x^{(i)},\\\\[4pt]\n",
    "g_b &= \\frac{1}{m}\\sum_{i=1}^{m}(\\hat y^{(i)}-y^{(i)}),\\\\[8pt]\n",
    "w &\\leftarrow w - \\alpha\\,g_w,\\\\\n",
    "b &\\leftarrow b - \\alpha\\,g_b.\n",
    "\\end{aligned}\n",
    "\n",
    "- 不同步更新示例：\n",
    "\\begin{aligned}\n",
    "w &\\leftarrow w - \\alpha\\,\\frac{\\partial J}{\\partial w}(w,b)\\\\[6pt]\n",
    "b &\\leftarrow b - \\alpha\\,\\frac{\\partial J}{\\partial b}\\bigl(\\underbrace{w}_{\\text{已更新}},\\,b\\bigr).\n",
    "\\end{aligned}"
   ],
   "id": "49b941070b32e7c5"
  },
  {
   "metadata": {},
   "cell_type": "markdown",
   "source": [
    "- 梯度下降直觉：\n",
    "1. 可以把参数b去掉，J(w)是一个变量的函数，J(w)在某个w0的导数是正数，说明w0应该往左，J(w)会变低；导数是负数，说明w0应该往右，J(w)会变低，所以即使单个变量的函数，把导数的正负看成方向，导数的方向也是函数增长的最快方向。\n",
    "2. 所以参数的更新公式是 w = w - learning_rate(学习率) * (dJ/dw), dJ/dw是损失函数的导数； 才可能保证J(w)变低"
   ],
   "id": "b7b802e09dd28995"
  },
  {
   "metadata": {},
   "cell_type": "markdown",
   "source": [
    "### 学习率α\n",
    "- 如果学习率太小，梯度下降可以正常进行，但会很慢\n",
    "\n",
    "![学习率小](./images/监督学习-回归5.png)\n",
    "\n",
    "- 如果学习率太大：\n",
    "    1. 更新可能会一直跨过达到最小值的参数，一直到不了最小值\n",
    "    2. 损失函数值可能不会收敛到一个值，会发散。\n",
    "\n",
    "![学习率大](./images/监督学习-回归6.png)\n",
    "\n",
    "- 如果初始化的参数正好落在了局部最小值，梯度下降不会更新参数\n",
    "- 如果学习率正合适，每次用梯度下降更新参数，不需要改变学习率，固定学习率也可以使得J(w,b)到达局部最小值\n",
    "    1. 在局部最小值附近，导数变小了，每次更新的幅度自动变小了\n",
    "    2. 所以不需要降低学习率去到达局部最小\n",
    "\n",
    "![学习率合适](./images/监督学习-回归7.png)"
   ],
   "id": "65801e80e88a98da"
  },
  {
   "metadata": {},
   "cell_type": "markdown",
   "source": [
    "### 线性回归模型的梯度下降\n",
    "- 线性回归模型：\n",
    "$$\n",
    "f(x) \\;=\\; w*x + b\n",
    "$$\n",
    "- 损失函数：\n",
    "$$\n",
    "J(w,b) \\;=\\; \\frac{1}{2m}\\sum_{i=1}^{m}\\!\\bigl(\\,f(x^{(i)}) - y^{(i)}\\bigr)^2\n",
    "$$\n",
    "- 优化（最小化）损失函数的方式：\n",
    "\\begin{aligned}\n",
    "g_w &= \\frac{1}{m}\\sum_{i=1}^{m}(f(x^{(i)})-y^{(i)})\\,x^{(i)},\\\\[4pt]\n",
    "g_b &= \\frac{1}{m}\\sum_{i=1}^{m}(f(x^{(i)})-y^{(i)}),\\\\[8pt]\n",
    "w &\\leftarrow w - \\alpha\\,g_w,\\\\\n",
    "b &\\leftarrow b - \\alpha\\,g_b.\n",
    "\\end{aligned}\n",
    "\n",
    "- 导数公式的推导过程（不理解也没关系，有最终的梯度公式就能写代码了）：\n",
    "\\begin{aligned}\n",
    "\\frac{\\partial J}{\\partial w}\n",
    "   &=\\frac{\\partial}{\\partial w}\\;\n",
    "     \\frac1{2m}\\sum_{i=1}^{m}\\Bigl(f_{w,b}\\bigl(x^{(i)}\\bigr)-y^{(i)}\\Bigr)^2 \\\\[4pt]\n",
    "   &=\\frac1{2m}\\sum_{i=1}^{m}2\\bigl(wx^{(i)}+b-y^{(i)}\\bigr)\\,x^{(i)} \\\\[4pt]\n",
    "   &=\\frac1{m}\\sum_{i=1}^{m}\\Bigl(f_{w,b}\\bigl(x^{(i)}\\bigr)-y^{(i)}\\Bigr)\\,x^{(i)}\n",
    "\\end{aligned}\n",
    "\n",
    "\\begin{aligned}\n",
    "\\frac{\\partial J}{\\partial b}\n",
    "   &=\\frac{\\partial}{\\partial b}\\;\n",
    "     \\frac1{2m}\\sum_{i=1}^{m}\\Bigl(f_{w,b}\\bigl(x^{(i)}\\bigr)-y^{(i)}\\Bigr)^2 \\\\[4pt]\n",
    "   &=\\frac1{2m}\\sum_{i=1}^{m}2\\bigl(wx^{(i)}+b-y^{(i)}\\bigr) \\\\[4pt]\n",
    "   &=\\frac1{m}\\sum_{i=1}^{m}\\Bigl(f_{w,b}\\bigl(x^{(i)}\\bigr)-y^{(i)}\\Bigr)\n",
    "\\end{aligned}\n",
    "\n",
    "- 梯度下降最终算法：\n",
    "重复执行以下逻辑，直到J的值收敛了，或者直到w和b的梯度接近于0；注意：**同时更新 \\(w\\) 和 \\(b\\)**\n",
    "\\begin{aligned}\n",
    "w &\\;\\leftarrow\\; w - \\alpha \\,\\frac{1}{m}\\sum_{i=1}^{m}\n",
    "      \\Bigl(f_{w,b}\\bigl(x^{(i)}\\bigr)-y^{(i)}\\Bigr)\\,x^{(i)},\\\\[6pt]\n",
    "b &\\;\\leftarrow\\; b - \\alpha \\,\\frac{1}{m}\\sum_{i=1}^{m}\n",
    "      \\Bigl(f_{w,b}\\bigl(x^{(i)}\\bigr)-y^{(i)}\\Bigr).\n",
    "\\end{aligned}\n",
    "\n",
    "- 线性回归的平方差之和的损失函数是凹函数（碗状函数），只有一个全局最小值，没有局部最小值\n",
    "- 这个算法梯度下降的每一步用了所有的训练数据，每一步用了所有训练数据的梯度下降也叫 批量梯度下降（Batch Gradient Descent)； 有一步梯度下降用训练数据的子集参与计算的算法\n"
   ],
   "id": "110570e0c157ec40"
  },
  {
   "metadata": {},
   "cell_type": "markdown",
   "source": "b### 线性回归梯度下降代码实验",
   "id": "9468185a8297aa61"
  },
  {
   "metadata": {
    "ExecuteTime": {
     "end_time": "2025-07-10T14:48:24.779816Z",
     "start_time": "2025-07-10T14:48:24.372319Z"
    }
   },
   "cell_type": "code",
   "source": [
    "import numpy as np\n",
    "import matplotlib.pyplot as plt"
   ],
   "id": "62a6f494002be306",
   "outputs": [],
   "execution_count": 1
  },
  {
   "metadata": {
    "ExecuteTime": {
     "end_time": "2025-07-10T14:52:55.615483Z",
     "start_time": "2025-07-10T14:52:55.552954Z"
    }
   },
   "cell_type": "code",
   "source": [
    "# TODO 1. 自定义训练集数据, 并用散点图可视化\n",
    "x_train = ...  # 输入数据\n",
    "y_train = ...  # 输入数据对应的标签\n",
    "\n",
    "# 示例图片："
   ],
   "id": "795b0757bd29b00c",
   "outputs": [
    {
     "data": {
      "text/plain": [
       "<Figure size 640x480 with 1 Axes>"
      ],
      "image/png": "[encoded data removed]"
     },
     "metadata": {},
     "output_type": "display_data"
    }
   ],
   "execution_count": 6
  },
  {
   "metadata": {
    "ExecuteTime": {
     "end_time": "2025-07-10T15:58:33.873219Z",
     "start_time": "2025-07-10T15:58:33.865511Z"
    }
   },
   "cell_type": "code",
   "source": [
    "# 2. 完成损失函数的实现\n",
    "def compute_cost(x, y, w, b):\n",
    "    \"\"\"\n",
    "    x: ndarray (m,) 训练数据的特征\n",
    "    y: ndarray (m,) 训练数据的标签\n",
    "    w: 浮点数，直线模型的参数\n",
    "    b: 浮点数，直线模型的参数\n",
    "    return: 浮点数，当前w，b下的损失值\n",
    "    \"\"\"\n",
    "    # TODO"
   ],
   "id": "67cd75c97308a81",
   "outputs": [],
   "execution_count": 27
  },
  {
   "metadata": {
    "ExecuteTime": {
     "end_time": "2025-07-10T15:58:35.658795Z",
     "start_time": "2025-07-10T15:58:35.643147Z"
    }
   },
   "cell_type": "code",
   "source": [
    "# 3. 完成计算梯度函数的实现\n",
    "def compute_gradient(x, y, w, b):\n",
    "    \"\"\"\n",
    "    计算线性回归的梯度\n",
    "    参数:\n",
    "      x (ndarray (m,)): 输入数据，m 个样本\n",
    "      y (ndarray (m,)): 目标值\n",
    "      w, b (浮点数)   : 模型参数\n",
    "    返回:\n",
    "      dj_dw (浮点数): 损失函数对参数 w 的梯度\n",
    "      dj_db (浮点数): 损失函数对参数 b 的梯度\n",
    "    \"\"\"\n",
    "    # TODO"
   ],
   "id": "8f8a6a362194d905",
   "outputs": [],
   "execution_count": 28
  },
  {
   "metadata": {},
   "cell_type": "markdown",
   "source": [
    "- 检查梯度计算实现是否正确，本质是根据导数的定义来计算：\n",
    "| 概念                          | 说明                                                                                                                                                                             |\n",
    "| --------------------------- |--------------------------------------------------------------------------------------------------------------------------------------------------------------------------------|\n",
    "| **梯度检查（Gradient Checking）** | 在机器学习中会遇到复杂的梯度公式。为了防止推导或代码实现出错，可用 **数值差分**（finite difference）近似梯度，再与解析梯度对比。若两者误差极小，就说明实现是可信的。                                                                                  |\n",
    "| **中心差分**                    | 数值梯度近似公式：<br>\\\\(\\displaystyle \\frac{\\partial J}{\\partial \\theta}\\approx\\frac{J(\\theta+\\varepsilon)-J(\\theta-\\varepsilon)}{2\\varepsilon}\\\\)；误差 \\\\(O(\\varepsilon^2)\\\\)，比单边差分更精确。 |\n",
    "| **适用场景**                    | - 调试早期代码<br>- 单元测试（确保未来改动不破坏梯度）<br>                                                                                                                        |\n",
    "| **限制**                      | 数值差分需要多次计算损失函数，**速度慢**。真实深度神经网络只在开发阶段做小批量检查。                                                                                                                  |\n",
    "\n",
    "\n",
    "- 中心差分更准确的数学扩展（了解即可）：\n",
    "\n",
    "为什么中心差分更精确？\n",
    "\n",
    "\\begin{aligned}\n",
    "J(\\theta + \\varepsilon)\n",
    "&= J(\\theta) + \\varepsilon J'(\\theta) + \\frac{\\varepsilon^{2}}{2}J''(\\theta) + \\mathcal{O}\\!\\bigl(\\varepsilon^{3}\\bigr),\\\\[6pt]\n",
    "J(\\theta - \\varepsilon)\n",
    "&= J(\\theta) - \\varepsilon J'(\\theta) + \\frac{\\varepsilon^{2}}{2}J''(\\theta) + \\mathcal{O}\\!\\bigl(\\varepsilon^{3}\\bigr).\n",
    "\\end{aligned}\n",
    "\n",
    "上述公式相减，误差只剩下极小数epsilon的立方项\n",
    "\n"
   ],
   "id": "9f7b9ffa473fad25"
  },
  {
   "metadata": {
    "ExecuteTime": {
     "end_time": "2025-07-10T15:58:38.677392Z",
     "start_time": "2025-07-10T15:58:38.661905Z"
    }
   },
   "cell_type": "code",
   "source": [
    "def gradient_check(x, y, w, b, eps=1e-7, tol=1e-4, verbose=True):\n",
    "    \"\"\"\n",
    "    使用数值差分验证 compute_gradient 是否正确\n",
    "    Args:\n",
    "        x, y : 数据集\n",
    "        w, b : 当前参数（float）\n",
    "        eps  : 微小扰动 ε，用于近似数值梯度\n",
    "        tol  : 容差阈值，|解析梯度 - 数值梯度| < tol 视为通过\n",
    "        verbose: 打印详细差异\n",
    "    Returns:\n",
    "        passed (bool) : 是否通过梯度检查\n",
    "    \"\"\"\n",
    "    # 1) 解析梯度\n",
    "    dj_dw, dj_db = compute_gradient(x, y, w, b)\n",
    "\n",
    "    # 2) 数值梯度——中心差分\n",
    "    num_dj_dw = (compute_cost(x, y, w + eps, b) -\n",
    "                 compute_cost(x, y, w - eps, b)) / (2 * eps)\n",
    "    num_dj_db = (compute_cost(x, y, w, b + eps) -\n",
    "                 compute_cost(x, y, w, b - eps)) / (2 * eps)\n",
    "\n",
    "    # 3) 误差\n",
    "    diff_w = abs(dj_dw - num_dj_dw)\n",
    "    diff_b = abs(dj_db - num_dj_db)\n",
    "    passed = diff_w < tol and diff_b < tol\n",
    "\n",
    "    if verbose:\n",
    "        print(f\"你实现的 dj_dw = {dj_dw: .6e}, 数值模拟 = {num_dj_dw: .6e}, 误差 = {diff_w: .2e}\")\n",
    "        print(f\"你实现的 dj_db = {dj_db: .6e}, 数值模拟 = {num_dj_db: .6e}, 误差 = {diff_b: .2e}\")\n",
    "        print(\"OK! Gradient check PASSED\" if passed else \"Gradient check FAILED\")\n",
    "\n",
    "    return passed\n",
    "\n",
    "test_w = 2\n",
    "test_b = 1\n",
    "assert gradient_check(x_train,y_train,test_w,test_b), \"梯度检查失败 梯度的实现有问题！！！\""
   ],
   "id": "d23aad637600db4e",
   "outputs": [
    {
     "name": "stdout",
     "output_type": "stream",
     "text": [
      "你实现的 dj_dw =  3.319238e+01, 数值模拟 =  3.319238e+01, 误差 =  1.74e-08\n",
      "你实现的 dj_db =  5.525835e+00, 数值模拟 =  5.525835e+00, 误差 =  8.63e-09\n",
      "OK! Gradient check PASSED\n"
     ]
    }
   ],
   "execution_count": 29
  },
  {
   "metadata": {},
   "cell_type": "markdown",
   "source": [
    "- 实现梯度下降算法\n",
    "\n",
    "既然梯度可以计算了，梯度下降法就可以实现了。要实现什么（Todo） 以及其他代码在做什么在注释中描述。 实现完成后，你将利用此函数在训练数据上找到 w和 b的最优值。\n"
   ],
   "id": "d0ae8a9d9974259a"
  },
  {
   "metadata": {
    "ExecuteTime": {
     "end_time": "2025-07-10T15:58:45.038193Z",
     "start_time": "2025-07-10T15:58:45.022563Z"
    }
   },
   "cell_type": "code",
   "source": [
    "import math\n",
    "def gradient_descent(x, y, w_in, b_in, alpha, num_iters,\n",
    "                     cost_function, gradient_function):\n",
    "    \"\"\"\n",
    "    执行梯度下降以拟合线性模型参数 w、b\n",
    "    将进行 num_iters 次参数更新，学习率为 alpha。\n",
    "\n",
    "    参数:\n",
    "      x (ndarray (m,))  : 输入数据，共 m 个样本\n",
    "      y (ndarray (m,))  : 目标值\n",
    "      w_in, b_in (float): 参数初始值\n",
    "      alpha (float)     : 学习率\n",
    "      num_iters (int)   : 梯度下降迭代次数\n",
    "      cost_function     : 计算成本 J 的函数\n",
    "      gradient_function : 计算梯度 (dj_dw, dj_db) 的函数\n",
    "\n",
    "    返回:\n",
    "      w (float)        : 迭代结束后的 w\n",
    "      b (float)        : 迭代结束后的 b\n",
    "      J_history (list) : 每次迭代的损失值\n",
    "      p_history (list) : 每次迭代的参数 [w, b]\n",
    "    \"\"\"\n",
    "\n",
    "    # 用于保存损失值和参数历史，便于后续绘图\n",
    "    J_history = []\n",
    "    p_history = []\n",
    "\n",
    "    w, b = w_in, b_in\n",
    "    dj_dw, dj_db = 0, 0\n",
    "\n",
    "    for i in range(num_iters):\n",
    "        # Todo：1. 利用形式参数 gradient_function 计算梯度\n",
    "\n",
    "        # Todo：2.  按梯度下降公式同步更新参数 w，b\n",
    "\n",
    "        # 保存成本与参数\n",
    "        if i < 100_000:            # 防止存储资源消耗过大\n",
    "            J_history.append(cost_function(x, y, w, b))\n",
    "            p_history.append([w, b])\n",
    "\n",
    "        # 每进行总迭代次数的 1/10（或不足 10 次时每次）打印一次训练的信息\n",
    "        if i % math.ceil(num_iters / 10) == 0:\n",
    "            print(f\"迭代 {i:4d}:  成本 {J_history[-1]:0.2e}  \"\n",
    "                  f\"dj_dw: {dj_dw: 0.3e}, dj_db: {dj_db: 0.3e}  \"\n",
    "                  f\"w: {w: 0.3e}, b: {b: 0.5e}\")\n",
    "\n",
    "    # 返回最终参数及历史记录\n",
    "    return w, b, J_history, p_history"
   ],
   "id": "45f750b89781ca85",
   "outputs": [],
   "execution_count": 30
  },
  {
   "metadata": {
    "ExecuteTime": {
     "end_time": "2025-07-10T15:58:46.681645Z",
     "start_time": "2025-07-10T15:58:46.556415Z"
    }
   },
   "cell_type": "code",
   "source": [
    "# 初始化直线的参数\n",
    "w_init = 0\n",
    "b_init = 0\n",
    "\n",
    "# 梯度下降算法 设置迭代次数 和 学习率\n",
    "iterations = 10000\n",
    "tmp_alpha = 1.0e-2\n",
    "\n",
    "# 运行梯度下降\n",
    "w_final, b_final, J_hist, p_hist = gradient_descent(x_train ,y_train, w_init, b_init, tmp_alpha,\n",
    "                                                    iterations, compute_cost, compute_gradient)\n",
    "print(f\"梯度下降找到的(w,b) : ({w_final:8.4f},{b_final:8.4f})\")"
   ],
   "id": "f45e7b42d90e1b94",
   "outputs": [
    {
     "name": "stdout",
     "output_type": "stream",
     "text": [
      "迭代    0:  成本 7.14e+00  dj_dw: -2.831e+01, dj_db: -4.474e+00  w:  2.831e-01, b:  4.47416e-02\n",
      "迭代 1000:  成本 9.72e-02  dj_dw: -3.697e-04, dj_db:  2.318e-03  w:  9.895e-01, b:  2.38730e-02\n",
      "迭代 2000:  成本 9.72e-02  dj_dw: -2.187e-05, dj_db:  1.371e-04  w:  9.907e-01, b:  1.61708e-02\n",
      "迭代 3000:  成本 9.72e-02  dj_dw: -1.294e-06, dj_db:  8.111e-06  w:  9.908e-01, b:  1.57152e-02\n",
      "迭代 4000:  成本 9.72e-02  dj_dw: -7.652e-08, dj_db:  4.798e-07  w:  9.908e-01, b:  1.56882e-02\n",
      "迭代 5000:  成本 9.72e-02  dj_dw: -4.526e-09, dj_db:  2.838e-08  w:  9.908e-01, b:  1.56866e-02\n",
      "迭代 6000:  成本 9.72e-02  dj_dw: -2.677e-10, dj_db:  1.679e-09  w:  9.908e-01, b:  1.56865e-02\n",
      "迭代 7000:  成本 9.72e-02  dj_dw: -1.584e-11, dj_db:  9.931e-11  w:  9.908e-01, b:  1.56865e-02\n",
      "迭代 8000:  成本 9.72e-02  dj_dw: -9.354e-13, dj_db:  5.875e-12  w:  9.908e-01, b:  1.56865e-02\n",
      "迭代 9000:  成本 9.72e-02  dj_dw: -5.809e-14, dj_db:  3.472e-13  w:  9.908e-01, b:  1.56865e-02\n",
      "梯度下降找到的(w,b) : (  0.9908,  0.0157)\n"
     ]
    }
   ],
   "execution_count": 31
  },
  {
   "metadata": {
    "ExecuteTime": {
     "end_time": "2025-07-10T16:03:05.873216Z",
     "start_time": "2025-07-10T16:03:05.763532Z"
    }
   },
   "cell_type": "code",
   "source": [
    "# TODO： 画 对训练数据拟合的直线 和 训练数据的散点图，画到一张图里\n",
    "\n",
    "# 示例图片："
   ],
   "id": "9372a4ab8fb27578",
   "outputs": [
    {
     "data": {
      "text/plain": [
       "<Figure size 640x480 with 1 Axes>"
      ],
      "image/png": "[encoded data removed]"
     },
     "metadata": {},
     "output_type": "display_data"
    }
   ],
   "execution_count": 33
  },
  {
   "metadata": {},
   "cell_type": "markdown",
   "source": [
    "- 损失值和梯度下降迭代次数的关系\n",
    "\n",
    "损失值与迭代次数的关系图是衡量梯度下降进展的有效指标。在成功的运行中，成本应该始终下降。由于初始成本的变化非常迅速，因此将初始下降过程与最终下降过程以不同的比例绘制是很有用的。在下图中，请注意坐标轴上的损失比例和迭代步长。"
   ],
   "id": "1f335845f7c27135"
  },
  {
   "metadata": {
    "ExecuteTime": {
     "end_time": "2025-07-10T16:09:00.862793Z",
     "start_time": "2025-07-10T16:09:00.703102Z"
    }
   },
   "cell_type": "code",
   "source": [
    "# 画损失值 和 迭代次数的关系\n",
    "fig, (ax1, ax2) = plt.subplots(1, 2, figsize=(12,4))\n",
    "ax1.plot(J_hist[:100])\n",
    "ax2.plot(1000 + np.arange(len(J_hist[1000:])), J_hist[1000:])\n",
    "ax1.set_title(\"Cost vs. iteration(start)\")\n",
    "ax2.set_title(\"Cost vs. iteration (end)\")\n",
    "ax1.set_ylabel('Cost')\n",
    "ax2.set_ylabel('Cost')\n",
    "ax1.set_xlabel('iteration step')\n",
    "ax2.set_xlabel('iteration step')\n",
    "plt.show()"
   ],
   "id": "68ba95b0c6b12d6a",
   "outputs": [
    {
     "data": {
      "text/plain": [
       "<Figure size 1200x400 with 2 Axes>"
      ],
      "image/png": "[encoded data removed]"
     },
     "metadata": {},
     "output_type": "display_data"
    }
   ],
   "execution_count": 35
  },
  {
   "metadata": {},
   "cell_type": "markdown",
   "source": [
    "- 预测\n",
    "\n",
    "现在您已经找到了参数 w 和 b的最优值，现在可以使用模型根据我们学习到的参数来预测没有见过的数据。"
   ],
   "id": "ceb0c945f5d830d0"
  },
  {
   "metadata": {
    "ExecuteTime": {
     "end_time": "2025-07-10T16:13:09.568689Z",
     "start_time": "2025-07-10T16:13:09.553071Z"
    }
   },
   "cell_type": "code",
   "source": "# TODO： 自己任意定义不在训练集里的x，用学习到的参数w和b预测x对应的y",
   "id": "679054c1d9b26c96",
   "outputs": [],
   "execution_count": 37
  },
  {
   "metadata": {},
   "cell_type": "markdown",
   "source": [
    "- 增加学习率alpha\n",
    "\n",
    "我们讨论了梯度下降中学习率 alpha 的合理取值。𝛼 越大，梯度下降收敛速度越快。但是，如果 𝛼 过大，梯度下降就会发散。上面有一个收敛效果良好的解的例子。\n",
    "我们试着增加 𝛼 的值，看看会发生什么："
   ],
   "id": "2f79cb84f831c657"
  },
  {
   "metadata": {
    "ExecuteTime": {
     "end_time": "2025-07-10T16:19:44.027401Z",
     "start_time": "2025-07-10T16:19:44.011785Z"
    }
   },
   "cell_type": "code",
   "source": [
    "# 初始化参数\n",
    "w_init = 0\n",
    "b_init = 0\n",
    "\n",
    "# 设置学习率\n",
    "iterations = 10\n",
    "tmp_alpha = ... # TODO： 设置一个相对较大的alpha （0.8-2之间）\n",
    "\n",
    "# 运行梯度下降\n",
    "w_final, b_final, J_hist, p_hist = gradient_descent(x_train ,y_train, w_init, b_init, tmp_alpha,\n",
    "                                                    iterations, compute_cost, compute_gradient)"
   ],
   "id": "131d0727577e193",
   "outputs": [
    {
     "name": "stdout",
     "output_type": "stream",
     "text": [
      "迭代    0:  成本 7.04e+03  dj_dw: -2.831e+01, dj_db: -4.474e+00  w:  2.265e+01, b:  3.57933e+00\n",
      "迭代    1:  成本 3.52e+06  dj_dw:  6.332e+02, dj_db:  1.010e+02  w: -4.839e+02, b: -7.72307e+01\n",
      "迭代    2:  成本 1.76e+09  dj_dw: -1.417e+04, dj_db: -2.259e+03  w:  1.085e+04, b:  1.73026e+03\n",
      "迭代    3:  成本 8.83e+11  dj_dw:  3.170e+05, dj_db:  5.055e+04  w: -2.427e+05, b: -3.87112e+04\n",
      "迭代    4:  成本 4.42e+14  dj_dw: -7.092e+06, dj_db: -1.131e+06  w:  5.431e+06, b:  8.66130e+05\n",
      "迭代    5:  成本 2.21e+17  dj_dw:  1.587e+08, dj_db:  2.531e+07  w: -1.215e+08, b: -1.93789e+07\n",
      "迭代    6:  成本 1.11e+20  dj_dw: -3.550e+09, dj_db: -5.662e+08  w:  2.719e+09, b:  4.33585e+08\n",
      "迭代    7:  成本 5.54e+22  dj_dw:  7.944e+10, dj_db:  1.267e+10  w: -6.083e+10, b: -9.70108e+09\n",
      "迭代    8:  成本 2.78e+25  dj_dw: -1.777e+12, dj_db: -2.834e+11  w:  1.361e+12, b:  2.17053e+11\n",
      "迭代    9:  成本 1.39e+28  dj_dw:  3.977e+13, dj_db:  6.342e+12  w: -3.045e+13, b: -4.85637e+12\n"
     ]
    }
   ],
   "execution_count": 38
  },
  {
   "metadata": {},
   "cell_type": "code",
   "outputs": [],
   "execution_count": null,
   "source": "",
   "id": "a566c0568799a4de"
  }
 ],
 "metadata": {
  "kernelspec": {
   "display_name": "Python 3",
   "language": "python",
   "name": "python3"
  },
  "language_info": {
   "codemirror_mode": {
    "name": "ipython",
    "version": 2
   },
   "file_extension": ".py",
   "mimetype": "text/x-python",
   "name": "python",
   "nbconvert_exporter": "python",
   "pygments_lexer": "ipython2",
   "version": "2.7.6"
  }
 },
 "nbformat": 4,
 "nbformat_minor": 5
}
